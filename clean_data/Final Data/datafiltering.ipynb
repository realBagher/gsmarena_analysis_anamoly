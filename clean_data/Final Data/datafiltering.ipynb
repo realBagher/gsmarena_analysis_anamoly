{
 "cells": [
  {
   "cell_type": "code",
   "execution_count": 297,
   "metadata": {},
   "outputs": [],
   "source": [
    "import pandas as pd"
   ]
  },
  {
   "cell_type": "markdown",
   "metadata": {},
   "source": [
    "#### Import 3 parts "
   ]
  },
  {
   "cell_type": "code",
   "execution_count": 298,
   "metadata": {},
   "outputs": [],
   "source": [
    "devices_1 = pd.read_csv('clean_data_part1/Device_df_part1.csv')\n",
    "devices_2 = pd.read_csv('clean_data_part2/merged_data_result.csv')"
   ]
  },
  {
   "cell_type": "code",
   "execution_count": 299,
   "metadata": {},
   "outputs": [],
   "source": [
    "devices_2.rename(columns = {'Phone' : 'Device'} , inplace = True )"
   ]
  },
  {
   "cell_type": "code",
   "execution_count": 300,
   "metadata": {},
   "outputs": [],
   "source": [
    "battery = pd.read_csv('clean_data_part3/BatterymAh.csv')\n",
    "price = pd.read_csv('clean_data_part3/Price.csv')\n",
    "chipset = pd.read_csv('clean_data_part3/Chipset.csv')\n",
    "gpu = pd.read_csv('clean_data_part3/GPU.csv')\n",
    "display = pd.read_csv('clean_data_part3/DisplayType.csv')"
   ]
  },
  {
   "cell_type": "code",
   "execution_count": 301,
   "metadata": {},
   "outputs": [],
   "source": [
    "battery.set_index('phone' , inplace=True)\n",
    "price.set_index('phone' , inplace=True)\n",
    "chipset.set_index('phone' , inplace=True)\n",
    "gpu.set_index('phone' , inplace=True)\n",
    "display.set_index('phone' , inplace=True)"
   ]
  },
  {
   "cell_type": "code",
   "execution_count": 302,
   "metadata": {},
   "outputs": [
    {
     "data": {
      "text/html": [
       "<div>\n",
       "<style scoped>\n",
       "    .dataframe tbody tr th:only-of-type {\n",
       "        vertical-align: middle;\n",
       "    }\n",
       "\n",
       "    .dataframe tbody tr th {\n",
       "        vertical-align: top;\n",
       "    }\n",
       "\n",
       "    .dataframe thead th {\n",
       "        text-align: right;\n",
       "    }\n",
       "</style>\n",
       "<table border=\"1\" class=\"dataframe\">\n",
       "  <thead>\n",
       "    <tr style=\"text-align: right;\">\n",
       "      <th></th>\n",
       "      <th>BatterymAh</th>\n",
       "      <th>price_prep</th>\n",
       "      <th>Chipset</th>\n",
       "      <th>GPU</th>\n",
       "      <th>display_type_prep</th>\n",
       "    </tr>\n",
       "    <tr>\n",
       "      <th>phone</th>\n",
       "      <th></th>\n",
       "      <th></th>\n",
       "      <th></th>\n",
       "      <th></th>\n",
       "      <th></th>\n",
       "    </tr>\n",
       "  </thead>\n",
       "  <tbody>\n",
       "    <tr>\n",
       "      <th>1</th>\n",
       "      <td>2000</td>\n",
       "      <td>60 EUR</td>\n",
       "      <td>Mediatek MT6739 (28 nm)</td>\n",
       "      <td>PowerVR GE8100</td>\n",
       "      <td>TFT</td>\n",
       "    </tr>\n",
       "    <tr>\n",
       "      <th>1</th>\n",
       "      <td>2000</td>\n",
       "      <td>60 EUR</td>\n",
       "      <td>Mediatek MT6739 (28 nm)</td>\n",
       "      <td>PowerVR GE8100</td>\n",
       "      <td>IPS</td>\n",
       "    </tr>\n",
       "    <tr>\n",
       "      <th>1</th>\n",
       "      <td>2000</td>\n",
       "      <td>60 EUR</td>\n",
       "      <td>Mediatek MT6739 (28 nm)</td>\n",
       "      <td>Mali-T720MP1</td>\n",
       "      <td>TFT</td>\n",
       "    </tr>\n",
       "    <tr>\n",
       "      <th>1</th>\n",
       "      <td>2000</td>\n",
       "      <td>60 EUR</td>\n",
       "      <td>Mediatek MT6739 (28 nm)</td>\n",
       "      <td>Mali-T720MP1</td>\n",
       "      <td>IPS</td>\n",
       "    </tr>\n",
       "    <tr>\n",
       "      <th>1</th>\n",
       "      <td>2000</td>\n",
       "      <td>60 EUR</td>\n",
       "      <td>Mediatek MT6737M (28 nm)</td>\n",
       "      <td>PowerVR GE8100</td>\n",
       "      <td>TFT</td>\n",
       "    </tr>\n",
       "    <tr>\n",
       "      <th>...</th>\n",
       "      <td>...</td>\n",
       "      <td>...</td>\n",
       "      <td>...</td>\n",
       "      <td>...</td>\n",
       "      <td>...</td>\n",
       "    </tr>\n",
       "    <tr>\n",
       "      <th>nubia Z7 Max</th>\n",
       "      <td>3100</td>\n",
       "      <td>240 EUR</td>\n",
       "      <td>Qualcomm MSM8974AC Snapdragon 801 (28 nm)</td>\n",
       "      <td>Adreno 330</td>\n",
       "      <td>IPS</td>\n",
       "    </tr>\n",
       "    <tr>\n",
       "      <th>nubia Z7 mini</th>\n",
       "      <td>2300</td>\n",
       "      <td>180 EUR</td>\n",
       "      <td>Qualcomm MSM8974AA Snapdragon 801 (28 nm)</td>\n",
       "      <td>Adreno 330</td>\n",
       "      <td>IPS</td>\n",
       "    </tr>\n",
       "    <tr>\n",
       "      <th>nubia Z9</th>\n",
       "      <td>2900</td>\n",
       "      <td>350 EUR</td>\n",
       "      <td>Qualcomm MSM8994 Snapdragon 810 (20 nm)</td>\n",
       "      <td>Adreno 430</td>\n",
       "      <td>IPS</td>\n",
       "    </tr>\n",
       "    <tr>\n",
       "      <th>nubia Z9 Max</th>\n",
       "      <td>2900</td>\n",
       "      <td>200 EUR</td>\n",
       "      <td>Qualcomm MSM8994 Snapdragon 810 (20 nm)</td>\n",
       "      <td>Adreno 430</td>\n",
       "      <td>IPS</td>\n",
       "    </tr>\n",
       "    <tr>\n",
       "      <th>nubia Z9 mini</th>\n",
       "      <td>2900</td>\n",
       "      <td>170 EUR</td>\n",
       "      <td>Qualcomm MSM8939 Snapdragon 615 (28 nm)</td>\n",
       "      <td>Adreno 405</td>\n",
       "      <td>IPS</td>\n",
       "    </tr>\n",
       "  </tbody>\n",
       "</table>\n",
       "<p>5813 rows × 5 columns</p>\n",
       "</div>"
      ],
      "text/plain": [
       "              BatterymAh price_prep  \\\n",
       "phone                                 \n",
       "1                   2000     60 EUR   \n",
       "1                   2000     60 EUR   \n",
       "1                   2000     60 EUR   \n",
       "1                   2000     60 EUR   \n",
       "1                   2000     60 EUR   \n",
       "...                  ...        ...   \n",
       "nubia Z7 Max        3100    240 EUR   \n",
       "nubia Z7 mini       2300    180 EUR   \n",
       "nubia Z9            2900    350 EUR   \n",
       "nubia Z9 Max        2900    200 EUR   \n",
       "nubia Z9 mini       2900    170 EUR   \n",
       "\n",
       "                                                 Chipset             GPU  \\\n",
       "phone                                                                      \n",
       "1                                Mediatek MT6739 (28 nm)  PowerVR GE8100   \n",
       "1                                Mediatek MT6739 (28 nm)  PowerVR GE8100   \n",
       "1                                Mediatek MT6739 (28 nm)    Mali-T720MP1   \n",
       "1                                Mediatek MT6739 (28 nm)    Mali-T720MP1   \n",
       "1                               Mediatek MT6737M (28 nm)  PowerVR GE8100   \n",
       "...                                                  ...             ...   \n",
       "nubia Z7 Max   Qualcomm MSM8974AC Snapdragon 801 (28 nm)      Adreno 330   \n",
       "nubia Z7 mini  Qualcomm MSM8974AA Snapdragon 801 (28 nm)      Adreno 330   \n",
       "nubia Z9         Qualcomm MSM8994 Snapdragon 810 (20 nm)      Adreno 430   \n",
       "nubia Z9 Max     Qualcomm MSM8994 Snapdragon 810 (20 nm)      Adreno 430   \n",
       "nubia Z9 mini    Qualcomm MSM8939 Snapdragon 615 (28 nm)      Adreno 405   \n",
       "\n",
       "              display_type_prep  \n",
       "phone                            \n",
       "1                           TFT  \n",
       "1                           IPS  \n",
       "1                           TFT  \n",
       "1                           IPS  \n",
       "1                           TFT  \n",
       "...                         ...  \n",
       "nubia Z7 Max                IPS  \n",
       "nubia Z7 mini               IPS  \n",
       "nubia Z9                    IPS  \n",
       "nubia Z9 Max                IPS  \n",
       "nubia Z9 mini               IPS  \n",
       "\n",
       "[5813 rows x 5 columns]"
      ]
     },
     "execution_count": 302,
     "metadata": {},
     "output_type": "execute_result"
    }
   ],
   "source": [
    "devices_3 = battery.join(price , how='outer').join(chipset , how='outer').join(gpu , how='outer').join(display , how='outer')\n",
    "devices_3"
   ]
  },
  {
   "cell_type": "code",
   "execution_count": 303,
   "metadata": {},
   "outputs": [],
   "source": [
    "devices_3  = devices_3[~ devices_3.index.duplicated(keep='first')]\n"
   ]
  },
  {
   "cell_type": "code",
   "execution_count": 304,
   "metadata": {},
   "outputs": [],
   "source": [
    "devices_3.reset_index(inplace=True)"
   ]
  },
  {
   "cell_type": "code",
   "execution_count": 305,
   "metadata": {},
   "outputs": [],
   "source": [
    "#devices_3 = price.merge(battery).merge(chipset).merge(gpu).merge(display)"
   ]
  },
  {
   "cell_type": "code",
   "execution_count": 306,
   "metadata": {},
   "outputs": [
    {
     "name": "stderr",
     "output_type": "stream",
     "text": [
      "/var/folders/6x/z0_0651n5712p67md5wx1fpm0000gn/T/ipykernel_20900/450564412.py:1: SettingWithCopyWarning: \n",
      "A value is trying to be set on a copy of a slice from a DataFrame\n",
      "\n",
      "See the caveats in the documentation: https://pandas.pydata.org/pandas-docs/stable/user_guide/indexing.html#returning-a-view-versus-a-copy\n",
      "  devices_3.rename(columns = {'phone' : 'Device'} , inplace = True )\n"
     ]
    }
   ],
   "source": [
    "devices_3.rename(columns = {'phone' : 'Device'} , inplace = True )"
   ]
  },
  {
   "cell_type": "code",
   "execution_count": 307,
   "metadata": {},
   "outputs": [
    {
     "data": {
      "text/plain": [
       "5310"
      ]
     },
     "execution_count": 307,
     "metadata": {},
     "output_type": "execute_result"
    }
   ],
   "source": [
    "devices_3['Device'].nunique()"
   ]
  },
  {
   "cell_type": "markdown",
   "metadata": {},
   "source": [
    "#### Combining 3 parts "
   ]
  },
  {
   "cell_type": "code",
   "execution_count": 308,
   "metadata": {},
   "outputs": [],
   "source": [
    "test = devices_3.merge(devices_2).merge(devices_1)"
   ]
  },
  {
   "cell_type": "code",
   "execution_count": 309,
   "metadata": {},
   "outputs": [
    {
     "data": {
      "text/plain": [
       "(5512, 30)"
      ]
     },
     "execution_count": 309,
     "metadata": {},
     "output_type": "execute_result"
    }
   ],
   "source": [
    "test.shape"
   ]
  },
  {
   "cell_type": "code",
   "execution_count": 310,
   "metadata": {},
   "outputs": [],
   "source": [
    "test = test[~ test.Device.duplicated(keep='first')]"
   ]
  },
  {
   "cell_type": "code",
   "execution_count": 311,
   "metadata": {},
   "outputs": [
    {
     "data": {
      "text/plain": [
       "((5310, 30), 5310)"
      ]
     },
     "execution_count": 311,
     "metadata": {},
     "output_type": "execute_result"
    }
   ],
   "source": [
    "test.shape , test['Device'].nunique()"
   ]
  },
  {
   "cell_type": "code",
   "execution_count": 312,
   "metadata": {},
   "outputs": [
    {
     "data": {
      "text/plain": [
       "(578, 2027, 2066, 2180, 2)"
      ]
     },
     "execution_count": 312,
     "metadata": {},
     "output_type": "execute_result"
    }
   ],
   "source": [
    "test['main_camera_configuration'].isnull().sum() , test['selfie_camera_configuration'].isnull().sum() , test['Chipset'].isnull().sum() , test['GPU'].isnull().sum() , test['display_type_prep'].isnull().sum()"
   ]
  },
  {
   "cell_type": "code",
   "execution_count": 313,
   "metadata": {},
   "outputs": [],
   "source": [
    "test['main_camera_configuration'] = test['main_camera_configuration'].fillna('None')\n",
    "test['selfie_camera_configuration'] = test['selfie_camera_configuration'].fillna('None')\n",
    "test['Chipset'] = test['Chipset'].fillna('None')\n",
    "test['GPU'] = test['GPU'].fillna('None')\n",
    "test['display_type_prep'] = test['display_type_prep'].fillna('None')"
   ]
  },
  {
   "cell_type": "code",
   "execution_count": 314,
   "metadata": {},
   "outputs": [
    {
     "data": {
      "text/plain": [
       "(0, 0, 0, 0, 0)"
      ]
     },
     "execution_count": 314,
     "metadata": {},
     "output_type": "execute_result"
    }
   ],
   "source": [
    "test['main_camera_configuration'].isnull().sum() , test['selfie_camera_configuration'].isnull().sum() , test['Chipset'].isnull().sum() , test['GPU'].isnull().sum() , test['display_type_prep'].isnull().sum()\n"
   ]
  },
  {
   "cell_type": "code",
   "execution_count": 315,
   "metadata": {},
   "outputs": [
    {
     "data": {
      "text/plain": [
       "5310"
      ]
     },
     "execution_count": 315,
     "metadata": {},
     "output_type": "execute_result"
    }
   ],
   "source": [
    "test['Device'].nunique()"
   ]
  },
  {
   "cell_type": "code",
   "execution_count": 316,
   "metadata": {},
   "outputs": [
    {
     "data": {
      "text/plain": [
       "Device                            0\n",
       "BatterymAh                      289\n",
       "price_prep                      967\n",
       "Chipset                           0\n",
       "GPU                               0\n",
       "display_type_prep                 0\n",
       "Brand                             0\n",
       "GPRS                              0\n",
       "EDGE                              0\n",
       "LunchDate                        69\n",
       "Status                          309\n",
       "Weight                          303\n",
       "Body_x                          132\n",
       "Body_y                          132\n",
       "Body_z                          132\n",
       "DisplaySize                     729\n",
       "DisplayArea                     729\n",
       "pixel_y                         725\n",
       "pixel_x                         725\n",
       "Display_Resolution_ratio       1574\n",
       "ppi_dencity                    1083\n",
       "OS                             1543\n",
       "CPUCoreCount                   2330\n",
       "main_camera_configuration         0\n",
       "selfie_camera_configuration       0\n",
       "has_loudspeaker                   0\n",
       "has_jack                          0\n",
       "WLAN                              4\n",
       "NFC                               0\n",
       "bluetooth_version               567\n",
       "dtype: int64"
      ]
     },
     "execution_count": 316,
     "metadata": {},
     "output_type": "execute_result"
    }
   ],
   "source": [
    "test.isnull().sum()"
   ]
  },
  {
   "cell_type": "code",
   "execution_count": 317,
   "metadata": {},
   "outputs": [
    {
     "data": {
      "text/plain": [
       "2230"
      ]
     },
     "execution_count": 317,
     "metadata": {},
     "output_type": "execute_result"
    }
   ],
   "source": [
    "len(set(test['Device']).intersection(set(sim['Device'].unique())))"
   ]
  },
  {
   "cell_type": "markdown",
   "metadata": {},
   "source": [
    "#### Drop NullValues and Clean Device df "
   ]
  },
  {
   "cell_type": "code",
   "execution_count": 318,
   "metadata": {},
   "outputs": [
    {
     "data": {
      "text/html": [
       "<div>\n",
       "<style scoped>\n",
       "    .dataframe tbody tr th:only-of-type {\n",
       "        vertical-align: middle;\n",
       "    }\n",
       "\n",
       "    .dataframe tbody tr th {\n",
       "        vertical-align: top;\n",
       "    }\n",
       "\n",
       "    .dataframe thead th {\n",
       "        text-align: right;\n",
       "    }\n",
       "</style>\n",
       "<table border=\"1\" class=\"dataframe\">\n",
       "  <thead>\n",
       "    <tr style=\"text-align: right;\">\n",
       "      <th></th>\n",
       "      <th>Device</th>\n",
       "      <th>BatterymAh</th>\n",
       "      <th>price_prep</th>\n",
       "      <th>Chipset</th>\n",
       "      <th>GPU</th>\n",
       "      <th>display_type_prep</th>\n",
       "      <th>Brand</th>\n",
       "      <th>GPRS</th>\n",
       "      <th>EDGE</th>\n",
       "      <th>LunchDate</th>\n",
       "      <th>...</th>\n",
       "      <th>ppi_dencity</th>\n",
       "      <th>OS</th>\n",
       "      <th>CPUCoreCount</th>\n",
       "      <th>main_camera_configuration</th>\n",
       "      <th>selfie_camera_configuration</th>\n",
       "      <th>has_loudspeaker</th>\n",
       "      <th>has_jack</th>\n",
       "      <th>WLAN</th>\n",
       "      <th>NFC</th>\n",
       "      <th>bluetooth_version</th>\n",
       "    </tr>\n",
       "  </thead>\n",
       "  <tbody>\n",
       "    <tr>\n",
       "      <th>0</th>\n",
       "      <td>1</td>\n",
       "      <td>2000</td>\n",
       "      <td>60 EUR</td>\n",
       "      <td>Mediatek MT6739 (28 nm)</td>\n",
       "      <td>PowerVR GE8100</td>\n",
       "      <td>TFT</td>\n",
       "      <td>alcatel409</td>\n",
       "      <td>False</td>\n",
       "      <td>False</td>\n",
       "      <td>2018.0</td>\n",
       "      <td>...</td>\n",
       "      <td>215.0</td>\n",
       "      <td>Android 8.1 Oreo</td>\n",
       "      <td>4.0</td>\n",
       "      <td>Single</td>\n",
       "      <td>Single</td>\n",
       "      <td>True</td>\n",
       "      <td>True</td>\n",
       "      <td>Wi-Fi 802.11 b/g/n</td>\n",
       "      <td>False</td>\n",
       "      <td>4.2</td>\n",
       "    </tr>\n",
       "    <tr>\n",
       "      <th>4</th>\n",
       "      <td>1 (2021)</td>\n",
       "      <td>2000</td>\n",
       "      <td>60 EUR</td>\n",
       "      <td>Mediatek MT6739 (28 nm)</td>\n",
       "      <td>PowerVR GE8100</td>\n",
       "      <td>TFT</td>\n",
       "      <td>alcatel409</td>\n",
       "      <td>False</td>\n",
       "      <td>False</td>\n",
       "      <td>2021.0</td>\n",
       "      <td>...</td>\n",
       "      <td>215.0</td>\n",
       "      <td>Android 11</td>\n",
       "      <td>4.0</td>\n",
       "      <td>Single</td>\n",
       "      <td>Single</td>\n",
       "      <td>True</td>\n",
       "      <td>True</td>\n",
       "      <td>Wi-Fi 802.11 b/g/n</td>\n",
       "      <td>False</td>\n",
       "      <td>4.2</td>\n",
       "    </tr>\n",
       "    <tr>\n",
       "      <th>5</th>\n",
       "      <td>1 Plus</td>\n",
       "      <td>2500</td>\n",
       "      <td>80 EUR</td>\n",
       "      <td>Mediatek MT6739WW (28 nm)</td>\n",
       "      <td>PowerVR GE8100</td>\n",
       "      <td>IPS</td>\n",
       "      <td>Nokia576</td>\n",
       "      <td>False</td>\n",
       "      <td>False</td>\n",
       "      <td>2019.0</td>\n",
       "      <td>...</td>\n",
       "      <td>197.0</td>\n",
       "      <td>Android 9.0 Pie</td>\n",
       "      <td>4.0</td>\n",
       "      <td>Single</td>\n",
       "      <td>Single</td>\n",
       "      <td>True</td>\n",
       "      <td>True</td>\n",
       "      <td>Wi-Fi 802.11 a/b/g/n</td>\n",
       "      <td>False</td>\n",
       "      <td>4.2</td>\n",
       "    </tr>\n",
       "    <tr>\n",
       "      <th>6</th>\n",
       "      <td>1.3</td>\n",
       "      <td>3000</td>\n",
       "      <td>170 EUR</td>\n",
       "      <td>Qualcomm QM215 Snapdragon 215 (28 nm)</td>\n",
       "      <td>Adreno 308</td>\n",
       "      <td>IPS</td>\n",
       "      <td>Nokia576</td>\n",
       "      <td>False</td>\n",
       "      <td>False</td>\n",
       "      <td>2020.0</td>\n",
       "      <td>...</td>\n",
       "      <td>295.0</td>\n",
       "      <td>Android 10</td>\n",
       "      <td>4.0</td>\n",
       "      <td>Single</td>\n",
       "      <td>Single</td>\n",
       "      <td>True</td>\n",
       "      <td>True</td>\n",
       "      <td>Wi-Fi 802.11 b/g/n</td>\n",
       "      <td>False</td>\n",
       "      <td>4.2</td>\n",
       "    </tr>\n",
       "    <tr>\n",
       "      <th>7</th>\n",
       "      <td>1.4</td>\n",
       "      <td>4000</td>\n",
       "      <td>90 EUR</td>\n",
       "      <td>Qualcomm QM215 Snapdragon 215 (28 nm)</td>\n",
       "      <td>Adreno 308</td>\n",
       "      <td>IPS</td>\n",
       "      <td>Nokia576</td>\n",
       "      <td>False</td>\n",
       "      <td>False</td>\n",
       "      <td>2021.0</td>\n",
       "      <td>...</td>\n",
       "      <td>269.0</td>\n",
       "      <td>Android 10</td>\n",
       "      <td>4.0</td>\n",
       "      <td>Dual</td>\n",
       "      <td>Single</td>\n",
       "      <td>True</td>\n",
       "      <td>True</td>\n",
       "      <td>Wi-Fi 802.11 b/g/n</td>\n",
       "      <td>False</td>\n",
       "      <td>4.2</td>\n",
       "    </tr>\n",
       "    <tr>\n",
       "      <th>...</th>\n",
       "      <td>...</td>\n",
       "      <td>...</td>\n",
       "      <td>...</td>\n",
       "      <td>...</td>\n",
       "      <td>...</td>\n",
       "      <td>...</td>\n",
       "      <td>...</td>\n",
       "      <td>...</td>\n",
       "      <td>...</td>\n",
       "      <td>...</td>\n",
       "      <td>...</td>\n",
       "      <td>...</td>\n",
       "      <td>...</td>\n",
       "      <td>...</td>\n",
       "      <td>...</td>\n",
       "      <td>...</td>\n",
       "      <td>...</td>\n",
       "      <td>...</td>\n",
       "      <td>...</td>\n",
       "      <td>...</td>\n",
       "      <td>...</td>\n",
       "    </tr>\n",
       "    <tr>\n",
       "      <th>5507</th>\n",
       "      <td>nubia Z7 Max</td>\n",
       "      <td>3100</td>\n",
       "      <td>240 EUR</td>\n",
       "      <td>Qualcomm MSM8974AC Snapdragon 801 (28 nm)</td>\n",
       "      <td>Adreno 330</td>\n",
       "      <td>IPS</td>\n",
       "      <td>ZTE369</td>\n",
       "      <td>False</td>\n",
       "      <td>False</td>\n",
       "      <td>2014.0</td>\n",
       "      <td>...</td>\n",
       "      <td>403.0</td>\n",
       "      <td>Android 4.4.2</td>\n",
       "      <td>4.0</td>\n",
       "      <td>Single</td>\n",
       "      <td>Single</td>\n",
       "      <td>True</td>\n",
       "      <td>True</td>\n",
       "      <td>Wi-Fi 802.11 a/b/g/n/ac</td>\n",
       "      <td>True</td>\n",
       "      <td>4.0</td>\n",
       "    </tr>\n",
       "    <tr>\n",
       "      <th>5508</th>\n",
       "      <td>nubia Z7 mini</td>\n",
       "      <td>2300</td>\n",
       "      <td>180 EUR</td>\n",
       "      <td>Qualcomm MSM8974AA Snapdragon 801 (28 nm)</td>\n",
       "      <td>Adreno 330</td>\n",
       "      <td>IPS</td>\n",
       "      <td>ZTE369</td>\n",
       "      <td>False</td>\n",
       "      <td>False</td>\n",
       "      <td>2014.0</td>\n",
       "      <td>...</td>\n",
       "      <td>445.0</td>\n",
       "      <td>Android 4.4.2</td>\n",
       "      <td>4.0</td>\n",
       "      <td>Single</td>\n",
       "      <td>Single</td>\n",
       "      <td>True</td>\n",
       "      <td>True</td>\n",
       "      <td>Wi-Fi 802.11 a/b/g/n/ac</td>\n",
       "      <td>False</td>\n",
       "      <td>4.0</td>\n",
       "    </tr>\n",
       "    <tr>\n",
       "      <th>5509</th>\n",
       "      <td>nubia Z9</td>\n",
       "      <td>2900</td>\n",
       "      <td>350 EUR</td>\n",
       "      <td>Qualcomm MSM8994 Snapdragon 810 (20 nm)</td>\n",
       "      <td>Adreno 430</td>\n",
       "      <td>IPS</td>\n",
       "      <td>ZTE369</td>\n",
       "      <td>False</td>\n",
       "      <td>False</td>\n",
       "      <td>2015.0</td>\n",
       "      <td>...</td>\n",
       "      <td>424.0</td>\n",
       "      <td>Android 5.2</td>\n",
       "      <td>8.0</td>\n",
       "      <td>Single</td>\n",
       "      <td>Single</td>\n",
       "      <td>True</td>\n",
       "      <td>True</td>\n",
       "      <td>Wi-Fi 802.11 a/b/g/n/ac</td>\n",
       "      <td>True</td>\n",
       "      <td>4.1</td>\n",
       "    </tr>\n",
       "    <tr>\n",
       "      <th>5510</th>\n",
       "      <td>nubia Z9 Max</td>\n",
       "      <td>2900</td>\n",
       "      <td>200 EUR</td>\n",
       "      <td>Qualcomm MSM8994 Snapdragon 810 (20 nm)</td>\n",
       "      <td>Adreno 430</td>\n",
       "      <td>IPS</td>\n",
       "      <td>ZTE369</td>\n",
       "      <td>False</td>\n",
       "      <td>False</td>\n",
       "      <td>2015.0</td>\n",
       "      <td>...</td>\n",
       "      <td>401.0</td>\n",
       "      <td>Android 5.0.2</td>\n",
       "      <td>8.0</td>\n",
       "      <td>Single</td>\n",
       "      <td>Single</td>\n",
       "      <td>True</td>\n",
       "      <td>False</td>\n",
       "      <td>Wi-Fi 802.11 a/b/g/n/ac</td>\n",
       "      <td>True</td>\n",
       "      <td>4.1</td>\n",
       "    </tr>\n",
       "    <tr>\n",
       "      <th>5511</th>\n",
       "      <td>nubia Z9 mini</td>\n",
       "      <td>2900</td>\n",
       "      <td>170 EUR</td>\n",
       "      <td>Qualcomm MSM8939 Snapdragon 615 (28 nm)</td>\n",
       "      <td>Adreno 405</td>\n",
       "      <td>IPS</td>\n",
       "      <td>ZTE369</td>\n",
       "      <td>False</td>\n",
       "      <td>False</td>\n",
       "      <td>2015.0</td>\n",
       "      <td>...</td>\n",
       "      <td>441.0</td>\n",
       "      <td>Android 5.0.2</td>\n",
       "      <td>8.0</td>\n",
       "      <td>Single</td>\n",
       "      <td>Single</td>\n",
       "      <td>True</td>\n",
       "      <td>True</td>\n",
       "      <td>Wi-Fi 802.11 a/b/g/n/ac</td>\n",
       "      <td>False</td>\n",
       "      <td>4.0</td>\n",
       "    </tr>\n",
       "  </tbody>\n",
       "</table>\n",
       "<p>2329 rows × 30 columns</p>\n",
       "</div>"
      ],
      "text/plain": [
       "             Device BatterymAh price_prep  \\\n",
       "0                 1       2000     60 EUR   \n",
       "4          1 (2021)       2000     60 EUR   \n",
       "5            1 Plus       2500     80 EUR   \n",
       "6               1.3       3000    170 EUR   \n",
       "7               1.4       4000     90 EUR   \n",
       "...             ...        ...        ...   \n",
       "5507   nubia Z7 Max       3100    240 EUR   \n",
       "5508  nubia Z7 mini       2300    180 EUR   \n",
       "5509       nubia Z9       2900    350 EUR   \n",
       "5510   nubia Z9 Max       2900    200 EUR   \n",
       "5511  nubia Z9 mini       2900    170 EUR   \n",
       "\n",
       "                                        Chipset             GPU  \\\n",
       "0                       Mediatek MT6739 (28 nm)  PowerVR GE8100   \n",
       "4                       Mediatek MT6739 (28 nm)  PowerVR GE8100   \n",
       "5                     Mediatek MT6739WW (28 nm)  PowerVR GE8100   \n",
       "6         Qualcomm QM215 Snapdragon 215 (28 nm)      Adreno 308   \n",
       "7         Qualcomm QM215 Snapdragon 215 (28 nm)      Adreno 308   \n",
       "...                                         ...             ...   \n",
       "5507  Qualcomm MSM8974AC Snapdragon 801 (28 nm)      Adreno 330   \n",
       "5508  Qualcomm MSM8974AA Snapdragon 801 (28 nm)      Adreno 330   \n",
       "5509    Qualcomm MSM8994 Snapdragon 810 (20 nm)      Adreno 430   \n",
       "5510    Qualcomm MSM8994 Snapdragon 810 (20 nm)      Adreno 430   \n",
       "5511    Qualcomm MSM8939 Snapdragon 615 (28 nm)      Adreno 405   \n",
       "\n",
       "     display_type_prep       Brand   GPRS   EDGE  LunchDate  ... ppi_dencity  \\\n",
       "0                  TFT  alcatel409  False  False     2018.0  ...       215.0   \n",
       "4                  TFT  alcatel409  False  False     2021.0  ...       215.0   \n",
       "5                  IPS    Nokia576  False  False     2019.0  ...       197.0   \n",
       "6                  IPS    Nokia576  False  False     2020.0  ...       295.0   \n",
       "7                  IPS    Nokia576  False  False     2021.0  ...       269.0   \n",
       "...                ...         ...    ...    ...        ...  ...         ...   \n",
       "5507               IPS      ZTE369  False  False     2014.0  ...       403.0   \n",
       "5508               IPS      ZTE369  False  False     2014.0  ...       445.0   \n",
       "5509               IPS      ZTE369  False  False     2015.0  ...       424.0   \n",
       "5510               IPS      ZTE369  False  False     2015.0  ...       401.0   \n",
       "5511               IPS      ZTE369  False  False     2015.0  ...       441.0   \n",
       "\n",
       "                     OS  CPUCoreCount  main_camera_configuration  \\\n",
       "0     Android 8.1 Oreo            4.0                     Single   \n",
       "4           Android 11            4.0                     Single   \n",
       "5      Android 9.0 Pie            4.0                     Single   \n",
       "6           Android 10            4.0                     Single   \n",
       "7           Android 10            4.0                       Dual   \n",
       "...                 ...           ...                        ...   \n",
       "5507     Android 4.4.2            4.0                     Single   \n",
       "5508     Android 4.4.2            4.0                     Single   \n",
       "5509       Android 5.2            8.0                     Single   \n",
       "5510     Android 5.0.2            8.0                     Single   \n",
       "5511     Android 5.0.2            8.0                     Single   \n",
       "\n",
       "      selfie_camera_configuration  has_loudspeaker  has_jack  \\\n",
       "0                          Single             True      True   \n",
       "4                          Single             True      True   \n",
       "5                          Single             True      True   \n",
       "6                          Single             True      True   \n",
       "7                          Single             True      True   \n",
       "...                           ...              ...       ...   \n",
       "5507                       Single             True      True   \n",
       "5508                       Single             True      True   \n",
       "5509                       Single             True      True   \n",
       "5510                       Single             True     False   \n",
       "5511                       Single             True      True   \n",
       "\n",
       "                         WLAN    NFC bluetooth_version  \n",
       "0          Wi-Fi 802.11 b/g/n  False               4.2  \n",
       "4          Wi-Fi 802.11 b/g/n  False               4.2  \n",
       "5        Wi-Fi 802.11 a/b/g/n  False               4.2  \n",
       "6          Wi-Fi 802.11 b/g/n  False               4.2  \n",
       "7          Wi-Fi 802.11 b/g/n  False               4.2  \n",
       "...                       ...    ...               ...  \n",
       "5507  Wi-Fi 802.11 a/b/g/n/ac   True               4.0  \n",
       "5508  Wi-Fi 802.11 a/b/g/n/ac  False               4.0  \n",
       "5509  Wi-Fi 802.11 a/b/g/n/ac   True               4.1  \n",
       "5510  Wi-Fi 802.11 a/b/g/n/ac   True               4.1  \n",
       "5511  Wi-Fi 802.11 a/b/g/n/ac  False               4.0  \n",
       "\n",
       "[2329 rows x 30 columns]"
      ]
     },
     "execution_count": 318,
     "metadata": {},
     "output_type": "execute_result"
    }
   ],
   "source": [
    "df  = test.dropna()\n",
    "df "
   ]
  },
  {
   "cell_type": "code",
   "execution_count": 319,
   "metadata": {},
   "outputs": [
    {
     "data": {
      "text/plain": [
       "0"
      ]
     },
     "execution_count": 319,
     "metadata": {},
     "output_type": "execute_result"
    }
   ],
   "source": [
    "(df == None).sum().sum()"
   ]
  },
  {
   "cell_type": "code",
   "execution_count": 320,
   "metadata": {},
   "outputs": [],
   "source": [
    "df = df[df['LunchDate'] >= 2010]"
   ]
  },
  {
   "cell_type": "code",
   "execution_count": 321,
   "metadata": {},
   "outputs": [
    {
     "data": {
      "text/plain": [
       "2325"
      ]
     },
     "execution_count": 321,
     "metadata": {},
     "output_type": "execute_result"
    }
   ],
   "source": [
    "df['Device'].nunique()"
   ]
  },
  {
   "cell_type": "code",
   "execution_count": 340,
   "metadata": {},
   "outputs": [],
   "source": [
    "df.to_csv('Devices.cvs' , index=False)"
   ]
  },
  {
   "cell_type": "markdown",
   "metadata": {},
   "source": [
    "#### Watch & Tablets"
   ]
  },
  {
   "cell_type": "code",
   "execution_count": 322,
   "metadata": {},
   "outputs": [
    {
     "name": "stdout",
     "output_type": "stream",
     "text": [
      "0 156\n"
     ]
    }
   ],
   "source": [
    "watches = []\n",
    "tablets = []\n",
    "for name in df['Device']:\n",
    "    if 'watch' in name  or 'Watch' in name:\n",
    "        watches.append(name)\n",
    "    if 'Tab' in name or 'tab' in name :\n",
    "        tablets.append(name)\n",
    "\n",
    "print(len(watches) , len(tablets))"
   ]
  },
  {
   "cell_type": "code",
   "execution_count": 323,
   "metadata": {},
   "outputs": [
    {
     "data": {
      "text/plain": [
       "['Ativ Tab P8510',\n",
       " 'Enjoy Tablet 2',\n",
       " 'Galaxy Tab 10.1 LTE I905',\n",
       " 'Galaxy Tab 10.1 P7510',\n",
       " 'Galaxy Tab 2 10.1 P5100',\n",
       " 'Galaxy Tab 2 10.1 P5110',\n",
       " 'Galaxy Tab 2 7.0 I705',\n",
       " 'Galaxy Tab 2 7.0 P3100',\n",
       " 'Galaxy Tab 2 7.0 P3110',\n",
       " 'Galaxy Tab 3 10.1 P5200',\n",
       " 'Galaxy Tab 3 10.1 P5210',\n",
       " 'Galaxy Tab 3 10.1 P5220',\n",
       " 'Galaxy Tab 3 7.0',\n",
       " 'Galaxy Tab 3 7.0 WiFi',\n",
       " 'Galaxy Tab 3 8.0',\n",
       " 'Galaxy Tab 3 Lite 7.0',\n",
       " 'Galaxy Tab 3 Lite 7.0 3G',\n",
       " 'Galaxy Tab 3 Lite 7.0 VE',\n",
       " 'Galaxy Tab 3 V',\n",
       " 'Galaxy Tab 4 10.1',\n",
       " 'Galaxy Tab 4 10.1 (2015)',\n",
       " 'Galaxy Tab 4 10.1 3G',\n",
       " 'Galaxy Tab 4 10.1 LTE',\n",
       " 'Galaxy Tab 4 7.0',\n",
       " 'Galaxy Tab 4 7.0 3G',\n",
       " 'Galaxy Tab 4 7.0 LTE',\n",
       " 'Galaxy Tab 4 8.0',\n",
       " 'Galaxy Tab 4 8.0 3G',\n",
       " 'Galaxy Tab 4 8.0 LTE',\n",
       " 'Galaxy Tab 7.7 LTE I815',\n",
       " 'Galaxy Tab 8.9 P7300',\n",
       " 'Galaxy Tab A 10.1 (2019)',\n",
       " 'Galaxy Tab A 10.5',\n",
       " 'Galaxy Tab A 7.0 (2016)',\n",
       " 'Galaxy Tab A 8.0 & S Pen (2015)',\n",
       " 'Galaxy Tab A 8.0 (2015)',\n",
       " 'Galaxy Tab A 8.0 (2017)',\n",
       " 'Galaxy Tab A 8.0 (2018)',\n",
       " 'Galaxy Tab A 8.0 (2019)',\n",
       " 'Galaxy Tab A 8.4 (2020)',\n",
       " 'Galaxy Tab A 9.7',\n",
       " 'Galaxy Tab A 9.7 & S Pen',\n",
       " 'Galaxy Tab A7 10.4 (2020)',\n",
       " 'Galaxy Tab A7 10.4 (2022)',\n",
       " 'Galaxy Tab A7 Lite',\n",
       " 'Galaxy Tab A8 10.5 (2021)',\n",
       " 'Galaxy Tab A9',\n",
       " 'Galaxy Tab Active',\n",
       " 'Galaxy Tab Active 2',\n",
       " 'Galaxy Tab Active LTE',\n",
       " 'Galaxy Tab Active Pro',\n",
       " 'Galaxy Tab Active3',\n",
       " 'Galaxy Tab Active4 Pro',\n",
       " 'Galaxy Tab Active5',\n",
       " 'Galaxy Tab Advanced2',\n",
       " 'Galaxy Tab E 8.0',\n",
       " 'Galaxy Tab E 9.6',\n",
       " 'Galaxy Tab Pro 10.1',\n",
       " 'Galaxy Tab Pro 10.1 LTE',\n",
       " 'Galaxy Tab Pro 12.2',\n",
       " 'Galaxy Tab Pro 12.2 3G',\n",
       " 'Galaxy Tab Pro 12.2 LTE',\n",
       " 'Galaxy Tab Pro 8.4',\n",
       " 'Galaxy Tab Pro 8.4 3G/LTE',\n",
       " 'Galaxy Tab S 10.5',\n",
       " 'Galaxy Tab S 10.5 LTE',\n",
       " 'Galaxy Tab S 8.4',\n",
       " 'Galaxy Tab S 8.4 LTE',\n",
       " 'Galaxy Tab S2 8.0',\n",
       " 'Galaxy Tab S2 9.7',\n",
       " 'Galaxy Tab S3 9.7',\n",
       " 'Galaxy Tab S4 10.5',\n",
       " 'Galaxy Tab S5e',\n",
       " 'Galaxy Tab S6',\n",
       " 'Galaxy Tab S6 5G',\n",
       " 'Galaxy Tab S6 Lite',\n",
       " 'Galaxy Tab S6 Lite (2022)',\n",
       " 'Galaxy Tab S7',\n",
       " 'Galaxy Tab S7 FE',\n",
       " 'Galaxy Tab S7+',\n",
       " 'Galaxy Tab S8',\n",
       " 'Galaxy Tab S8 Ultra',\n",
       " 'Galaxy Tab S8+',\n",
       " 'Galaxy Tab S9',\n",
       " 'Galaxy Tab S9 FE',\n",
       " 'Galaxy Tab S9 FE+',\n",
       " 'Galaxy Tab S9 Ultra',\n",
       " 'Galaxy Tab S9+',\n",
       " 'IdeaTab A1000',\n",
       " 'IdeaTab A3000',\n",
       " 'IdeaTab S6000F',\n",
       " 'IdeaTab S6000H',\n",
       " 'IdeaTab S6000L',\n",
       " 'One Touch Tab 7 HD',\n",
       " 'P6200 Galaxy Tab 7.0 Plus',\n",
       " 'P6800 Galaxy Tab 7.7',\n",
       " 'P7100 Galaxy Tab 10.1v',\n",
       " 'P7500 Galaxy Tab 10.1 3G',\n",
       " 'Smart Tab 7',\n",
       " 'Tab 2 A10-70',\n",
       " 'Tab 2 A7-10',\n",
       " 'Tab 2 A7-20',\n",
       " 'Tab 2 A7-30',\n",
       " 'Tab 2 A8-50',\n",
       " 'Tab 4 10',\n",
       " 'Tab 4 10 Plus',\n",
       " 'Tab 4 8',\n",
       " 'Tab 4 8 Plus',\n",
       " 'Tab 7',\n",
       " 'Tab 7 Essential',\n",
       " 'Tab Extreme',\n",
       " 'Tab K10',\n",
       " 'Tab M10',\n",
       " 'Tab M10 Gen 3',\n",
       " 'Tab M10 HD Gen 2',\n",
       " 'Tab M10 Plus (3rd Gen)',\n",
       " 'Tab M11',\n",
       " 'Tab M7',\n",
       " 'Tab M7 (3rd Gen)',\n",
       " 'Tab M8 (4th Gen)',\n",
       " 'Tab M8 (FHD)',\n",
       " 'Tab M8 (HD)',\n",
       " 'Tab M9',\n",
       " 'Tab P11',\n",
       " 'Tab P11 5G',\n",
       " 'Tab P11 Gen 2',\n",
       " 'Tab P11 Plus',\n",
       " 'Tab P11 Pro',\n",
       " 'Tab P11 Pro Gen 2',\n",
       " 'Tab P12',\n",
       " 'Tab P12 Pro',\n",
       " 'Tab S8',\n",
       " 'Tab V7',\n",
       " 'Tab3 10',\n",
       " 'Tab3 7',\n",
       " 'Tab3 8',\n",
       " 'Tab3 8 Plus',\n",
       " 'Ultra Tab',\n",
       " 'Xperia Tablet S',\n",
       " 'Xperia Tablet S 3G',\n",
       " 'Xperia Tablet Z LTE',\n",
       " 'Xperia Tablet Z Wi-Fi',\n",
       " 'Xperia Z2 Tablet LTE',\n",
       " 'Xperia Z2 Tablet Wi-Fi',\n",
       " 'Xperia Z3 Tablet Compact',\n",
       " 'Xperia Z4 Tablet LTE',\n",
       " 'Xperia Z4 Tablet WiFi',\n",
       " 'Yoga Tab 3 8.0',\n",
       " 'Yoga Tab 3 Pro',\n",
       " 'Yoga Tablet 10',\n",
       " 'Yoga Tablet 10 HD+',\n",
       " 'Yoga Tablet 2 10.1',\n",
       " 'Yoga Tablet 2 8.0 ',\n",
       " 'Yoga Tablet 8',\n",
       " 'moto tab',\n",
       " 'nubia Red Magic Tablet']"
      ]
     },
     "execution_count": 323,
     "metadata": {},
     "output_type": "execute_result"
    }
   ],
   "source": [
    "tablets"
   ]
  },
  {
   "cell_type": "markdown",
   "metadata": {},
   "source": [
    "#### Cleaning other dfs "
   ]
  },
  {
   "cell_type": "code",
   "execution_count": 324,
   "metadata": {},
   "outputs": [
    {
     "data": {
      "text/plain": [
       "2325"
      ]
     },
     "execution_count": 324,
     "metadata": {},
     "output_type": "execute_result"
    }
   ],
   "source": [
    "device_list = list(df['Device'].unique())\n",
    "len(device_list)"
   ]
  },
  {
   "cell_type": "code",
   "execution_count": 325,
   "metadata": {},
   "outputs": [],
   "source": [
    "sensor = pd.read_csv('clean_data_part1/Sensor_df.csv')\n",
    "usb = pd.read_csv('clean_data_part1/USB_df.csv')\n",
    "network = pd.read_csv('clean_data_part2/network_result.csv')\n",
    "memory  = pd.read_csv('clean_data_part3/MemorySpecification.csv')\n",
    "sim  = pd.read_csv('clean_data_part3/SIM.csv')\n",
    "technology  = pd.read_csv('clean_data_part3/Technology.csv')"
   ]
  },
  {
   "cell_type": "code",
   "execution_count": 326,
   "metadata": {},
   "outputs": [],
   "source": [
    "sensor.rename(columns={'device' : 'Device'} , inplace= True)\n",
    "usb.rename(columns={'device' : 'Device'} , inplace= True)\n",
    "network.rename(columns={'Phone' : 'Device'} , inplace= True)\n",
    "network.drop(columns=['Brand'] , inplace=True)\n",
    "memory.rename(columns={'phone' : 'Device'} , inplace= True)\n",
    "sim.rename(columns={'phone' : 'Device'} , inplace= True)\n",
    "technology.rename(columns={'phone' : 'Device'} , inplace= True)"
   ]
  },
  {
   "cell_type": "code",
   "execution_count": 327,
   "metadata": {},
   "outputs": [
    {
     "data": {
      "text/plain": [
       "2325"
      ]
     },
     "execution_count": 327,
     "metadata": {},
     "output_type": "execute_result"
    }
   ],
   "source": [
    "sensor[sensor['Device'].isin(device_list)]['Device'].nunique()"
   ]
  },
  {
   "cell_type": "code",
   "execution_count": 328,
   "metadata": {},
   "outputs": [
    {
     "data": {
      "text/html": [
       "<div>\n",
       "<style scoped>\n",
       "    .dataframe tbody tr th:only-of-type {\n",
       "        vertical-align: middle;\n",
       "    }\n",
       "\n",
       "    .dataframe tbody tr th {\n",
       "        vertical-align: top;\n",
       "    }\n",
       "\n",
       "    .dataframe thead th {\n",
       "        text-align: right;\n",
       "    }\n",
       "</style>\n",
       "<table border=\"1\" class=\"dataframe\">\n",
       "  <thead>\n",
       "    <tr style=\"text-align: right;\">\n",
       "      <th></th>\n",
       "      <th>Device</th>\n",
       "      <th>sensor</th>\n",
       "    </tr>\n",
       "  </thead>\n",
       "  <tbody>\n",
       "    <tr>\n",
       "      <th>0</th>\n",
       "      <td>1B (2022)</td>\n",
       "      <td>Accelerometer</td>\n",
       "    </tr>\n",
       "    <tr>\n",
       "      <th>1</th>\n",
       "      <td>1L Pro (2021)</td>\n",
       "      <td>Fingerprint (rear-mounted)</td>\n",
       "    </tr>\n",
       "    <tr>\n",
       "      <th>2</th>\n",
       "      <td>1L Pro (2021)</td>\n",
       "      <td>accelerometer</td>\n",
       "    </tr>\n",
       "    <tr>\n",
       "      <th>3</th>\n",
       "      <td>1L Pro (2021)</td>\n",
       "      <td>proximity</td>\n",
       "    </tr>\n",
       "    <tr>\n",
       "      <th>4</th>\n",
       "      <td>1 (2021)</td>\n",
       "      <td>Accelerometer</td>\n",
       "    </tr>\n",
       "    <tr>\n",
       "      <th>...</th>\n",
       "      <td>...</td>\n",
       "      <td>...</td>\n",
       "    </tr>\n",
       "    <tr>\n",
       "      <th>15956</th>\n",
       "      <td>Grand X V970</td>\n",
       "      <td>proximity</td>\n",
       "    </tr>\n",
       "    <tr>\n",
       "      <th>15957</th>\n",
       "      <td>Grand X V970</td>\n",
       "      <td>compass</td>\n",
       "    </tr>\n",
       "    <tr>\n",
       "      <th>16020</th>\n",
       "      <td>Optik</td>\n",
       "      <td>Accelerometer</td>\n",
       "    </tr>\n",
       "    <tr>\n",
       "      <th>16021</th>\n",
       "      <td>Optik</td>\n",
       "      <td>compass</td>\n",
       "    </tr>\n",
       "    <tr>\n",
       "      <th>16031</th>\n",
       "      <td>Memo</td>\n",
       "      <td>NaN</td>\n",
       "    </tr>\n",
       "  </tbody>\n",
       "</table>\n",
       "<p>9153 rows × 2 columns</p>\n",
       "</div>"
      ],
      "text/plain": [
       "              Device                      sensor\n",
       "0          1B (2022)               Accelerometer\n",
       "1      1L Pro (2021)  Fingerprint (rear-mounted)\n",
       "2      1L Pro (2021)               accelerometer\n",
       "3      1L Pro (2021)                   proximity\n",
       "4           1 (2021)               Accelerometer\n",
       "...              ...                         ...\n",
       "15956   Grand X V970                   proximity\n",
       "15957   Grand X V970                     compass\n",
       "16020          Optik               Accelerometer\n",
       "16021          Optik                     compass\n",
       "16031           Memo                         NaN\n",
       "\n",
       "[9153 rows x 2 columns]"
      ]
     },
     "execution_count": 328,
     "metadata": {},
     "output_type": "execute_result"
    }
   ],
   "source": [
    "sensor = sensor[sensor['Device'].isin(device_list)]\n",
    "sensor"
   ]
  },
  {
   "cell_type": "code",
   "execution_count": 329,
   "metadata": {},
   "outputs": [
    {
     "data": {
      "text/plain": [
       "2325"
      ]
     },
     "execution_count": 329,
     "metadata": {},
     "output_type": "execute_result"
    }
   ],
   "source": [
    "usb[usb['Device'].isin(device_list)]['Device'].nunique()"
   ]
  },
  {
   "cell_type": "code",
   "execution_count": 330,
   "metadata": {},
   "outputs": [
    {
     "data": {
      "text/html": [
       "<div>\n",
       "<style scoped>\n",
       "    .dataframe tbody tr th:only-of-type {\n",
       "        vertical-align: middle;\n",
       "    }\n",
       "\n",
       "    .dataframe tbody tr th {\n",
       "        vertical-align: top;\n",
       "    }\n",
       "\n",
       "    .dataframe thead th {\n",
       "        text-align: right;\n",
       "    }\n",
       "</style>\n",
       "<table border=\"1\" class=\"dataframe\">\n",
       "  <thead>\n",
       "    <tr style=\"text-align: right;\">\n",
       "      <th></th>\n",
       "      <th>Device</th>\n",
       "      <th>USB</th>\n",
       "    </tr>\n",
       "  </thead>\n",
       "  <tbody>\n",
       "    <tr>\n",
       "      <th>0</th>\n",
       "      <td>1B (2022)</td>\n",
       "      <td>microUSB 2.0</td>\n",
       "    </tr>\n",
       "    <tr>\n",
       "      <th>1</th>\n",
       "      <td>1L Pro (2021)</td>\n",
       "      <td>microUSB 2.0</td>\n",
       "    </tr>\n",
       "    <tr>\n",
       "      <th>2</th>\n",
       "      <td>1L Pro (2021)</td>\n",
       "      <td>OTG</td>\n",
       "    </tr>\n",
       "    <tr>\n",
       "      <th>3</th>\n",
       "      <td>1 (2021)</td>\n",
       "      <td>microUSB 2.0</td>\n",
       "    </tr>\n",
       "    <tr>\n",
       "      <th>4</th>\n",
       "      <td>3L (2021)</td>\n",
       "      <td>microUSB 2.0</td>\n",
       "    </tr>\n",
       "    <tr>\n",
       "      <th>...</th>\n",
       "      <td>...</td>\n",
       "      <td>...</td>\n",
       "    </tr>\n",
       "    <tr>\n",
       "      <th>6885</th>\n",
       "      <td>Grand Era U895</td>\n",
       "      <td>microUSB 2.0</td>\n",
       "    </tr>\n",
       "    <tr>\n",
       "      <th>6889</th>\n",
       "      <td>Grand X LTE T82</td>\n",
       "      <td>microUSB 2.0</td>\n",
       "    </tr>\n",
       "    <tr>\n",
       "      <th>6890</th>\n",
       "      <td>Grand X V970</td>\n",
       "      <td>microUSB 2.0</td>\n",
       "    </tr>\n",
       "    <tr>\n",
       "      <th>6913</th>\n",
       "      <td>Optik</td>\n",
       "      <td>microUSB 2.0</td>\n",
       "    </tr>\n",
       "    <tr>\n",
       "      <th>6918</th>\n",
       "      <td>Memo</td>\n",
       "      <td>Proprietary</td>\n",
       "    </tr>\n",
       "  </tbody>\n",
       "</table>\n",
       "<p>3483 rows × 2 columns</p>\n",
       "</div>"
      ],
      "text/plain": [
       "               Device           USB\n",
       "0           1B (2022)  microUSB 2.0\n",
       "1       1L Pro (2021)  microUSB 2.0\n",
       "2       1L Pro (2021)           OTG\n",
       "3            1 (2021)  microUSB 2.0\n",
       "4           3L (2021)  microUSB 2.0\n",
       "...               ...           ...\n",
       "6885   Grand Era U895  microUSB 2.0\n",
       "6889  Grand X LTE T82  microUSB 2.0\n",
       "6890     Grand X V970  microUSB 2.0\n",
       "6913            Optik  microUSB 2.0\n",
       "6918             Memo   Proprietary\n",
       "\n",
       "[3483 rows x 2 columns]"
      ]
     },
     "execution_count": 330,
     "metadata": {},
     "output_type": "execute_result"
    }
   ],
   "source": [
    "usb = usb[usb['Device'].isin(device_list)]\n",
    "usb"
   ]
  },
  {
   "cell_type": "code",
   "execution_count": 331,
   "metadata": {},
   "outputs": [
    {
     "data": {
      "text/plain": [
       "2244"
      ]
     },
     "execution_count": 331,
     "metadata": {},
     "output_type": "execute_result"
    }
   ],
   "source": [
    "network[network['Device'].isin(device_list)]['Device'].nunique()"
   ]
  },
  {
   "cell_type": "code",
   "execution_count": 332,
   "metadata": {},
   "outputs": [
    {
     "data": {
      "text/html": [
       "<div>\n",
       "<style scoped>\n",
       "    .dataframe tbody tr th:only-of-type {\n",
       "        vertical-align: middle;\n",
       "    }\n",
       "\n",
       "    .dataframe tbody tr th {\n",
       "        vertical-align: top;\n",
       "    }\n",
       "\n",
       "    .dataframe thead th {\n",
       "        text-align: right;\n",
       "    }\n",
       "</style>\n",
       "<table border=\"1\" class=\"dataframe\">\n",
       "  <thead>\n",
       "    <tr style=\"text-align: right;\">\n",
       "      <th></th>\n",
       "      <th>Device</th>\n",
       "      <th>Generation</th>\n",
       "    </tr>\n",
       "  </thead>\n",
       "  <tbody>\n",
       "    <tr>\n",
       "      <th>0</th>\n",
       "      <td>1</td>\n",
       "      <td>2G</td>\n",
       "    </tr>\n",
       "    <tr>\n",
       "      <th>1</th>\n",
       "      <td>1 (2021)</td>\n",
       "      <td>2G</td>\n",
       "    </tr>\n",
       "    <tr>\n",
       "      <th>3</th>\n",
       "      <td>1B (2020)</td>\n",
       "      <td>2G</td>\n",
       "    </tr>\n",
       "    <tr>\n",
       "      <th>4</th>\n",
       "      <td>1B (2022)</td>\n",
       "      <td>2G</td>\n",
       "    </tr>\n",
       "    <tr>\n",
       "      <th>5</th>\n",
       "      <td>1L (2021)</td>\n",
       "      <td>2G</td>\n",
       "    </tr>\n",
       "    <tr>\n",
       "      <th>...</th>\n",
       "      <td>...</td>\n",
       "      <td>...</td>\n",
       "    </tr>\n",
       "    <tr>\n",
       "      <th>12975</th>\n",
       "      <td>nubia Z40S Pro</td>\n",
       "      <td>5G</td>\n",
       "    </tr>\n",
       "    <tr>\n",
       "      <th>12976</th>\n",
       "      <td>nubia Z50</td>\n",
       "      <td>5G</td>\n",
       "    </tr>\n",
       "    <tr>\n",
       "      <th>12977</th>\n",
       "      <td>nubia Z50 Ultra</td>\n",
       "      <td>5G</td>\n",
       "    </tr>\n",
       "    <tr>\n",
       "      <th>12978</th>\n",
       "      <td>nubia Z50S Pro</td>\n",
       "      <td>5G</td>\n",
       "    </tr>\n",
       "    <tr>\n",
       "      <th>12979</th>\n",
       "      <td>nubia Z60 Ultra</td>\n",
       "      <td>5G</td>\n",
       "    </tr>\n",
       "  </tbody>\n",
       "</table>\n",
       "<p>6745 rows × 2 columns</p>\n",
       "</div>"
      ],
      "text/plain": [
       "                Device Generation\n",
       "0                    1         2G\n",
       "1             1 (2021)         2G\n",
       "3            1B (2020)         2G\n",
       "4            1B (2022)         2G\n",
       "5            1L (2021)         2G\n",
       "...                ...        ...\n",
       "12975   nubia Z40S Pro         5G\n",
       "12976        nubia Z50         5G\n",
       "12977  nubia Z50 Ultra         5G\n",
       "12978   nubia Z50S Pro         5G\n",
       "12979  nubia Z60 Ultra         5G\n",
       "\n",
       "[6745 rows x 2 columns]"
      ]
     },
     "execution_count": 332,
     "metadata": {},
     "output_type": "execute_result"
    }
   ],
   "source": [
    "network = network[network['Device'].isin(device_list)]\n",
    "network"
   ]
  },
  {
   "cell_type": "code",
   "execution_count": 333,
   "metadata": {},
   "outputs": [
    {
     "data": {
      "text/plain": [
       "2230"
      ]
     },
     "execution_count": 333,
     "metadata": {},
     "output_type": "execute_result"
    }
   ],
   "source": [
    "sim[sim['Device'].isin(device_list)]['Device'].nunique()"
   ]
  },
  {
   "cell_type": "code",
   "execution_count": 334,
   "metadata": {},
   "outputs": [
    {
     "data": {
      "text/html": [
       "<div>\n",
       "<style scoped>\n",
       "    .dataframe tbody tr th:only-of-type {\n",
       "        vertical-align: middle;\n",
       "    }\n",
       "\n",
       "    .dataframe tbody tr th {\n",
       "        vertical-align: top;\n",
       "    }\n",
       "\n",
       "    .dataframe thead th {\n",
       "        text-align: right;\n",
       "    }\n",
       "</style>\n",
       "<table border=\"1\" class=\"dataframe\">\n",
       "  <thead>\n",
       "    <tr style=\"text-align: right;\">\n",
       "      <th></th>\n",
       "      <th>Device</th>\n",
       "      <th>SIM_prep</th>\n",
       "    </tr>\n",
       "  </thead>\n",
       "  <tbody>\n",
       "    <tr>\n",
       "      <th>0</th>\n",
       "      <td>1B (2022)</td>\n",
       "      <td>Single</td>\n",
       "    </tr>\n",
       "    <tr>\n",
       "      <th>1</th>\n",
       "      <td>1L Pro (2021)</td>\n",
       "      <td>Single</td>\n",
       "    </tr>\n",
       "    <tr>\n",
       "      <th>2</th>\n",
       "      <td>1 (2021)</td>\n",
       "      <td>Single</td>\n",
       "    </tr>\n",
       "    <tr>\n",
       "      <th>3</th>\n",
       "      <td>3L (2021)</td>\n",
       "      <td>Single</td>\n",
       "    </tr>\n",
       "    <tr>\n",
       "      <th>4</th>\n",
       "      <td>1S (2021)</td>\n",
       "      <td>Single</td>\n",
       "    </tr>\n",
       "    <tr>\n",
       "      <th>...</th>\n",
       "      <td>...</td>\n",
       "      <td>...</td>\n",
       "    </tr>\n",
       "    <tr>\n",
       "      <th>5049</th>\n",
       "      <td>Sensation 4G</td>\n",
       "      <td>Mini-SIM</td>\n",
       "    </tr>\n",
       "    <tr>\n",
       "      <th>5050</th>\n",
       "      <td>EVO 3D</td>\n",
       "      <td>Mini-SIM</td>\n",
       "    </tr>\n",
       "    <tr>\n",
       "      <th>5051</th>\n",
       "      <td>Sensation</td>\n",
       "      <td>Mini-SIM</td>\n",
       "    </tr>\n",
       "    <tr>\n",
       "      <th>5052</th>\n",
       "      <td>EVO 3D CDMA</td>\n",
       "      <td>Mini-SIM</td>\n",
       "    </tr>\n",
       "    <tr>\n",
       "      <th>5095</th>\n",
       "      <td>Hero</td>\n",
       "      <td>Mini-SIM</td>\n",
       "    </tr>\n",
       "  </tbody>\n",
       "</table>\n",
       "<p>2268 rows × 2 columns</p>\n",
       "</div>"
      ],
      "text/plain": [
       "             Device  SIM_prep\n",
       "0         1B (2022)    Single\n",
       "1     1L Pro (2021)    Single\n",
       "2          1 (2021)    Single\n",
       "3         3L (2021)    Single\n",
       "4         1S (2021)    Single\n",
       "...             ...       ...\n",
       "5049   Sensation 4G  Mini-SIM\n",
       "5050         EVO 3D  Mini-SIM\n",
       "5051      Sensation  Mini-SIM\n",
       "5052    EVO 3D CDMA  Mini-SIM\n",
       "5095           Hero  Mini-SIM\n",
       "\n",
       "[2268 rows x 2 columns]"
      ]
     },
     "execution_count": 334,
     "metadata": {},
     "output_type": "execute_result"
    }
   ],
   "source": [
    "sim = sim[sim['Device'].isin(device_list)]\n",
    "sim"
   ]
  },
  {
   "cell_type": "code",
   "execution_count": 335,
   "metadata": {},
   "outputs": [
    {
     "data": {
      "text/plain": [
       "2314"
      ]
     },
     "execution_count": 335,
     "metadata": {},
     "output_type": "execute_result"
    }
   ],
   "source": [
    "memory[memory['Device'].isin(device_list)]['Device'].nunique()"
   ]
  },
  {
   "cell_type": "code",
   "execution_count": 336,
   "metadata": {},
   "outputs": [
    {
     "data": {
      "text/html": [
       "<div>\n",
       "<style scoped>\n",
       "    .dataframe tbody tr th:only-of-type {\n",
       "        vertical-align: middle;\n",
       "    }\n",
       "\n",
       "    .dataframe tbody tr th {\n",
       "        vertical-align: top;\n",
       "    }\n",
       "\n",
       "    .dataframe thead th {\n",
       "        text-align: right;\n",
       "    }\n",
       "</style>\n",
       "<table border=\"1\" class=\"dataframe\">\n",
       "  <thead>\n",
       "    <tr style=\"text-align: right;\">\n",
       "      <th></th>\n",
       "      <th>Device</th>\n",
       "      <th>Storage</th>\n",
       "      <th>RAM</th>\n",
       "    </tr>\n",
       "  </thead>\n",
       "  <tbody>\n",
       "    <tr>\n",
       "      <th>0</th>\n",
       "      <td>1B (2022)</td>\n",
       "      <td>32GB</td>\n",
       "      <td>2GB</td>\n",
       "    </tr>\n",
       "    <tr>\n",
       "      <th>1</th>\n",
       "      <td>1L Pro (2021)</td>\n",
       "      <td>32GB</td>\n",
       "      <td>2GB</td>\n",
       "    </tr>\n",
       "    <tr>\n",
       "      <th>2</th>\n",
       "      <td>1 (2021)</td>\n",
       "      <td>8GB</td>\n",
       "      <td>1GB</td>\n",
       "    </tr>\n",
       "    <tr>\n",
       "      <th>3</th>\n",
       "      <td>3L (2021)</td>\n",
       "      <td>64GB</td>\n",
       "      <td>4GB</td>\n",
       "    </tr>\n",
       "    <tr>\n",
       "      <th>4</th>\n",
       "      <td>1S (2021)</td>\n",
       "      <td>32GB</td>\n",
       "      <td>3GB</td>\n",
       "    </tr>\n",
       "    <tr>\n",
       "      <th>...</th>\n",
       "      <td>...</td>\n",
       "      <td>...</td>\n",
       "      <td>...</td>\n",
       "    </tr>\n",
       "    <tr>\n",
       "      <th>3548</th>\n",
       "      <td>nubia Z5</td>\n",
       "      <td>32GB</td>\n",
       "      <td>2GB</td>\n",
       "    </tr>\n",
       "    <tr>\n",
       "      <th>3552</th>\n",
       "      <td>Grand Era U895</td>\n",
       "      <td>4GB</td>\n",
       "      <td>1GB</td>\n",
       "    </tr>\n",
       "    <tr>\n",
       "      <th>3556</th>\n",
       "      <td>Grand X LTE T82</td>\n",
       "      <td>4GB</td>\n",
       "      <td>1GB</td>\n",
       "    </tr>\n",
       "    <tr>\n",
       "      <th>3557</th>\n",
       "      <td>Grand X V970</td>\n",
       "      <td>4GB</td>\n",
       "      <td>1GB</td>\n",
       "    </tr>\n",
       "    <tr>\n",
       "      <th>3574</th>\n",
       "      <td>Optik</td>\n",
       "      <td>16GB</td>\n",
       "      <td>1GB</td>\n",
       "    </tr>\n",
       "  </tbody>\n",
       "</table>\n",
       "<p>2327 rows × 3 columns</p>\n",
       "</div>"
      ],
      "text/plain": [
       "               Device Storage  RAM\n",
       "0           1B (2022)    32GB  2GB\n",
       "1       1L Pro (2021)    32GB  2GB\n",
       "2            1 (2021)     8GB  1GB\n",
       "3           3L (2021)    64GB  4GB\n",
       "4           1S (2021)    32GB  3GB\n",
       "...               ...     ...  ...\n",
       "3548         nubia Z5    32GB  2GB\n",
       "3552   Grand Era U895     4GB  1GB\n",
       "3556  Grand X LTE T82     4GB  1GB\n",
       "3557     Grand X V970     4GB  1GB\n",
       "3574            Optik    16GB  1GB\n",
       "\n",
       "[2327 rows x 3 columns]"
      ]
     },
     "execution_count": 336,
     "metadata": {},
     "output_type": "execute_result"
    }
   ],
   "source": [
    "memory = memory[memory['Device'].isin(device_list)]\n",
    "memory"
   ]
  },
  {
   "cell_type": "code",
   "execution_count": 337,
   "metadata": {},
   "outputs": [
    {
     "data": {
      "text/plain": [
       "2325"
      ]
     },
     "execution_count": 337,
     "metadata": {},
     "output_type": "execute_result"
    }
   ],
   "source": [
    "technology[technology['Device'].isin(device_list)]['Device'].nunique()"
   ]
  },
  {
   "cell_type": "code",
   "execution_count": 338,
   "metadata": {},
   "outputs": [
    {
     "data": {
      "text/html": [
       "<div>\n",
       "<style scoped>\n",
       "    .dataframe tbody tr th:only-of-type {\n",
       "        vertical-align: middle;\n",
       "    }\n",
       "\n",
       "    .dataframe tbody tr th {\n",
       "        vertical-align: top;\n",
       "    }\n",
       "\n",
       "    .dataframe thead th {\n",
       "        text-align: right;\n",
       "    }\n",
       "</style>\n",
       "<table border=\"1\" class=\"dataframe\">\n",
       "  <thead>\n",
       "    <tr style=\"text-align: right;\">\n",
       "      <th></th>\n",
       "      <th>Device</th>\n",
       "      <th>Tech_prep</th>\n",
       "    </tr>\n",
       "  </thead>\n",
       "  <tbody>\n",
       "    <tr>\n",
       "      <th>0</th>\n",
       "      <td>1B (2022)</td>\n",
       "      <td>GSM</td>\n",
       "    </tr>\n",
       "    <tr>\n",
       "      <th>1</th>\n",
       "      <td>1B (2022)</td>\n",
       "      <td>HSPA</td>\n",
       "    </tr>\n",
       "    <tr>\n",
       "      <th>2</th>\n",
       "      <td>1B (2022)</td>\n",
       "      <td>LTE</td>\n",
       "    </tr>\n",
       "    <tr>\n",
       "      <th>3</th>\n",
       "      <td>1L Pro (2021)</td>\n",
       "      <td>GSM</td>\n",
       "    </tr>\n",
       "    <tr>\n",
       "      <th>4</th>\n",
       "      <td>1L Pro (2021)</td>\n",
       "      <td>HSPA</td>\n",
       "    </tr>\n",
       "    <tr>\n",
       "      <th>...</th>\n",
       "      <td>...</td>\n",
       "      <td>...</td>\n",
       "    </tr>\n",
       "    <tr>\n",
       "      <th>12907</th>\n",
       "      <td>Grand X V970</td>\n",
       "      <td>HSPA</td>\n",
       "    </tr>\n",
       "    <tr>\n",
       "      <th>12953</th>\n",
       "      <td>Optik</td>\n",
       "      <td>CDMA</td>\n",
       "    </tr>\n",
       "    <tr>\n",
       "      <th>12954</th>\n",
       "      <td>Optik</td>\n",
       "      <td>EVDO</td>\n",
       "    </tr>\n",
       "    <tr>\n",
       "      <th>12963</th>\n",
       "      <td>Memo</td>\n",
       "      <td>CDMA</td>\n",
       "    </tr>\n",
       "    <tr>\n",
       "      <th>12964</th>\n",
       "      <td>Memo</td>\n",
       "      <td>EVDO</td>\n",
       "    </tr>\n",
       "  </tbody>\n",
       "</table>\n",
       "<p>7510 rows × 2 columns</p>\n",
       "</div>"
      ],
      "text/plain": [
       "              Device Tech_prep\n",
       "0          1B (2022)       GSM\n",
       "1          1B (2022)      HSPA\n",
       "2          1B (2022)       LTE\n",
       "3      1L Pro (2021)       GSM\n",
       "4      1L Pro (2021)      HSPA\n",
       "...              ...       ...\n",
       "12907   Grand X V970      HSPA\n",
       "12953          Optik      CDMA\n",
       "12954          Optik      EVDO\n",
       "12963           Memo      CDMA\n",
       "12964           Memo      EVDO\n",
       "\n",
       "[7510 rows x 2 columns]"
      ]
     },
     "execution_count": 338,
     "metadata": {},
     "output_type": "execute_result"
    }
   ],
   "source": [
    "technology = technology[technology['Device'].isin(device_list)]\n",
    "technology"
   ]
  },
  {
   "cell_type": "code",
   "execution_count": 341,
   "metadata": {},
   "outputs": [],
   "source": [
    "sensor.to_csv('Sensor.csv' , index=False)\n",
    "usb.to_csv('USB.csv', index=False)\n",
    "network.to_csv('Network.csv', index=False)\n",
    "sim.to_csv('SIM.csv', index=False)\n",
    "memory.to_csv('Memory.csv', index=False)\n",
    "technology.to_csv('Technology.csv', index=False)"
   ]
  },
  {
   "cell_type": "code",
   "execution_count": null,
   "metadata": {},
   "outputs": [],
   "source": []
  }
 ],
 "metadata": {
  "kernelspec": {
   "display_name": "Python 3 (ipykernel)",
   "language": "python",
   "name": "python3"
  },
  "language_info": {
   "codemirror_mode": {
    "name": "ipython",
    "version": 3
   },
   "file_extension": ".py",
   "mimetype": "text/x-python",
   "name": "python",
   "nbconvert_exporter": "python",
   "pygments_lexer": "ipython3",
   "version": "3.10.9"
  }
 },
 "nbformat": 4,
 "nbformat_minor": 2
}

{
 "cells": [
  {
   "cell_type": "code",
   "execution_count": 3,
   "metadata": {},
   "outputs": [],
   "source": [
    "import psycopg2\n",
    "import pandas as pd \n",
    "import numpy as np \n",
    "import matplotlib.pyplot as plt \n",
    "import seaborn as sns "
   ]
  },
  {
   "cell_type": "markdown",
   "metadata": {},
   "source": [
    "#### Connecting to database "
   ]
  },
  {
   "cell_type": "code",
   "execution_count": 14,
   "metadata": {},
   "outputs": [],
   "source": [
    "conn = psycopg2.connect(\n",
    "    host = '165.22.22.202' ,\n",
    "    database = 'gsmarena' ,\n",
    "    user = 'anomaly' ,\n",
    "    password = 'Hitman.agent47'    \n",
    ")"
   ]
  },
  {
   "cell_type": "markdown",
   "metadata": {},
   "source": [
    "### SIM ~ PRICE"
   ]
  },
  {
   "cell_type": "markdown",
   "metadata": {},
   "source": [
    "#### Fetching required tables from database "
   ]
  },
  {
   "cell_type": "code",
   "execution_count": 43,
   "metadata": {},
   "outputs": [],
   "source": [
    "cur = conn.cursor()\n",
    "cur.execute(''' SELECT sim.\"DeviceID\" , sim.\"Name\" , devices.\"Price\"\n",
    "                FROM sim\n",
    "                JOIN devices \n",
    "                ON sim.\"DeviceID\" = devices.\"DeviceID\";''')\n",
    "\n",
    "rows = cur.fetchall()\n",
    "col_names = [desc[0] for desc in cur.description]\n",
    "\n",
    "sim_price = pd.DataFrame(rows, columns=col_names)"
   ]
  },
  {
   "cell_type": "code",
   "execution_count": 44,
   "metadata": {},
   "outputs": [
    {
     "data": {
      "text/html": [
       "<div>\n",
       "<style scoped>\n",
       "    .dataframe tbody tr th:only-of-type {\n",
       "        vertical-align: middle;\n",
       "    }\n",
       "\n",
       "    .dataframe tbody tr th {\n",
       "        vertical-align: top;\n",
       "    }\n",
       "\n",
       "    .dataframe thead th {\n",
       "        text-align: right;\n",
       "    }\n",
       "</style>\n",
       "<table border=\"1\" class=\"dataframe\">\n",
       "  <thead>\n",
       "    <tr style=\"text-align: right;\">\n",
       "      <th></th>\n",
       "      <th>DeviceID</th>\n",
       "      <th>Name</th>\n",
       "      <th>Price</th>\n",
       "    </tr>\n",
       "  </thead>\n",
       "  <tbody>\n",
       "    <tr>\n",
       "      <th>0</th>\n",
       "      <td>2367</td>\n",
       "      <td>Single</td>\n",
       "      <td>100 EUR</td>\n",
       "    </tr>\n",
       "    <tr>\n",
       "      <th>1</th>\n",
       "      <td>2369</td>\n",
       "      <td>Single</td>\n",
       "      <td>110 EUR</td>\n",
       "    </tr>\n",
       "    <tr>\n",
       "      <th>2</th>\n",
       "      <td>2336</td>\n",
       "      <td>Single</td>\n",
       "      <td>60 EUR</td>\n",
       "    </tr>\n",
       "    <tr>\n",
       "      <th>3</th>\n",
       "      <td>2392</td>\n",
       "      <td>Single</td>\n",
       "      <td>330 EUR</td>\n",
       "    </tr>\n",
       "    <tr>\n",
       "      <th>4</th>\n",
       "      <td>2371</td>\n",
       "      <td>Single</td>\n",
       "      <td>130 EUR</td>\n",
       "    </tr>\n",
       "    <tr>\n",
       "      <th>...</th>\n",
       "      <td>...</td>\n",
       "      <td>...</td>\n",
       "      <td>...</td>\n",
       "    </tr>\n",
       "    <tr>\n",
       "      <th>2263</th>\n",
       "      <td>4097</td>\n",
       "      <td>Mini-SIM</td>\n",
       "      <td>210 EUR</td>\n",
       "    </tr>\n",
       "    <tr>\n",
       "      <th>2264</th>\n",
       "      <td>2742</td>\n",
       "      <td>Mini-SIM</td>\n",
       "      <td>150 EUR</td>\n",
       "    </tr>\n",
       "    <tr>\n",
       "      <th>2265</th>\n",
       "      <td>4096</td>\n",
       "      <td>Mini-SIM</td>\n",
       "      <td>120 EUR</td>\n",
       "    </tr>\n",
       "    <tr>\n",
       "      <th>2266</th>\n",
       "      <td>2743</td>\n",
       "      <td>Mini-SIM</td>\n",
       "      <td>220 EUR</td>\n",
       "    </tr>\n",
       "    <tr>\n",
       "      <th>2267</th>\n",
       "      <td>3330</td>\n",
       "      <td>Mini-SIM</td>\n",
       "      <td>370 EUR</td>\n",
       "    </tr>\n",
       "  </tbody>\n",
       "</table>\n",
       "<p>2268 rows × 3 columns</p>\n",
       "</div>"
      ],
      "text/plain": [
       "      DeviceID      Name    Price\n",
       "0         2367    Single  100 EUR\n",
       "1         2369    Single  110 EUR\n",
       "2         2336    Single   60 EUR\n",
       "3         2392    Single  330 EUR\n",
       "4         2371    Single  130 EUR\n",
       "...        ...       ...      ...\n",
       "2263      4097  Mini-SIM  210 EUR\n",
       "2264      2742  Mini-SIM  150 EUR\n",
       "2265      4096  Mini-SIM  120 EUR\n",
       "2266      2743  Mini-SIM  220 EUR\n",
       "2267      3330  Mini-SIM  370 EUR\n",
       "\n",
       "[2268 rows x 3 columns]"
      ]
     },
     "execution_count": 44,
     "metadata": {},
     "output_type": "execute_result"
    }
   ],
   "source": [
    "sim_price"
   ]
  },
  {
   "cell_type": "code",
   "execution_count": 45,
   "metadata": {},
   "outputs": [],
   "source": [
    "cur.close()\n",
    "conn.close()"
   ]
  },
  {
   "cell_type": "markdown",
   "metadata": {},
   "source": [
    "#### Cleaning the table"
   ]
  },
  {
   "cell_type": "code",
   "execution_count": 48,
   "metadata": {},
   "outputs": [],
   "source": [
    "prices = [] \n",
    "for price in sim_price['Price'] :\n",
    "    prices.append(price.split(' ')[0])\n",
    "\n",
    "sim_price['Price'] = prices\n",
    "sim_price['Price'] = sim_price['Price'].astype('int')"
   ]
  },
  {
   "cell_type": "code",
   "execution_count": 52,
   "metadata": {},
   "outputs": [
    {
     "data": {
      "text/plain": [
       "array(['Single', 'Dual', 'Nano-SIM', 'Micro-SIM', 'Mini-SIM', 'SIM,',\n",
       "       'eSIM', 'Nano-SIM,', 'Triple', 'H542Dual', 'MIni-SIM'],\n",
       "      dtype=object)"
      ]
     },
     "execution_count": 52,
     "metadata": {},
     "output_type": "execute_result"
    }
   ],
   "source": [
    "sim_price['Name'].unique()"
   ]
  },
  {
   "cell_type": "code",
   "execution_count": 61,
   "metadata": {},
   "outputs": [],
   "source": [
    "sim_price.loc[sim_price['Name'] == 'MIni-SIM' , 'Name'] = 'Mini-SIM'"
   ]
  },
  {
   "cell_type": "code",
   "execution_count": 64,
   "metadata": {},
   "outputs": [
    {
     "data": {
      "text/plain": [
       "array(['Single', 'Dual', 'Nano-SIM', 'Micro-SIM', 'Mini-SIM', 'SIM,',\n",
       "       'eSIM', 'Nano-SIM,', 'Triple', 'H542Dual'], dtype=object)"
      ]
     },
     "execution_count": 64,
     "metadata": {},
     "output_type": "execute_result"
    }
   ],
   "source": [
    "sim_price['Name'].unique()"
   ]
  },
  {
   "cell_type": "code",
   "execution_count": 65,
   "metadata": {},
   "outputs": [
    {
     "data": {
      "text/plain": [
       "Name\n",
       "Dual         1067\n",
       "Single        412\n",
       "Micro-SIM     343\n",
       "Nano-SIM      261\n",
       "Mini-SIM      152\n",
       "eSIM           19\n",
       "SIM,            6\n",
       "Nano-SIM,       6\n",
       "Triple          1\n",
       "H542Dual        1\n",
       "Name: count, dtype: int64"
      ]
     },
     "execution_count": 65,
     "metadata": {},
     "output_type": "execute_result"
    }
   ],
   "source": [
    "sim_price['Name'].value_counts()"
   ]
  },
  {
   "cell_type": "markdown",
   "metadata": {},
   "source": [
    "we had mistake in cleaning scraped data and find wrong SIM type for our devices "
   ]
  },
  {
   "cell_type": "markdown",
   "metadata": {},
   "source": [
    "#### reclean scraped data and make a new device_SIM table "
   ]
  },
  {
   "cell_type": "code",
   "execution_count": 4,
   "metadata": {},
   "outputs": [],
   "source": [
    "devices_df = pd.read_csv('../data cleaning/Devices.csv')\n",
    "device_sim = pd.read_csv('../data cleaning/fixedSIM_df.csv')"
   ]
  },
  {
   "cell_type": "code",
   "execution_count": 5,
   "metadata": {},
   "outputs": [],
   "source": [
    "device_sim.rename(columns={'device':'DeviceName'} , inplace=True)"
   ]
  },
  {
   "cell_type": "code",
   "execution_count": 6,
   "metadata": {},
   "outputs": [
    {
     "data": {
      "text/html": [
       "<div>\n",
       "<style scoped>\n",
       "    .dataframe tbody tr th:only-of-type {\n",
       "        vertical-align: middle;\n",
       "    }\n",
       "\n",
       "    .dataframe tbody tr th {\n",
       "        vertical-align: top;\n",
       "    }\n",
       "\n",
       "    .dataframe thead th {\n",
       "        text-align: right;\n",
       "    }\n",
       "</style>\n",
       "<table border=\"1\" class=\"dataframe\">\n",
       "  <thead>\n",
       "    <tr style=\"text-align: right;\">\n",
       "      <th></th>\n",
       "      <th>Unnamed: 0</th>\n",
       "      <th>DeviceName</th>\n",
       "      <th>BatterymAh</th>\n",
       "      <th>Price</th>\n",
       "      <th>Chipset</th>\n",
       "      <th>GPU</th>\n",
       "      <th>DisplayType</th>\n",
       "      <th>BrandName</th>\n",
       "      <th>GPRS</th>\n",
       "      <th>EDGE</th>\n",
       "      <th>...</th>\n",
       "      <th>OS</th>\n",
       "      <th>CPUCoreCount</th>\n",
       "      <th>MainCamera</th>\n",
       "      <th>SelfieCamera</th>\n",
       "      <th>LoudSpeaker</th>\n",
       "      <th>Jack35</th>\n",
       "      <th>WLAN</th>\n",
       "      <th>NFC</th>\n",
       "      <th>Bluetooth</th>\n",
       "      <th>ScreenToBodyRatio</th>\n",
       "    </tr>\n",
       "  </thead>\n",
       "  <tbody>\n",
       "    <tr>\n",
       "      <th>0</th>\n",
       "      <td>0</td>\n",
       "      <td>1</td>\n",
       "      <td>2000</td>\n",
       "      <td>60 EUR</td>\n",
       "      <td>Mediatek MT6739 (28 nm)</td>\n",
       "      <td>PowerVR GE8100</td>\n",
       "      <td>TFT</td>\n",
       "      <td>alcatel409</td>\n",
       "      <td>False</td>\n",
       "      <td>False</td>\n",
       "      <td>...</td>\n",
       "      <td>Android 8.1 Oreo</td>\n",
       "      <td>4.0</td>\n",
       "      <td>Single</td>\n",
       "      <td>Single</td>\n",
       "      <td>True</td>\n",
       "      <td>True</td>\n",
       "      <td>Wi-Fi 802.11 b/g/n</td>\n",
       "      <td>False</td>\n",
       "      <td>4.2</td>\n",
       "      <td>71.4</td>\n",
       "    </tr>\n",
       "    <tr>\n",
       "      <th>1</th>\n",
       "      <td>1</td>\n",
       "      <td>1 (2021)</td>\n",
       "      <td>2000</td>\n",
       "      <td>60 EUR</td>\n",
       "      <td>Mediatek MT6739 (28 nm)</td>\n",
       "      <td>PowerVR GE8100</td>\n",
       "      <td>TFT</td>\n",
       "      <td>alcatel409</td>\n",
       "      <td>False</td>\n",
       "      <td>False</td>\n",
       "      <td>...</td>\n",
       "      <td>Android 11</td>\n",
       "      <td>4.0</td>\n",
       "      <td>Single</td>\n",
       "      <td>Single</td>\n",
       "      <td>True</td>\n",
       "      <td>True</td>\n",
       "      <td>Wi-Fi 802.11 b/g/n</td>\n",
       "      <td>False</td>\n",
       "      <td>4.2</td>\n",
       "      <td>71.4</td>\n",
       "    </tr>\n",
       "    <tr>\n",
       "      <th>2</th>\n",
       "      <td>2</td>\n",
       "      <td>1 Plus</td>\n",
       "      <td>2500</td>\n",
       "      <td>80 EUR</td>\n",
       "      <td>Mediatek MT6739WW (28 nm)</td>\n",
       "      <td>PowerVR GE8100</td>\n",
       "      <td>IPS</td>\n",
       "      <td>Nokia576</td>\n",
       "      <td>False</td>\n",
       "      <td>False</td>\n",
       "      <td>...</td>\n",
       "      <td>Android 9.0 Pie</td>\n",
       "      <td>4.0</td>\n",
       "      <td>Single</td>\n",
       "      <td>Single</td>\n",
       "      <td>True</td>\n",
       "      <td>True</td>\n",
       "      <td>Wi-Fi 802.11 a/b/g/n</td>\n",
       "      <td>False</td>\n",
       "      <td>4.2</td>\n",
       "      <td>75.1</td>\n",
       "    </tr>\n",
       "    <tr>\n",
       "      <th>3</th>\n",
       "      <td>3</td>\n",
       "      <td>1.3</td>\n",
       "      <td>3000</td>\n",
       "      <td>170 EUR</td>\n",
       "      <td>Qualcomm QM215 Snapdragon 215 (28 nm)</td>\n",
       "      <td>Adreno 308</td>\n",
       "      <td>IPS</td>\n",
       "      <td>Nokia576</td>\n",
       "      <td>False</td>\n",
       "      <td>False</td>\n",
       "      <td>...</td>\n",
       "      <td>Android 10</td>\n",
       "      <td>4.0</td>\n",
       "      <td>Single</td>\n",
       "      <td>Single</td>\n",
       "      <td>True</td>\n",
       "      <td>True</td>\n",
       "      <td>Wi-Fi 802.11 b/g/n</td>\n",
       "      <td>False</td>\n",
       "      <td>4.2</td>\n",
       "      <td>77.6</td>\n",
       "    </tr>\n",
       "    <tr>\n",
       "      <th>4</th>\n",
       "      <td>4</td>\n",
       "      <td>1.4</td>\n",
       "      <td>4000</td>\n",
       "      <td>90 EUR</td>\n",
       "      <td>Qualcomm QM215 Snapdragon 215 (28 nm)</td>\n",
       "      <td>Adreno 308</td>\n",
       "      <td>IPS</td>\n",
       "      <td>Nokia576</td>\n",
       "      <td>False</td>\n",
       "      <td>False</td>\n",
       "      <td>...</td>\n",
       "      <td>Android 10</td>\n",
       "      <td>4.0</td>\n",
       "      <td>Dual</td>\n",
       "      <td>Single</td>\n",
       "      <td>True</td>\n",
       "      <td>True</td>\n",
       "      <td>Wi-Fi 802.11 b/g/n</td>\n",
       "      <td>False</td>\n",
       "      <td>4.2</td>\n",
       "      <td>80.4</td>\n",
       "    </tr>\n",
       "    <tr>\n",
       "      <th>...</th>\n",
       "      <td>...</td>\n",
       "      <td>...</td>\n",
       "      <td>...</td>\n",
       "      <td>...</td>\n",
       "      <td>...</td>\n",
       "      <td>...</td>\n",
       "      <td>...</td>\n",
       "      <td>...</td>\n",
       "      <td>...</td>\n",
       "      <td>...</td>\n",
       "      <td>...</td>\n",
       "      <td>...</td>\n",
       "      <td>...</td>\n",
       "      <td>...</td>\n",
       "      <td>...</td>\n",
       "      <td>...</td>\n",
       "      <td>...</td>\n",
       "      <td>...</td>\n",
       "      <td>...</td>\n",
       "      <td>...</td>\n",
       "      <td>...</td>\n",
       "    </tr>\n",
       "    <tr>\n",
       "      <th>2320</th>\n",
       "      <td>2320</td>\n",
       "      <td>nubia Z7 Max</td>\n",
       "      <td>3100</td>\n",
       "      <td>240 EUR</td>\n",
       "      <td>Qualcomm MSM8974AC Snapdragon 801 (28 nm)</td>\n",
       "      <td>Adreno 330</td>\n",
       "      <td>IPS</td>\n",
       "      <td>ZTE369</td>\n",
       "      <td>False</td>\n",
       "      <td>False</td>\n",
       "      <td>...</td>\n",
       "      <td>Android 4.4.2</td>\n",
       "      <td>4.0</td>\n",
       "      <td>Single</td>\n",
       "      <td>Single</td>\n",
       "      <td>True</td>\n",
       "      <td>True</td>\n",
       "      <td>Wi-Fi 802.11 a/b/g/n/ac</td>\n",
       "      <td>True</td>\n",
       "      <td>4.0</td>\n",
       "      <td>71.1</td>\n",
       "    </tr>\n",
       "    <tr>\n",
       "      <th>2321</th>\n",
       "      <td>2321</td>\n",
       "      <td>nubia Z7 mini</td>\n",
       "      <td>2300</td>\n",
       "      <td>180 EUR</td>\n",
       "      <td>Qualcomm MSM8974AA Snapdragon 801 (28 nm)</td>\n",
       "      <td>Adreno 330</td>\n",
       "      <td>IPS</td>\n",
       "      <td>ZTE369</td>\n",
       "      <td>False</td>\n",
       "      <td>False</td>\n",
       "      <td>...</td>\n",
       "      <td>Android 4.4.2</td>\n",
       "      <td>4.0</td>\n",
       "      <td>Single</td>\n",
       "      <td>Single</td>\n",
       "      <td>True</td>\n",
       "      <td>True</td>\n",
       "      <td>Wi-Fi 802.11 a/b/g/n/ac</td>\n",
       "      <td>False</td>\n",
       "      <td>4.0</td>\n",
       "      <td>69.3</td>\n",
       "    </tr>\n",
       "    <tr>\n",
       "      <th>2322</th>\n",
       "      <td>2322</td>\n",
       "      <td>nubia Z9</td>\n",
       "      <td>2900</td>\n",
       "      <td>350 EUR</td>\n",
       "      <td>Qualcomm MSM8994 Snapdragon 810 (20 nm)</td>\n",
       "      <td>Adreno 430</td>\n",
       "      <td>IPS</td>\n",
       "      <td>ZTE369</td>\n",
       "      <td>False</td>\n",
       "      <td>False</td>\n",
       "      <td>...</td>\n",
       "      <td>Android 5.2</td>\n",
       "      <td>8.0</td>\n",
       "      <td>Single</td>\n",
       "      <td>Single</td>\n",
       "      <td>True</td>\n",
       "      <td>True</td>\n",
       "      <td>Wi-Fi 802.11 a/b/g/n/ac</td>\n",
       "      <td>True</td>\n",
       "      <td>4.1</td>\n",
       "      <td>74.0</td>\n",
       "    </tr>\n",
       "    <tr>\n",
       "      <th>2323</th>\n",
       "      <td>2323</td>\n",
       "      <td>nubia Z9 Max</td>\n",
       "      <td>2900</td>\n",
       "      <td>200 EUR</td>\n",
       "      <td>Qualcomm MSM8994 Snapdragon 810 (20 nm)</td>\n",
       "      <td>Adreno 430</td>\n",
       "      <td>IPS</td>\n",
       "      <td>ZTE369</td>\n",
       "      <td>False</td>\n",
       "      <td>False</td>\n",
       "      <td>...</td>\n",
       "      <td>Android 5.0.2</td>\n",
       "      <td>8.0</td>\n",
       "      <td>Single</td>\n",
       "      <td>Single</td>\n",
       "      <td>True</td>\n",
       "      <td>False</td>\n",
       "      <td>Wi-Fi 802.11 a/b/g/n/ac</td>\n",
       "      <td>True</td>\n",
       "      <td>4.1</td>\n",
       "      <td>70.3</td>\n",
       "    </tr>\n",
       "    <tr>\n",
       "      <th>2324</th>\n",
       "      <td>2324</td>\n",
       "      <td>nubia Z9 mini</td>\n",
       "      <td>2900</td>\n",
       "      <td>170 EUR</td>\n",
       "      <td>Qualcomm MSM8939 Snapdragon 615 (28 nm)</td>\n",
       "      <td>Adreno 405</td>\n",
       "      <td>IPS</td>\n",
       "      <td>ZTE369</td>\n",
       "      <td>False</td>\n",
       "      <td>False</td>\n",
       "      <td>...</td>\n",
       "      <td>Android 5.0.2</td>\n",
       "      <td>8.0</td>\n",
       "      <td>Single</td>\n",
       "      <td>Single</td>\n",
       "      <td>True</td>\n",
       "      <td>True</td>\n",
       "      <td>Wi-Fi 802.11 a/b/g/n/ac</td>\n",
       "      <td>False</td>\n",
       "      <td>4.0</td>\n",
       "      <td>69.9</td>\n",
       "    </tr>\n",
       "  </tbody>\n",
       "</table>\n",
       "<p>2325 rows × 32 columns</p>\n",
       "</div>"
      ],
      "text/plain": [
       "      Unnamed: 0     DeviceName BatterymAh    Price  \\\n",
       "0              0              1       2000   60 EUR   \n",
       "1              1       1 (2021)       2000   60 EUR   \n",
       "2              2         1 Plus       2500   80 EUR   \n",
       "3              3            1.3       3000  170 EUR   \n",
       "4              4            1.4       4000   90 EUR   \n",
       "...          ...            ...        ...      ...   \n",
       "2320        2320   nubia Z7 Max       3100  240 EUR   \n",
       "2321        2321  nubia Z7 mini       2300  180 EUR   \n",
       "2322        2322       nubia Z9       2900  350 EUR   \n",
       "2323        2323   nubia Z9 Max       2900  200 EUR   \n",
       "2324        2324  nubia Z9 mini       2900  170 EUR   \n",
       "\n",
       "                                        Chipset             GPU DisplayType  \\\n",
       "0                       Mediatek MT6739 (28 nm)  PowerVR GE8100         TFT   \n",
       "1                       Mediatek MT6739 (28 nm)  PowerVR GE8100         TFT   \n",
       "2                     Mediatek MT6739WW (28 nm)  PowerVR GE8100         IPS   \n",
       "3         Qualcomm QM215 Snapdragon 215 (28 nm)      Adreno 308         IPS   \n",
       "4         Qualcomm QM215 Snapdragon 215 (28 nm)      Adreno 308         IPS   \n",
       "...                                         ...             ...         ...   \n",
       "2320  Qualcomm MSM8974AC Snapdragon 801 (28 nm)      Adreno 330         IPS   \n",
       "2321  Qualcomm MSM8974AA Snapdragon 801 (28 nm)      Adreno 330         IPS   \n",
       "2322    Qualcomm MSM8994 Snapdragon 810 (20 nm)      Adreno 430         IPS   \n",
       "2323    Qualcomm MSM8994 Snapdragon 810 (20 nm)      Adreno 430         IPS   \n",
       "2324    Qualcomm MSM8939 Snapdragon 615 (28 nm)      Adreno 405         IPS   \n",
       "\n",
       "       BrandName   GPRS   EDGE  ...                 OS CPUCoreCount  \\\n",
       "0     alcatel409  False  False  ...  Android 8.1 Oreo           4.0   \n",
       "1     alcatel409  False  False  ...        Android 11           4.0   \n",
       "2       Nokia576  False  False  ...   Android 9.0 Pie           4.0   \n",
       "3       Nokia576  False  False  ...        Android 10           4.0   \n",
       "4       Nokia576  False  False  ...        Android 10           4.0   \n",
       "...          ...    ...    ...  ...                ...          ...   \n",
       "2320      ZTE369  False  False  ...     Android 4.4.2           4.0   \n",
       "2321      ZTE369  False  False  ...     Android 4.4.2           4.0   \n",
       "2322      ZTE369  False  False  ...       Android 5.2           8.0   \n",
       "2323      ZTE369  False  False  ...     Android 5.0.2           8.0   \n",
       "2324      ZTE369  False  False  ...     Android 5.0.2           8.0   \n",
       "\n",
       "      MainCamera  SelfieCamera  LoudSpeaker  Jack35                     WLAN  \\\n",
       "0         Single        Single         True    True       Wi-Fi 802.11 b/g/n   \n",
       "1         Single        Single         True    True       Wi-Fi 802.11 b/g/n   \n",
       "2         Single        Single         True    True     Wi-Fi 802.11 a/b/g/n   \n",
       "3         Single        Single         True    True       Wi-Fi 802.11 b/g/n   \n",
       "4           Dual        Single         True    True       Wi-Fi 802.11 b/g/n   \n",
       "...          ...           ...          ...     ...                      ...   \n",
       "2320      Single        Single         True    True  Wi-Fi 802.11 a/b/g/n/ac   \n",
       "2321      Single        Single         True    True  Wi-Fi 802.11 a/b/g/n/ac   \n",
       "2322      Single        Single         True    True  Wi-Fi 802.11 a/b/g/n/ac   \n",
       "2323      Single        Single         True   False  Wi-Fi 802.11 a/b/g/n/ac   \n",
       "2324      Single        Single         True    True  Wi-Fi 802.11 a/b/g/n/ac   \n",
       "\n",
       "        NFC  Bluetooth  ScreenToBodyRatio  \n",
       "0     False        4.2               71.4  \n",
       "1     False        4.2               71.4  \n",
       "2     False        4.2               75.1  \n",
       "3     False        4.2               77.6  \n",
       "4     False        4.2               80.4  \n",
       "...     ...        ...                ...  \n",
       "2320   True        4.0               71.1  \n",
       "2321  False        4.0               69.3  \n",
       "2322   True        4.1               74.0  \n",
       "2323   True        4.1               70.3  \n",
       "2324  False        4.0               69.9  \n",
       "\n",
       "[2325 rows x 32 columns]"
      ]
     },
     "execution_count": 6,
     "metadata": {},
     "output_type": "execute_result"
    }
   ],
   "source": [
    "devices_df"
   ]
  },
  {
   "cell_type": "code",
   "execution_count": 7,
   "metadata": {},
   "outputs": [
    {
     "data": {
      "text/html": [
       "<div>\n",
       "<style scoped>\n",
       "    .dataframe tbody tr th:only-of-type {\n",
       "        vertical-align: middle;\n",
       "    }\n",
       "\n",
       "    .dataframe tbody tr th {\n",
       "        vertical-align: top;\n",
       "    }\n",
       "\n",
       "    .dataframe thead th {\n",
       "        text-align: right;\n",
       "    }\n",
       "</style>\n",
       "<table border=\"1\" class=\"dataframe\">\n",
       "  <thead>\n",
       "    <tr style=\"text-align: right;\">\n",
       "      <th></th>\n",
       "      <th>DeviceName</th>\n",
       "      <th>Price</th>\n",
       "      <th>SIM</th>\n",
       "    </tr>\n",
       "  </thead>\n",
       "  <tbody>\n",
       "    <tr>\n",
       "      <th>0</th>\n",
       "      <td>1</td>\n",
       "      <td>60 EUR</td>\n",
       "      <td>Nano-SIM</td>\n",
       "    </tr>\n",
       "    <tr>\n",
       "      <th>2</th>\n",
       "      <td>1</td>\n",
       "      <td>60 EUR</td>\n",
       "      <td>Micro-SIM</td>\n",
       "    </tr>\n",
       "    <tr>\n",
       "      <th>3</th>\n",
       "      <td>1 (2021)</td>\n",
       "      <td>60 EUR</td>\n",
       "      <td>Nano-SIM</td>\n",
       "    </tr>\n",
       "    <tr>\n",
       "      <th>4</th>\n",
       "      <td>1 Plus</td>\n",
       "      <td>80 EUR</td>\n",
       "      <td>Nano-SIM</td>\n",
       "    </tr>\n",
       "    <tr>\n",
       "      <th>5</th>\n",
       "      <td>1.3</td>\n",
       "      <td>170 EUR</td>\n",
       "      <td>Nano-SIM</td>\n",
       "    </tr>\n",
       "    <tr>\n",
       "      <th>...</th>\n",
       "      <td>...</td>\n",
       "      <td>...</td>\n",
       "      <td>...</td>\n",
       "    </tr>\n",
       "    <tr>\n",
       "      <th>2316</th>\n",
       "      <td>nubia Z7 Max</td>\n",
       "      <td>240 EUR</td>\n",
       "      <td>Micro-SIM</td>\n",
       "    </tr>\n",
       "    <tr>\n",
       "      <th>2317</th>\n",
       "      <td>nubia Z7 mini</td>\n",
       "      <td>180 EUR</td>\n",
       "      <td>Micro-SIM</td>\n",
       "    </tr>\n",
       "    <tr>\n",
       "      <th>2318</th>\n",
       "      <td>nubia Z9</td>\n",
       "      <td>350 EUR</td>\n",
       "      <td>Nano-SIM</td>\n",
       "    </tr>\n",
       "    <tr>\n",
       "      <th>2319</th>\n",
       "      <td>nubia Z9 Max</td>\n",
       "      <td>200 EUR</td>\n",
       "      <td>Nano-SIM</td>\n",
       "    </tr>\n",
       "    <tr>\n",
       "      <th>2320</th>\n",
       "      <td>nubia Z9 mini</td>\n",
       "      <td>170 EUR</td>\n",
       "      <td>Nano-SIM</td>\n",
       "    </tr>\n",
       "  </tbody>\n",
       "</table>\n",
       "<p>2307 rows × 3 columns</p>\n",
       "</div>"
      ],
      "text/plain": [
       "         DeviceName    Price        SIM\n",
       "0                 1   60 EUR   Nano-SIM\n",
       "2                 1   60 EUR  Micro-SIM\n",
       "3          1 (2021)   60 EUR   Nano-SIM\n",
       "4            1 Plus   80 EUR   Nano-SIM\n",
       "5               1.3  170 EUR   Nano-SIM\n",
       "...             ...      ...        ...\n",
       "2316   nubia Z7 Max  240 EUR  Micro-SIM\n",
       "2317  nubia Z7 mini  180 EUR  Micro-SIM\n",
       "2318       nubia Z9  350 EUR   Nano-SIM\n",
       "2319   nubia Z9 Max  200 EUR   Nano-SIM\n",
       "2320  nubia Z9 mini  170 EUR   Nano-SIM\n",
       "\n",
       "[2307 rows x 3 columns]"
      ]
     },
     "execution_count": 7,
     "metadata": {},
     "output_type": "execute_result"
    }
   ],
   "source": [
    "sim_price = devices_df.merge(device_sim , on = 'DeviceName')[['DeviceName' , 'Price' , 'SIM']].drop_duplicates(keep='first')\n",
    "sim_price"
   ]
  },
  {
   "cell_type": "markdown",
   "metadata": {},
   "source": [
    "#### Convert Price from object into int "
   ]
  },
  {
   "cell_type": "code",
   "execution_count": 8,
   "metadata": {},
   "outputs": [],
   "source": [
    "prices = [] \n",
    "for price in sim_price['Price'] :\n",
    "    prices.append(price.split(' ')[0])\n",
    "\n",
    "sim_price['Price'] = prices\n",
    "sim_price['Price'] = sim_price['Price'].astype('int')"
   ]
  },
  {
   "cell_type": "code",
   "execution_count": 9,
   "metadata": {},
   "outputs": [
    {
     "data": {
      "text/plain": [
       "array(['Nano-SIM', 'Micro-SIM', 'eSIM', 'Mini-SIM'], dtype=object)"
      ]
     },
     "execution_count": 9,
     "metadata": {},
     "output_type": "execute_result"
    }
   ],
   "source": [
    "sim_price['SIM'].unique()"
   ]
  },
  {
   "cell_type": "code",
   "execution_count": 10,
   "metadata": {},
   "outputs": [
    {
     "data": {
      "text/plain": [
       "SIM\n",
       "Nano-SIM     1425\n",
       "Micro-SIM     605\n",
       "Mini-SIM      214\n",
       "eSIM           63\n",
       "Name: count, dtype: int64"
      ]
     },
     "execution_count": 10,
     "metadata": {},
     "output_type": "execute_result"
    }
   ],
   "source": [
    "sim_price['SIM'].value_counts()"
   ]
  },
  {
   "cell_type": "markdown",
   "metadata": {},
   "source": [
    "### Normality & Homogeneity "
   ]
  },
  {
   "cell_type": "code",
   "execution_count": 26,
   "metadata": {},
   "outputs": [
    {
     "name": "stderr",
     "output_type": "stream",
     "text": [
      "/Applications/anaconda3/envs/quera/lib/python3.9/site-packages/seaborn/_oldcore.py:1119: FutureWarning: use_inf_as_na option is deprecated and will be removed in a future version. Convert inf values to NaN before operating instead.\n",
      "  with pd.option_context('mode.use_inf_as_na', True):\n"
     ]
    },
    {
     "data": {
      "text/plain": [
       "<Axes: xlabel='Price', ylabel='Count'>"
      ]
     },
     "execution_count": 26,
     "metadata": {},
     "output_type": "execute_result"
    },
    {
     "data": {
      "image/png": "[encoded data removed]",
      "text/plain": [
       "<Figure size 640x480 with 1 Axes>"
      ]
     },
     "metadata": {},
     "output_type": "display_data"
    }
   ],
   "source": [
    "sns.histplot(sim_price['Price'])"
   ]
  },
  {
   "cell_type": "code",
   "execution_count": 30,
   "metadata": {},
   "outputs": [],
   "source": [
    "from scipy.stats import normaltest , levene , f_oneway"
   ]
  },
  {
   "cell_type": "code",
   "execution_count": 31,
   "metadata": {},
   "outputs": [
    {
     "name": "stdout",
     "output_type": "stream",
     "text": [
      "D'Agostino-Pearson Test of : Statistics=1166.069583696845, p-value=6.183112417166388e-254\n"
     ]
    }
   ],
   "source": [
    "stat_dagostino, p_value_dagostino = normaltest(sim_price['Price'])\n",
    "print(f\"D'Agostino-Pearson Test of : Statistics={stat_dagostino}, p-value={p_value_dagostino}\")"
   ]
  },
  {
   "cell_type": "code",
   "execution_count": 32,
   "metadata": {},
   "outputs": [
    {
     "data": {
      "text/plain": [
       "7.497598869446906e-52"
      ]
     },
     "execution_count": 32,
     "metadata": {},
     "output_type": "execute_result"
    }
   ],
   "source": [
    "_, p_value_leneve = levene(\n",
    "    sim_price[sim_price['SIM'] == 'Nano-SIM']['Price'],\n",
    "    sim_price[sim_price['SIM'] == 'Micro-SIM']['Price'],\n",
    "    sim_price[sim_price['SIM'] == 'eSIM']['Price'],\n",
    "    sim_price[sim_price['SIM'] == 'Mini-SIM']['Price']\n",
    ")\n",
    "p_value_leneve"
   ]
  },
  {
   "cell_type": "markdown",
   "metadata": {},
   "source": [
    "Normality and Homogeneity are not met for this data "
   ]
  },
  {
   "cell_type": "markdown",
   "metadata": {},
   "source": [
    "#### Make data normal "
   ]
  },
  {
   "cell_type": "code",
   "execution_count": 42,
   "metadata": {},
   "outputs": [],
   "source": [
    "from scipy.stats import yeojohnson , boxcox "
   ]
  },
  {
   "cell_type": "code",
   "execution_count": 39,
   "metadata": {},
   "outputs": [
    {
     "data": {
      "text/plain": [
       "0.3594151360954414"
      ]
     },
     "execution_count": 39,
     "metadata": {},
     "output_type": "execute_result"
    }
   ],
   "source": [
    "yeojohnson(sim_price['Price'])[1]"
   ]
  },
  {
   "cell_type": "code",
   "execution_count": 38,
   "metadata": {},
   "outputs": [],
   "source": [
    "sim_price['Normal_price'] = yeojohnson(sim_price['Price'])[0]"
   ]
  },
  {
   "cell_type": "code",
   "execution_count": 41,
   "metadata": {},
   "outputs": [
    {
     "name": "stderr",
     "output_type": "stream",
     "text": [
      "/Applications/anaconda3/envs/quera/lib/python3.9/site-packages/seaborn/_oldcore.py:1119: FutureWarning: use_inf_as_na option is deprecated and will be removed in a future version. Convert inf values to NaN before operating instead.\n",
      "  with pd.option_context('mode.use_inf_as_na', True):\n"
     ]
    },
    {
     "data": {
      "text/plain": [
       "<Axes: xlabel='Normal_price', ylabel='Count'>"
      ]
     },
     "execution_count": 41,
     "metadata": {},
     "output_type": "execute_result"
    },
    {
     "data": {
      "image/png": "[encoded data removed]",
      "text/plain": [
       "<Figure size 640x480 with 1 Axes>"
      ]
     },
     "metadata": {},
     "output_type": "display_data"
    }
   ],
   "source": [
    "sns.histplot(sim_price['Normal_price'])"
   ]
  },
  {
   "cell_type": "code",
   "execution_count": 40,
   "metadata": {},
   "outputs": [
    {
     "name": "stdout",
     "output_type": "stream",
     "text": [
      "D'Agostino-Pearson Test of : Statistics=103.87477962540903, p-value=2.778933792220195e-23\n"
     ]
    }
   ],
   "source": [
    "stat_dagostino, p_value_dagostino = normaltest(sim_price['Normal_price'])\n",
    "print(f\"D'Agostino-Pearson Test of : Statistics={stat_dagostino}, p-value={p_value_dagostino}\")"
   ]
  },
  {
   "cell_type": "code",
   "execution_count": 46,
   "metadata": {},
   "outputs": [],
   "source": [
    "sim_price['Normal_price'] = boxcox(sim_price['Price']+1)[0]"
   ]
  },
  {
   "cell_type": "code",
   "execution_count": 47,
   "metadata": {},
   "outputs": [
    {
     "name": "stderr",
     "output_type": "stream",
     "text": [
      "/Applications/anaconda3/envs/quera/lib/python3.9/site-packages/seaborn/_oldcore.py:1119: FutureWarning: use_inf_as_na option is deprecated and will be removed in a future version. Convert inf values to NaN before operating instead.\n",
      "  with pd.option_context('mode.use_inf_as_na', True):\n"
     ]
    },
    {
     "data": {
      "text/plain": [
       "<Axes: xlabel='Normal_price', ylabel='Count'>"
      ]
     },
     "execution_count": 47,
     "metadata": {},
     "output_type": "execute_result"
    },
    {
     "data": {
      "image/png": "[encoded data removed]",
      "text/plain": [
       "<Figure size 640x480 with 1 Axes>"
      ]
     },
     "metadata": {},
     "output_type": "display_data"
    }
   ],
   "source": [
    "sns.histplot(sim_price['Normal_price'])"
   ]
  },
  {
   "cell_type": "code",
   "execution_count": 48,
   "metadata": {},
   "outputs": [
    {
     "name": "stdout",
     "output_type": "stream",
     "text": [
      "D'Agostino-Pearson Test of : Statistics=103.87477962540899, p-value=2.7789337922202556e-23\n"
     ]
    }
   ],
   "source": [
    "stat_dagostino, p_value_dagostino = normaltest(sim_price['Normal_price'])\n",
    "print(f\"D'Agostino-Pearson Test of : Statistics={stat_dagostino}, p-value={p_value_dagostino}\")"
   ]
  },
  {
   "cell_type": "code",
   "execution_count": 50,
   "metadata": {},
   "outputs": [],
   "source": [
    "sim_price['Normal_price'] = np.log(sim_price['Price']+1)"
   ]
  },
  {
   "cell_type": "code",
   "execution_count": 51,
   "metadata": {},
   "outputs": [
    {
     "name": "stderr",
     "output_type": "stream",
     "text": [
      "/Applications/anaconda3/envs/quera/lib/python3.9/site-packages/seaborn/_oldcore.py:1119: FutureWarning: use_inf_as_na option is deprecated and will be removed in a future version. Convert inf values to NaN before operating instead.\n",
      "  with pd.option_context('mode.use_inf_as_na', True):\n"
     ]
    },
    {
     "data": {
      "text/plain": [
       "<Axes: xlabel='Normal_price', ylabel='Count'>"
      ]
     },
     "execution_count": 51,
     "metadata": {},
     "output_type": "execute_result"
    },
    {
     "data": {
      "image/png": "[encoded data removed]",
      "text/plain": [
       "<Figure size 640x480 with 1 Axes>"
      ]
     },
     "metadata": {},
     "output_type": "display_data"
    }
   ],
   "source": [
    "sns.histplot(sim_price['Normal_price'])"
   ]
  },
  {
   "cell_type": "code",
   "execution_count": 52,
   "metadata": {},
   "outputs": [
    {
     "name": "stdout",
     "output_type": "stream",
     "text": [
      "D'Agostino-Pearson Test of : Statistics=1349.3949230102016, p-value=9.607613289346455e-294\n"
     ]
    }
   ],
   "source": [
    "stat_dagostino, p_value_dagostino = normaltest(sim_price['Normal_price'])\n",
    "print(f\"D'Agostino-Pearson Test of : Statistics={stat_dagostino}, p-value={p_value_dagostino}\")"
   ]
  },
  {
   "cell_type": "code",
   "execution_count": 54,
   "metadata": {},
   "outputs": [],
   "source": [
    "from scipy.stats import kruskal"
   ]
  },
  {
   "cell_type": "code",
   "execution_count": 56,
   "metadata": {},
   "outputs": [
    {
     "data": {
      "text/plain": [
       "1.543181273227372e-13"
      ]
     },
     "execution_count": 56,
     "metadata": {},
     "output_type": "execute_result"
    }
   ],
   "source": [
    "statistic, p_value = kruskal(\n",
    "    sim_price[sim_price['SIM'] == 'Nano-SIM']['Price'],\n",
    "    sim_price[sim_price['SIM'] == 'Micro-SIM']['Price'],\n",
    "    sim_price[sim_price['SIM'] == 'eSIM']['Price'],\n",
    "    sim_price[sim_price['SIM'] == 'Mini-SIM']['Price']\n",
    ")\n",
    "p_value"
   ]
  },
  {
   "cell_type": "code",
   "execution_count": 57,
   "metadata": {},
   "outputs": [
    {
     "data": {
      "text/plain": [
       "1.5226057240038718e-29"
      ]
     },
     "execution_count": 57,
     "metadata": {},
     "output_type": "execute_result"
    }
   ],
   "source": [
    "anova_result = f_oneway(\n",
    "    sim_price[sim_price['SIM'] == 'Nano-SIM']['Price'],\n",
    "    sim_price[sim_price['SIM'] == 'Micro-SIM']['Price'],\n",
    "    sim_price[sim_price['SIM'] == 'eSIM']['Price'],\n",
    "    sim_price[sim_price['SIM'] == 'Mini-SIM']['Price']\n",
    ")\n",
    "anova_result.pvalue"
   ]
  },
  {
   "cell_type": "markdown",
   "metadata": {},
   "source": [
    "RESULT : Type of SIM does effect the price of each device "
   ]
  },
  {
   "cell_type": "markdown",
   "metadata": {},
   "source": [
    "### SIZE ~ PRICE"
   ]
  },
  {
   "cell_type": "markdown",
   "metadata": {},
   "source": [
    "### Fetching required data from database "
   ]
  },
  {
   "cell_type": "code",
   "execution_count": 15,
   "metadata": {},
   "outputs": [],
   "source": [
    "cur = conn.cursor()\n",
    "cur.execute(''' SELECT \"DisplaySize\" , \"Price\"\n",
    "                FROM devices;''')\n",
    "\n",
    "rows = cur.fetchall()\n",
    "col_names = [desc[0] for desc in cur.description]\n",
    "\n",
    "displaysize_price = pd.DataFrame(rows, columns=col_names)"
   ]
  },
  {
   "cell_type": "code",
   "execution_count": 16,
   "metadata": {},
   "outputs": [
    {
     "data": {
      "text/html": [
       "<div>\n",
       "<style scoped>\n",
       "    .dataframe tbody tr th:only-of-type {\n",
       "        vertical-align: middle;\n",
       "    }\n",
       "\n",
       "    .dataframe tbody tr th {\n",
       "        vertical-align: top;\n",
       "    }\n",
       "\n",
       "    .dataframe thead th {\n",
       "        text-align: right;\n",
       "    }\n",
       "</style>\n",
       "<table border=\"1\" class=\"dataframe\">\n",
       "  <thead>\n",
       "    <tr style=\"text-align: right;\">\n",
       "      <th></th>\n",
       "      <th>DisplaySize</th>\n",
       "      <th>Price</th>\n",
       "    </tr>\n",
       "  </thead>\n",
       "  <tbody>\n",
       "    <tr>\n",
       "      <th>0</th>\n",
       "      <td>6.55</td>\n",
       "      <td>999</td>\n",
       "    </tr>\n",
       "    <tr>\n",
       "      <th>1</th>\n",
       "      <td>6.67</td>\n",
       "      <td>49</td>\n",
       "    </tr>\n",
       "    <tr>\n",
       "      <th>2</th>\n",
       "      <td>6.67</td>\n",
       "      <td>999</td>\n",
       "    </tr>\n",
       "    <tr>\n",
       "      <th>3</th>\n",
       "      <td>6.67</td>\n",
       "      <td>990</td>\n",
       "    </tr>\n",
       "    <tr>\n",
       "      <th>4</th>\n",
       "      <td>6.28</td>\n",
       "      <td>0</td>\n",
       "    </tr>\n",
       "    <tr>\n",
       "      <th>...</th>\n",
       "      <td>...</td>\n",
       "      <td>...</td>\n",
       "    </tr>\n",
       "    <tr>\n",
       "      <th>4654</th>\n",
       "      <td>5.50</td>\n",
       "      <td>240 EUR</td>\n",
       "    </tr>\n",
       "    <tr>\n",
       "      <th>4655</th>\n",
       "      <td>5.00</td>\n",
       "      <td>180 EUR</td>\n",
       "    </tr>\n",
       "    <tr>\n",
       "      <th>4656</th>\n",
       "      <td>5.20</td>\n",
       "      <td>350 EUR</td>\n",
       "    </tr>\n",
       "    <tr>\n",
       "      <th>4657</th>\n",
       "      <td>5.50</td>\n",
       "      <td>200 EUR</td>\n",
       "    </tr>\n",
       "    <tr>\n",
       "      <th>4658</th>\n",
       "      <td>5.00</td>\n",
       "      <td>170 EUR</td>\n",
       "    </tr>\n",
       "  </tbody>\n",
       "</table>\n",
       "<p>4659 rows × 2 columns</p>\n",
       "</div>"
      ],
      "text/plain": [
       "      DisplaySize    Price\n",
       "0            6.55      999\n",
       "1            6.67       49\n",
       "2            6.67      999\n",
       "3            6.67      990\n",
       "4            6.28        0\n",
       "...           ...      ...\n",
       "4654         5.50  240 EUR\n",
       "4655         5.00  180 EUR\n",
       "4656         5.20  350 EUR\n",
       "4657         5.50  200 EUR\n",
       "4658         5.00  170 EUR\n",
       "\n",
       "[4659 rows x 2 columns]"
      ]
     },
     "execution_count": 16,
     "metadata": {},
     "output_type": "execute_result"
    }
   ],
   "source": [
    "displaysize_price"
   ]
  },
  {
   "cell_type": "markdown",
   "metadata": {},
   "source": [
    "#### Convert Price from object into int "
   ]
  },
  {
   "cell_type": "code",
   "execution_count": 17,
   "metadata": {},
   "outputs": [],
   "source": [
    "prices = [] \n",
    "for price in displaysize_price['Price'] :\n",
    "    prices.append(price.split(' ')[0])\n",
    "\n",
    "displaysize_price['Price'] = prices\n",
    "displaysize_price['Price'] = displaysize_price['Price'].astype('int')"
   ]
  },
  {
   "cell_type": "markdown",
   "metadata": {},
   "source": [
    "#### Does Price have normal distribution ?"
   ]
  },
  {
   "cell_type": "code",
   "execution_count": 18,
   "metadata": {},
   "outputs": [
    {
     "name": "stderr",
     "output_type": "stream",
     "text": [
      "/Applications/anaconda3/envs/quera/lib/python3.9/site-packages/seaborn/_oldcore.py:1119: FutureWarning: use_inf_as_na option is deprecated and will be removed in a future version. Convert inf values to NaN before operating instead.\n",
      "  with pd.option_context('mode.use_inf_as_na', True):\n"
     ]
    },
    {
     "data": {
      "text/plain": [
       "<Axes: xlabel='Price', ylabel='Count'>"
      ]
     },
     "execution_count": 18,
     "metadata": {},
     "output_type": "execute_result"
    },
    {
     "data": {
      "image/png": "[encoded data removed]",
      "text/plain": [
       "<Figure size 640x480 with 1 Axes>"
      ]
     },
     "metadata": {},
     "output_type": "display_data"
    }
   ],
   "source": [
    "sns.histplot(displaysize_price['Price'])"
   ]
  },
  {
   "cell_type": "code",
   "execution_count": 19,
   "metadata": {},
   "outputs": [],
   "source": [
    "from scipy.stats import shapiro , normaltest\n"
   ]
  },
  {
   "cell_type": "code",
   "execution_count": 20,
   "metadata": {},
   "outputs": [
    {
     "name": "stdout",
     "output_type": "stream",
     "text": [
      "Shapiro-Wilk Test  : Statistics=0.7589888572692871, p-value=0.0\n",
      "D'Agostino-Pearson Test of : Statistics=2467.624763288633, p-value=0.0\n"
     ]
    }
   ],
   "source": [
    "stat_dagostino, p_value_dagostino = normaltest(displaysize_price['Price'])\n",
    "print(f\"D'Agostino-Pearson Test of : Statistics={stat_dagostino}, p-value={p_value_dagostino}\")"
   ]
  },
  {
   "cell_type": "markdown",
   "metadata": {},
   "source": [
    "price does not have normal distribution so we nedd to use mannwhitneyu test to understand whether the size of display effects price "
   ]
  },
  {
   "cell_type": "markdown",
   "metadata": {},
   "source": [
    "#### Split data based on their display size "
   ]
  },
  {
   "cell_type": "code",
   "execution_count": 40,
   "metadata": {},
   "outputs": [],
   "source": [
    "small_display = displaysize_price[displaysize_price['DisplaySize'] < 7 ]['Price']\n",
    "big_display = displaysize_price[displaysize_price['DisplaySize'] >= 7 ]['Price']"
   ]
  },
  {
   "cell_type": "markdown",
   "metadata": {},
   "source": [
    "#### U_Test"
   ]
  },
  {
   "cell_type": "code",
   "execution_count": 38,
   "metadata": {},
   "outputs": [],
   "source": [
    "from scipy.stats import mannwhitneyu"
   ]
  },
  {
   "cell_type": "code",
   "execution_count": 43,
   "metadata": {},
   "outputs": [
    {
     "data": {
      "text/plain": [
       "8.37509672492774e-25"
      ]
     },
     "execution_count": 43,
     "metadata": {},
     "output_type": "execute_result"
    }
   ],
   "source": [
    "u_statistic, p_value = mannwhitneyu(small_display, big_display )\n",
    "p_value"
   ]
  },
  {
   "cell_type": "code",
   "execution_count": 41,
   "metadata": {},
   "outputs": [
    {
     "data": {
      "text/plain": [
       "1.0"
      ]
     },
     "execution_count": 41,
     "metadata": {},
     "output_type": "execute_result"
    }
   ],
   "source": [
    "u_statistic, p_value = mannwhitneyu(small_display, big_display , alternative='greater')\n",
    "p_value"
   ]
  },
  {
   "cell_type": "code",
   "execution_count": 42,
   "metadata": {},
   "outputs": [
    {
     "data": {
      "text/plain": [
       "4.18754836246387e-25"
      ]
     },
     "execution_count": 42,
     "metadata": {},
     "output_type": "execute_result"
    }
   ],
   "source": [
    "u_statistic, p_value = mannwhitneyu( big_display , small_display, alternative='greater')\n",
    "p_value"
   ]
  },
  {
   "cell_type": "markdown",
   "metadata": {},
   "source": [
    "RESULT : There is a significant difference between price of small display devices and big ones "
   ]
  },
  {
   "cell_type": "markdown",
   "metadata": {},
   "source": []
  }
 ],
 "metadata": {
  "kernelspec": {
   "display_name": "quera",
   "language": "python",
   "name": "python3"
  },
  "language_info": {
   "codemirror_mode": {
    "name": "ipython",
    "version": 3
   },
   "file_extension": ".py",
   "mimetype": "text/x-python",
   "name": "python",
   "nbconvert_exporter": "python",
   "pygments_lexer": "ipython3",
   "version": "3.9.18"
  }
 },
 "nbformat": 4,
 "nbformat_minor": 2
}

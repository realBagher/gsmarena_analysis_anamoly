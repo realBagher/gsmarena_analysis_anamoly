{
 "cells": [
  {
   "cell_type": "code",
   "execution_count": 1,
   "metadata": {},
   "outputs": [],
   "source": [
    "import pandas as pd\n",
    "import numpy as np"
   ]
  },
  {
   "cell_type": "code",
   "execution_count": 15,
   "metadata": {},
   "outputs": [],
   "source": [
    "from sklearn.model_selection import train_test_split"
   ]
  },
  {
   "cell_type": "code",
   "execution_count": null,
   "metadata": {},
   "outputs": [],
   "source": [
    "from sklearn.preprocessing import MinMaxScaler , StandardScaler "
   ]
  },
  {
   "cell_type": "markdown",
   "metadata": {},
   "source": [
    "loading dataset "
   ]
  },
  {
   "cell_type": "code",
   "execution_count": 3,
   "metadata": {},
   "outputs": [
    {
     "data": {
      "text/html": [
       "<div>\n",
       "<style scoped>\n",
       "    .dataframe tbody tr th:only-of-type {\n",
       "        vertical-align: middle;\n",
       "    }\n",
       "\n",
       "    .dataframe tbody tr th {\n",
       "        vertical-align: top;\n",
       "    }\n",
       "\n",
       "    .dataframe thead th {\n",
       "        text-align: right;\n",
       "    }\n",
       "</style>\n",
       "<table border=\"1\" class=\"dataframe\">\n",
       "  <thead>\n",
       "    <tr style=\"text-align: right;\">\n",
       "      <th></th>\n",
       "      <th>Unnamed: 0</th>\n",
       "      <th>brand_alcatel</th>\n",
       "      <th>brand_apple</th>\n",
       "      <th>brand_asus</th>\n",
       "      <th>brand_blu</th>\n",
       "      <th>brand_htc</th>\n",
       "      <th>brand_huawei</th>\n",
       "      <th>brand_infinix</th>\n",
       "      <th>brand_lenovo</th>\n",
       "      <th>brand_lg</th>\n",
       "      <th>...</th>\n",
       "      <th>CPU</th>\n",
       "      <th>ratio</th>\n",
       "      <th>pixel</th>\n",
       "      <th>Loudspeaker</th>\n",
       "      <th>3.5mm jack</th>\n",
       "      <th>RAM</th>\n",
       "      <th>Storage</th>\n",
       "      <th>Color_count</th>\n",
       "      <th>Sensors_count</th>\n",
       "      <th>Bluetooth_version</th>\n",
       "    </tr>\n",
       "  </thead>\n",
       "  <tbody>\n",
       "    <tr>\n",
       "      <th>0</th>\n",
       "      <td>0</td>\n",
       "      <td>1.0</td>\n",
       "      <td>0.0</td>\n",
       "      <td>0.0</td>\n",
       "      <td>0.0</td>\n",
       "      <td>0.0</td>\n",
       "      <td>0.0</td>\n",
       "      <td>0.0</td>\n",
       "      <td>0.0</td>\n",
       "      <td>0.0</td>\n",
       "      <td>...</td>\n",
       "      <td>4.0</td>\n",
       "      <td>2.000000</td>\n",
       "      <td>1036800.0</td>\n",
       "      <td>1</td>\n",
       "      <td>1</td>\n",
       "      <td>2.000</td>\n",
       "      <td>32.0</td>\n",
       "      <td>2</td>\n",
       "      <td>1</td>\n",
       "      <td>5.0</td>\n",
       "    </tr>\n",
       "    <tr>\n",
       "      <th>1</th>\n",
       "      <td>1</td>\n",
       "      <td>1.0</td>\n",
       "      <td>0.0</td>\n",
       "      <td>0.0</td>\n",
       "      <td>0.0</td>\n",
       "      <td>0.0</td>\n",
       "      <td>0.0</td>\n",
       "      <td>0.0</td>\n",
       "      <td>0.0</td>\n",
       "      <td>0.0</td>\n",
       "      <td>...</td>\n",
       "      <td>8.0</td>\n",
       "      <td>0.555556</td>\n",
       "      <td>1123200.0</td>\n",
       "      <td>1</td>\n",
       "      <td>1</td>\n",
       "      <td>2.000</td>\n",
       "      <td>32.0</td>\n",
       "      <td>2</td>\n",
       "      <td>3</td>\n",
       "      <td>4.2</td>\n",
       "    </tr>\n",
       "    <tr>\n",
       "      <th>2</th>\n",
       "      <td>2</td>\n",
       "      <td>1.0</td>\n",
       "      <td>0.0</td>\n",
       "      <td>0.0</td>\n",
       "      <td>0.0</td>\n",
       "      <td>0.0</td>\n",
       "      <td>0.0</td>\n",
       "      <td>0.0</td>\n",
       "      <td>0.0</td>\n",
       "      <td>0.0</td>\n",
       "      <td>...</td>\n",
       "      <td>4.0</td>\n",
       "      <td>2.000000</td>\n",
       "      <td>460800.0</td>\n",
       "      <td>1</td>\n",
       "      <td>1</td>\n",
       "      <td>1.000</td>\n",
       "      <td>8.0</td>\n",
       "      <td>2</td>\n",
       "      <td>2</td>\n",
       "      <td>4.2</td>\n",
       "    </tr>\n",
       "    <tr>\n",
       "      <th>3</th>\n",
       "      <td>3</td>\n",
       "      <td>1.0</td>\n",
       "      <td>0.0</td>\n",
       "      <td>0.0</td>\n",
       "      <td>0.0</td>\n",
       "      <td>0.0</td>\n",
       "      <td>0.0</td>\n",
       "      <td>0.0</td>\n",
       "      <td>0.0</td>\n",
       "      <td>0.0</td>\n",
       "      <td>...</td>\n",
       "      <td>8.0</td>\n",
       "      <td>2.222222</td>\n",
       "      <td>1152000.0</td>\n",
       "      <td>1</td>\n",
       "      <td>1</td>\n",
       "      <td>4.000</td>\n",
       "      <td>64.0</td>\n",
       "      <td>2</td>\n",
       "      <td>4</td>\n",
       "      <td>5.0</td>\n",
       "    </tr>\n",
       "    <tr>\n",
       "      <th>4</th>\n",
       "      <td>4</td>\n",
       "      <td>1.0</td>\n",
       "      <td>0.0</td>\n",
       "      <td>0.0</td>\n",
       "      <td>0.0</td>\n",
       "      <td>0.0</td>\n",
       "      <td>0.0</td>\n",
       "      <td>0.0</td>\n",
       "      <td>0.0</td>\n",
       "      <td>0.0</td>\n",
       "      <td>...</td>\n",
       "      <td>8.0</td>\n",
       "      <td>2.222222</td>\n",
       "      <td>1152000.0</td>\n",
       "      <td>1</td>\n",
       "      <td>1</td>\n",
       "      <td>3.000</td>\n",
       "      <td>32.0</td>\n",
       "      <td>2</td>\n",
       "      <td>4</td>\n",
       "      <td>5.0</td>\n",
       "    </tr>\n",
       "    <tr>\n",
       "      <th>...</th>\n",
       "      <td>...</td>\n",
       "      <td>...</td>\n",
       "      <td>...</td>\n",
       "      <td>...</td>\n",
       "      <td>...</td>\n",
       "      <td>...</td>\n",
       "      <td>...</td>\n",
       "      <td>...</td>\n",
       "      <td>...</td>\n",
       "      <td>...</td>\n",
       "      <td>...</td>\n",
       "      <td>...</td>\n",
       "      <td>...</td>\n",
       "      <td>...</td>\n",
       "      <td>...</td>\n",
       "      <td>...</td>\n",
       "      <td>...</td>\n",
       "      <td>...</td>\n",
       "      <td>...</td>\n",
       "      <td>...</td>\n",
       "      <td>...</td>\n",
       "    </tr>\n",
       "    <tr>\n",
       "      <th>2646</th>\n",
       "      <td>2646</td>\n",
       "      <td>0.0</td>\n",
       "      <td>0.0</td>\n",
       "      <td>0.0</td>\n",
       "      <td>0.0</td>\n",
       "      <td>0.0</td>\n",
       "      <td>0.0</td>\n",
       "      <td>0.0</td>\n",
       "      <td>0.0</td>\n",
       "      <td>0.0</td>\n",
       "      <td>...</td>\n",
       "      <td>2.0</td>\n",
       "      <td>1.666667</td>\n",
       "      <td>96000.0</td>\n",
       "      <td>1</td>\n",
       "      <td>1</td>\n",
       "      <td>0.250</td>\n",
       "      <td>0.5</td>\n",
       "      <td>2</td>\n",
       "      <td>3</td>\n",
       "      <td>3.0</td>\n",
       "    </tr>\n",
       "    <tr>\n",
       "      <th>2647</th>\n",
       "      <td>2647</td>\n",
       "      <td>0.0</td>\n",
       "      <td>0.0</td>\n",
       "      <td>0.0</td>\n",
       "      <td>0.0</td>\n",
       "      <td>0.0</td>\n",
       "      <td>0.0</td>\n",
       "      <td>0.0</td>\n",
       "      <td>0.0</td>\n",
       "      <td>0.0</td>\n",
       "      <td>...</td>\n",
       "      <td>2.0</td>\n",
       "      <td>1.666667</td>\n",
       "      <td>96000.0</td>\n",
       "      <td>1</td>\n",
       "      <td>1</td>\n",
       "      <td>0.250</td>\n",
       "      <td>0.5</td>\n",
       "      <td>2</td>\n",
       "      <td>3</td>\n",
       "      <td>3.0</td>\n",
       "    </tr>\n",
       "    <tr>\n",
       "      <th>2648</th>\n",
       "      <td>2648</td>\n",
       "      <td>0.0</td>\n",
       "      <td>0.0</td>\n",
       "      <td>0.0</td>\n",
       "      <td>0.0</td>\n",
       "      <td>0.0</td>\n",
       "      <td>0.0</td>\n",
       "      <td>0.0</td>\n",
       "      <td>0.0</td>\n",
       "      <td>0.0</td>\n",
       "      <td>...</td>\n",
       "      <td>2.0</td>\n",
       "      <td>1.666667</td>\n",
       "      <td>384000.0</td>\n",
       "      <td>1</td>\n",
       "      <td>1</td>\n",
       "      <td>0.375</td>\n",
       "      <td>1.0</td>\n",
       "      <td>2</td>\n",
       "      <td>3</td>\n",
       "      <td>2.1</td>\n",
       "    </tr>\n",
       "    <tr>\n",
       "      <th>2649</th>\n",
       "      <td>2649</td>\n",
       "      <td>0.0</td>\n",
       "      <td>0.0</td>\n",
       "      <td>0.0</td>\n",
       "      <td>0.0</td>\n",
       "      <td>0.0</td>\n",
       "      <td>0.0</td>\n",
       "      <td>0.0</td>\n",
       "      <td>0.0</td>\n",
       "      <td>0.0</td>\n",
       "      <td>...</td>\n",
       "      <td>2.0</td>\n",
       "      <td>1.666667</td>\n",
       "      <td>384000.0</td>\n",
       "      <td>1</td>\n",
       "      <td>1</td>\n",
       "      <td>0.500</td>\n",
       "      <td>8.0</td>\n",
       "      <td>2</td>\n",
       "      <td>3</td>\n",
       "      <td>3.0</td>\n",
       "    </tr>\n",
       "    <tr>\n",
       "      <th>2650</th>\n",
       "      <td>2650</td>\n",
       "      <td>0.0</td>\n",
       "      <td>0.0</td>\n",
       "      <td>0.0</td>\n",
       "      <td>0.0</td>\n",
       "      <td>0.0</td>\n",
       "      <td>0.0</td>\n",
       "      <td>0.0</td>\n",
       "      <td>0.0</td>\n",
       "      <td>0.0</td>\n",
       "      <td>...</td>\n",
       "      <td>2.0</td>\n",
       "      <td>1.666667</td>\n",
       "      <td>384000.0</td>\n",
       "      <td>0</td>\n",
       "      <td>1</td>\n",
       "      <td>0.375</td>\n",
       "      <td>16.0</td>\n",
       "      <td>1</td>\n",
       "      <td>2</td>\n",
       "      <td>3.0</td>\n",
       "    </tr>\n",
       "  </tbody>\n",
       "</table>\n",
       "<p>2651 rows × 49 columns</p>\n",
       "</div>"
      ],
      "text/plain": [
       "      Unnamed: 0  brand_alcatel  brand_apple  brand_asus  brand_blu  \\\n",
       "0              0            1.0          0.0         0.0        0.0   \n",
       "1              1            1.0          0.0         0.0        0.0   \n",
       "2              2            1.0          0.0         0.0        0.0   \n",
       "3              3            1.0          0.0         0.0        0.0   \n",
       "4              4            1.0          0.0         0.0        0.0   \n",
       "...          ...            ...          ...         ...        ...   \n",
       "2646        2646            0.0          0.0         0.0        0.0   \n",
       "2647        2647            0.0          0.0         0.0        0.0   \n",
       "2648        2648            0.0          0.0         0.0        0.0   \n",
       "2649        2649            0.0          0.0         0.0        0.0   \n",
       "2650        2650            0.0          0.0         0.0        0.0   \n",
       "\n",
       "      brand_htc  brand_huawei  brand_infinix  brand_lenovo  brand_lg  ...  \\\n",
       "0           0.0           0.0            0.0           0.0       0.0  ...   \n",
       "1           0.0           0.0            0.0           0.0       0.0  ...   \n",
       "2           0.0           0.0            0.0           0.0       0.0  ...   \n",
       "3           0.0           0.0            0.0           0.0       0.0  ...   \n",
       "4           0.0           0.0            0.0           0.0       0.0  ...   \n",
       "...         ...           ...            ...           ...       ...  ...   \n",
       "2646        0.0           0.0            0.0           0.0       0.0  ...   \n",
       "2647        0.0           0.0            0.0           0.0       0.0  ...   \n",
       "2648        0.0           0.0            0.0           0.0       0.0  ...   \n",
       "2649        0.0           0.0            0.0           0.0       0.0  ...   \n",
       "2650        0.0           0.0            0.0           0.0       0.0  ...   \n",
       "\n",
       "      CPU     ratio      pixel  Loudspeaker  3.5mm jack    RAM  Storage  \\\n",
       "0     4.0  2.000000  1036800.0            1           1  2.000     32.0   \n",
       "1     8.0  0.555556  1123200.0            1           1  2.000     32.0   \n",
       "2     4.0  2.000000   460800.0            1           1  1.000      8.0   \n",
       "3     8.0  2.222222  1152000.0            1           1  4.000     64.0   \n",
       "4     8.0  2.222222  1152000.0            1           1  3.000     32.0   \n",
       "...   ...       ...        ...          ...         ...    ...      ...   \n",
       "2646  2.0  1.666667    96000.0            1           1  0.250      0.5   \n",
       "2647  2.0  1.666667    96000.0            1           1  0.250      0.5   \n",
       "2648  2.0  1.666667   384000.0            1           1  0.375      1.0   \n",
       "2649  2.0  1.666667   384000.0            1           1  0.500      8.0   \n",
       "2650  2.0  1.666667   384000.0            0           1  0.375     16.0   \n",
       "\n",
       "      Color_count  Sensors_count  Bluetooth_version  \n",
       "0               2              1                5.0  \n",
       "1               2              3                4.2  \n",
       "2               2              2                4.2  \n",
       "3               2              4                5.0  \n",
       "4               2              4                5.0  \n",
       "...           ...            ...                ...  \n",
       "2646            2              3                3.0  \n",
       "2647            2              3                3.0  \n",
       "2648            2              3                2.1  \n",
       "2649            2              3                3.0  \n",
       "2650            1              2                3.0  \n",
       "\n",
       "[2651 rows x 49 columns]"
      ]
     },
     "execution_count": 3,
     "metadata": {},
     "output_type": "execute_result"
    }
   ],
   "source": [
    "df = pd.read_csv('preprocessed_df.csv')\n",
    "df "
   ]
  },
  {
   "cell_type": "code",
   "execution_count": 4,
   "metadata": {},
   "outputs": [],
   "source": [
    "df.drop('Unnamed: 0' , inplace=True , axis = 1)"
   ]
  },
  {
   "cell_type": "code",
   "execution_count": 6,
   "metadata": {},
   "outputs": [
    {
     "name": "stdout",
     "output_type": "stream",
     "text": [
      "<class 'pandas.core.frame.DataFrame'>\n",
      "RangeIndex: 2651 entries, 0 to 2650\n",
      "Data columns (total 48 columns):\n",
      " #   Column               Non-Null Count  Dtype  \n",
      "---  ------               --------------  -----  \n",
      " 0   brand_alcatel        2651 non-null   float64\n",
      " 1   brand_apple          2651 non-null   float64\n",
      " 2   brand_asus           2651 non-null   float64\n",
      " 3   brand_blu            2651 non-null   float64\n",
      " 4   brand_htc            2651 non-null   float64\n",
      " 5   brand_huawei         2651 non-null   float64\n",
      " 6   brand_infinix        2651 non-null   float64\n",
      " 7   brand_lenovo         2651 non-null   float64\n",
      " 8   brand_lg             2651 non-null   float64\n",
      " 9   brand_nokia          2651 non-null   float64\n",
      " 10  brand_samsung        2651 non-null   float64\n",
      " 11  brand_sony           2651 non-null   float64\n",
      " 12  brand_xiaomi         2651 non-null   float64\n",
      " 13  brand_zte            2651 non-null   float64\n",
      " 14  Status_Available     2651 non-null   float64\n",
      " 15  Status_Coming        2651 non-null   float64\n",
      " 16  Status_Discontinued  2651 non-null   float64\n",
      " 17  OS_Category_android  2651 non-null   float64\n",
      " 18  OS_Category_ios      2651 non-null   float64\n",
      " 19  OS_Category_other    2651 non-null   float64\n",
      " 20  SIM_Micro-SIM        2651 non-null   float64\n",
      " 21  SIM_Mini-SIM         2651 non-null   float64\n",
      " 22  SIM_Nano-SIM         2651 non-null   float64\n",
      " 23  SIM_eSIM             2651 non-null   float64\n",
      " 24  2G                   2651 non-null   int64  \n",
      " 25  3G                   2651 non-null   int64  \n",
      " 26  4G                   2651 non-null   int64  \n",
      " 27  5G                   2651 non-null   int64  \n",
      " 28  Announced            2651 non-null   int64  \n",
      " 29  Weight               2651 non-null   float64\n",
      " 30  Length               2651 non-null   float64\n",
      " 31  Width                2651 non-null   float64\n",
      " 32  Diameter             2651 non-null   float64\n",
      " 33  Display Size         2651 non-null   float64\n",
      " 34  ppi                  2651 non-null   float64\n",
      " 35  body ratio           2651 non-null   float64\n",
      " 36  battery_capacity     2651 non-null   float64\n",
      " 37  Price                2651 non-null   float64\n",
      " 38  CPU                  2651 non-null   float64\n",
      " 39  ratio                2651 non-null   float64\n",
      " 40  pixel                2651 non-null   float64\n",
      " 41  Loudspeaker          2651 non-null   int64  \n",
      " 42  3.5mm jack           2651 non-null   int64  \n",
      " 43  RAM                  2651 non-null   float64\n",
      " 44  Storage              2651 non-null   float64\n",
      " 45  Color_count          2651 non-null   int64  \n",
      " 46  Sensors_count        2651 non-null   int64  \n",
      " 47  Bluetooth_version    2651 non-null   float64\n",
      "dtypes: float64(39), int64(9)\n",
      "memory usage: 994.2 KB\n"
     ]
    }
   ],
   "source": [
    "df.info()"
   ]
  },
  {
   "cell_type": "code",
   "execution_count": 16,
   "metadata": {},
   "outputs": [],
   "source": [
    "df['OS'] = 0 * df['OS_Category_android'] +  df['OS_Category_ios'] "
   ]
  },
  {
   "cell_type": "code",
   "execution_count": 17,
   "metadata": {},
   "outputs": [
    {
     "data": {
      "text/plain": [
       "array([0., 1.])"
      ]
     },
     "execution_count": 17,
     "metadata": {},
     "output_type": "execute_result"
    }
   ],
   "source": [
    "df['OS'].unique()"
   ]
  },
  {
   "cell_type": "code",
   "execution_count": 21,
   "metadata": {},
   "outputs": [],
   "source": [
    "df = df[df['OS_Category_other'] == 0 ]"
   ]
  },
  {
   "cell_type": "code",
   "execution_count": 28,
   "metadata": {},
   "outputs": [],
   "source": [
    "data = df.drop(columns=['OS_Category_android' , 'OS_Category_ios' , 'OS_Category_other'])"
   ]
  },
  {
   "cell_type": "code",
   "execution_count": 88,
   "metadata": {},
   "outputs": [],
   "source": [
    "data.to_csv('Binary_data.csv' , index=False)"
   ]
  },
  {
   "cell_type": "code",
   "execution_count": 29,
   "metadata": {},
   "outputs": [],
   "source": [
    "df_train , df_test = train_test_split(data, test_size=0.15, random_state=42)"
   ]
  },
  {
   "cell_type": "code",
   "execution_count": 89,
   "metadata": {},
   "outputs": [],
   "source": [
    "df_train.to_csv('df_train.csv' , index=False)\n",
    "df_test.to_csv('df_test.csv' , index=False)"
   ]
  },
  {
   "cell_type": "code",
   "execution_count": 37,
   "metadata": {},
   "outputs": [
    {
     "data": {
      "text/plain": [
       "OS\n",
       "0.0    2075\n",
       "1.0      61\n",
       "Name: count, dtype: int64"
      ]
     },
     "execution_count": 37,
     "metadata": {},
     "output_type": "execute_result"
    }
   ],
   "source": [
    "df_train['OS'].value_counts()"
   ]
  },
  {
   "cell_type": "code",
   "execution_count": 32,
   "metadata": {},
   "outputs": [
    {
     "data": {
      "text/plain": [
       "((2075, 46), (61, 46))"
      ]
     },
     "execution_count": 32,
     "metadata": {},
     "output_type": "execute_result"
    }
   ],
   "source": [
    "class_0 = df_train[df_train['OS'] == 0]\n",
    "class_1 = df_train[df_train['OS'] == 1]\n",
    "class_0.shape , class_1.shape"
   ]
  },
  {
   "cell_type": "code",
   "execution_count": 53,
   "metadata": {},
   "outputs": [],
   "source": [
    "X = df_train.drop('OS' , axis = 1)\n",
    "y = df_train['OS']"
   ]
  },
  {
   "cell_type": "code",
   "execution_count": 54,
   "metadata": {},
   "outputs": [
    {
     "data": {
      "text/plain": [
       "((2136, 45), (2136,))"
      ]
     },
     "execution_count": 54,
     "metadata": {},
     "output_type": "execute_result"
    }
   ],
   "source": [
    "X.shape , y.shape"
   ]
  },
  {
   "cell_type": "markdown",
   "metadata": {},
   "source": [
    "Random Under Sampling"
   ]
  },
  {
   "cell_type": "code",
   "execution_count": 35,
   "metadata": {},
   "outputs": [],
   "source": [
    "class_0_random_under = class_0.sample(len(class_1) , random_state=42)\n",
    "df_train_RandomUnderSampling = pd.concat([class_0_random_under , class_1]  , axis = 0 )"
   ]
  },
  {
   "cell_type": "code",
   "execution_count": 36,
   "metadata": {},
   "outputs": [
    {
     "data": {
      "text/plain": [
       "OS\n",
       "0.0    61\n",
       "1.0    61\n",
       "Name: count, dtype: int64"
      ]
     },
     "execution_count": 36,
     "metadata": {},
     "output_type": "execute_result"
    }
   ],
   "source": [
    "df_train_RandomUnderSampling['OS'].value_counts()"
   ]
  },
  {
   "cell_type": "code",
   "execution_count": 90,
   "metadata": {},
   "outputs": [],
   "source": [
    "df_train_RandomUnderSampling.to_csv('df_train_RandomUnderSampling.csv' , index=False)"
   ]
  },
  {
   "cell_type": "markdown",
   "metadata": {},
   "source": [
    "Random Over Sampling"
   ]
  },
  {
   "cell_type": "code",
   "execution_count": 39,
   "metadata": {},
   "outputs": [],
   "source": [
    "class_1_random_over = class_1.sample(len(class_0) , replace=True , random_state=42)\n",
    "df_train_RandomOverSampling = pd.concat([class_0 , class_1_random_over]  , axis = 0 )"
   ]
  },
  {
   "cell_type": "code",
   "execution_count": 41,
   "metadata": {},
   "outputs": [
    {
     "data": {
      "text/plain": [
       "OS\n",
       "0.0    2075\n",
       "1.0    2075\n",
       "Name: count, dtype: int64"
      ]
     },
     "execution_count": 41,
     "metadata": {},
     "output_type": "execute_result"
    }
   ],
   "source": [
    "df_train_RandomOverSampling['OS'].value_counts()"
   ]
  },
  {
   "cell_type": "code",
   "execution_count": 91,
   "metadata": {},
   "outputs": [],
   "source": [
    "df_train_RandomOverSampling.to_csv('df_train_RandomOverSampling.csv' , index=False)"
   ]
  },
  {
   "cell_type": "markdown",
   "metadata": {},
   "source": [
    "Random Under Sampling with imbalanced-learn"
   ]
  },
  {
   "cell_type": "code",
   "execution_count": 63,
   "metadata": {},
   "outputs": [],
   "source": [
    "from imblearn.under_sampling import RandomUnderSampler\n",
    "rus = RandomUnderSampler(random_state=42)\n",
    "rusX , rusy  = rus.fit_resample(X , y )\n",
    "df_train_RandomUnderSampler = pd.concat([rusX , rusy] , axis = 1)"
   ]
  },
  {
   "cell_type": "code",
   "execution_count": 61,
   "metadata": {},
   "outputs": [
    {
     "data": {
      "text/plain": [
       "OS\n",
       "0.0    61\n",
       "1.0    61\n",
       "Name: count, dtype: int64"
      ]
     },
     "execution_count": 61,
     "metadata": {},
     "output_type": "execute_result"
    }
   ],
   "source": [
    "df_train_RandomUnderSampler['OS'].value_counts()"
   ]
  },
  {
   "cell_type": "code",
   "execution_count": 92,
   "metadata": {},
   "outputs": [],
   "source": [
    "df_train_RandomUnderSampler.to_csv('df_train_RandomUnderSampler.csv' , index=False)"
   ]
  },
  {
   "cell_type": "markdown",
   "metadata": {},
   "source": [
    "Random Over Sampling with imbalanced-learn"
   ]
  },
  {
   "cell_type": "code",
   "execution_count": 66,
   "metadata": {},
   "outputs": [],
   "source": [
    "from imblearn.over_sampling import RandomOverSampler\n",
    "ros = RandomOverSampler(random_state=42)\n",
    "rosX , rosy = ros.fit_resample(X,y)\n",
    "df_train_RandomOverSampler = pd.concat([rosX , rosy] , axis = 1)"
   ]
  },
  {
   "cell_type": "code",
   "execution_count": 67,
   "metadata": {},
   "outputs": [
    {
     "data": {
      "text/plain": [
       "OS\n",
       "0.0    2075\n",
       "1.0    2075\n",
       "Name: count, dtype: int64"
      ]
     },
     "execution_count": 67,
     "metadata": {},
     "output_type": "execute_result"
    }
   ],
   "source": [
    "df_train_RandomOverSampler['OS'].value_counts()"
   ]
  },
  {
   "cell_type": "code",
   "execution_count": 93,
   "metadata": {},
   "outputs": [],
   "source": [
    "df_train_RandomOverSampler.to_csv('df_train_RandomOverSampler.csv' , index=False)"
   ]
  },
  {
   "cell_type": "markdown",
   "metadata": {},
   "source": [
    "Under Sampling using Cluster Centroids"
   ]
  },
  {
   "cell_type": "code",
   "execution_count": 86,
   "metadata": {},
   "outputs": [
    {
     "name": "stderr",
     "output_type": "stream",
     "text": [
      "/Applications/anaconda3/envs/quera/lib/python3.9/site-packages/sklearn/cluster/_kmeans.py:1416: FutureWarning: The default value of `n_init` will change from 10 to 'auto' in 1.4. Set the value of `n_init` explicitly to suppress the warning\n",
      "  super()._check_params_vs_input(X, default_n_init=10)\n"
     ]
    }
   ],
   "source": [
    "from imblearn.under_sampling import ClusterCentroids\n",
    "cc = ClusterCentroids(random_state = 42)\n",
    "X_cc, y_cc = cc.fit_resample(X, y)\n",
    "df_train_ClusterCentroids = pd.concat([X_cc , y_cc] , axis=1)"
   ]
  },
  {
   "cell_type": "code",
   "execution_count": 87,
   "metadata": {},
   "outputs": [
    {
     "data": {
      "text/plain": [
       "OS\n",
       "0.0    61\n",
       "1.0    61\n",
       "Name: count, dtype: int64"
      ]
     },
     "execution_count": 87,
     "metadata": {},
     "output_type": "execute_result"
    }
   ],
   "source": [
    "df_train_ClusterCentroids['OS'].value_counts()"
   ]
  },
  {
   "cell_type": "code",
   "execution_count": 94,
   "metadata": {},
   "outputs": [],
   "source": [
    "df_train_ClusterCentroids.to_csv('df_train_ClusterCentroids.csv' , index=False)"
   ]
  },
  {
   "cell_type": "markdown",
   "metadata": {},
   "source": [
    "Over Sampling using SMOTE"
   ]
  },
  {
   "cell_type": "code",
   "execution_count": 80,
   "metadata": {},
   "outputs": [],
   "source": [
    "from imblearn.over_sampling import SMOTE \n",
    "smote = SMOTE(random_state=42)\n",
    "smX, smy = smote.fit_resample(X, y)\n",
    "df_train_SMOTE = pd.concat([smX , smy] , axis=1)"
   ]
  },
  {
   "cell_type": "code",
   "execution_count": 81,
   "metadata": {},
   "outputs": [
    {
     "data": {
      "text/plain": [
       "OS\n",
       "0.0    2075\n",
       "1.0    2075\n",
       "Name: count, dtype: int64"
      ]
     },
     "execution_count": 81,
     "metadata": {},
     "output_type": "execute_result"
    }
   ],
   "source": [
    "df_train_SMOTE['OS'].value_counts()"
   ]
  },
  {
   "cell_type": "code",
   "execution_count": 95,
   "metadata": {},
   "outputs": [],
   "source": [
    "df_train_SMOTE.to_csv('df_train_SMOTE.csv' , index=False)"
   ]
  },
  {
   "cell_type": "code",
   "execution_count": null,
   "metadata": {},
   "outputs": [],
   "source": []
  }
 ],
 "metadata": {
  "kernelspec": {
   "display_name": "quera",
   "language": "python",
   "name": "python3"
  },
  "language_info": {
   "codemirror_mode": {
    "name": "ipython",
    "version": 3
   },
   "file_extension": ".py",
   "mimetype": "text/x-python",
   "name": "python",
   "nbconvert_exporter": "python",
   "pygments_lexer": "ipython3",
   "version": "3.9.18"
  }
 },
 "nbformat": 4,
 "nbformat_minor": 2
}

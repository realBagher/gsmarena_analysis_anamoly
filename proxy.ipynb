{
 "cells": [
  {
   "cell_type": "code",
   "execution_count": 46,
   "metadata": {},
   "outputs": [],
   "source": [
    "import requests\n",
    "from bs4 import BeautifulSoup\n",
    "import pandas as pd"
   ]
  },
  {
   "cell_type": "code",
   "execution_count": 47,
   "metadata": {},
   "outputs": [],
   "source": [
    "url = 'https://free-proxy-list.net/'\n",
    "headers = {\"Accept-Language\": \"en-US,en;q=0.5\"}\n",
    "response = requests.get(url, headers=headers)\n",
    "content = BeautifulSoup(response.content, 'html.parser')"
   ]
  },
  {
   "cell_type": "code",
   "execution_count": 48,
   "metadata": {},
   "outputs": [],
   "source": [
    "rows = content.find('table').find_all('tr')"
   ]
  },
  {
   "cell_type": "code",
   "execution_count": 49,
   "metadata": {},
   "outputs": [],
   "source": [
    "rows = rows[1:]\n",
    "proxies = []\n",
    "for row in rows:\n",
    "    tds = row.find_all('td')\n",
    "    if tds[-2].text == 'no':\n",
    "        proxy = f'http://{tds[0].text}:{tds[1].text}'\n",
    "    if tds[-2].text == 'yes':\n",
    "        proxy = f'https://{tds[0].text}:{tds[1].text}'\n",
    "    proxies.append(proxy)"
   ]
  },
  {
   "cell_type": "code",
   "execution_count": 50,
   "metadata": {},
   "outputs": [],
   "source": [
    "proxies_df = pd.Series(proxies)\n",
    "proxies_df.to_csv('proxies.csv', index=False, header=False)"
   ]
  }
 ],
 "metadata": {
  "kernelspec": {
   "display_name": ".venv",
   "language": "python",
   "name": "python3"
  },
  "language_info": {
   "codemirror_mode": {
    "name": "ipython",
    "version": 3
   },
   "file_extension": ".py",
   "mimetype": "text/x-python",
   "name": "python",
   "nbconvert_exporter": "python",
   "pygments_lexer": "ipython3",
   "version": "3.9.6"
  }
 },
 "nbformat": 4,
 "nbformat_minor": 2
}

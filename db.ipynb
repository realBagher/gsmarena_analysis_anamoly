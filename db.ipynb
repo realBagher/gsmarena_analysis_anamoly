{
 "cells": [
  {
   "cell_type": "code",
   "execution_count": 8,
   "metadata": {},
   "outputs": [],
   "source": [
    "from sqlalchemy import create_engine, Column, Integer, Float, String, Date, Boolean, ForeignKey\n",
    "from sqlalchemy.ext.declarative import declarative_base\n",
    "from sqlalchemy.orm import relationship\n",
    "import dotenv\n",
    "from dotenv import load_dotenv\n",
    "import os\n",
    "\n"
   ]
  },
  {
   "cell_type": "code",
   "execution_count": 2,
   "metadata": {},
   "outputs": [
    {
     "name": "stderr",
     "output_type": "stream",
     "text": [
      "C:\\Users\\arian\\AppData\\Local\\Temp\\ipykernel_4512\\4196137762.py:1: MovedIn20Warning: The ``declarative_base()`` function is now available as sqlalchemy.orm.declarative_base(). (deprecated since: 2.0) (Background on SQLAlchemy 2.0 at: https://sqlalche.me/e/b8d9)\n",
      "  Base = declarative_base()\n"
     ]
    }
   ],
   "source": [
    "Base = declarative_base()"
   ]
  },
  {
   "cell_type": "code",
   "execution_count": 3,
   "metadata": {},
   "outputs": [],
   "source": [
    "class Devices(Base):\n",
    "    __tablename__ = 'devices'\n",
    "    DeviceID = Column(Integer, primary_key=True)\n",
    "    BrandName = Column(String)\n",
    "    DeviceName = Column(String)\n",
    "    LaunchDate = Column(Date)\n",
    "    Status = Column(String)\n",
    "    Body_x = Column(Float)\n",
    "    Body_y = Column(Float)\n",
    "    Body = Column(Float)\n",
    "    Weight = Column(Float)\n",
    "    BatterymAh = Column(Integer)\n",
    "    Price = Column(Float)\n",
    "    OS = Column(String)\n",
    "    Chipset = Column(String)\n",
    "    CPUCoreCount = Column(Integer)\n",
    "    GPU = Column(String)\n",
    "    MainCamera = Column(String)\n",
    "    SelfieCamera = Column(String)\n",
    "    WLAN = Column(String)\n",
    "    Bluetooth = Column(String)\n",
    "    NFC = Column(Boolean)\n",
    "    LoadSpeaker = Column(Boolean)\n",
    "    Jack35 = Column(Boolean)\n",
    "    DisplayType = Column(String)\n",
    "    DisplaySize = Column(Float)\n",
    "    DisplayArea = Column(Float)\n",
    "    ScreenToBodyRatio = Column(Float)\n",
    "    PixelX = Column(Integer)\n",
    "    PixelY = Column(Integer)\n",
    "    PPIDensity = Column(String)\n",
    "    AdditionalInfo = Column(String)\n",
    "    # Relationships\n",
    "    sim = relationship(\"SIM\", back_populates=\"device\")\n",
    "    memory_specifications = relationship(\"MemorySpecifications\", back_populates=\"device\")\n",
    "    device_technology = relationship(\"DeviceTechnology\", back_populates=\"device\")\n",
    "    device_networks = relationship(\"DeviceNetworks\", back_populates=\"device\")\n",
    "    usb_specifications = relationship(\"USBSpecifications\", back_populates=\"device\")\n",
    "    feature_specifications = relationship(\"FeatureSpecifications\", back_populates=\"device\")\n",
    "\n",
    "class SIM(Base):\n",
    "    __tablename__ = 'sim'\n",
    "    DeviceID = Column(Integer, ForeignKey('devices.DeviceID'), primary_key=True)\n",
    "    Name = Column(String)\n",
    "    device = relationship(\"Devices\", back_populates=\"sim\")\n",
    "\n",
    "class MemorySpecifications(Base):\n",
    "    __tablename__ = 'memory_specifications'\n",
    "    DeviceID = Column(Integer, ForeignKey('devices.DeviceID'), primary_key=True)\n",
    "    Storage = Column(String)\n",
    "    RAM = Column(String)\n",
    "    device = relationship(\"Devices\", back_populates=\"memory_specifications\")\n",
    "\n",
    "class DeviceTechnology(Base):\n",
    "    __tablename__ = 'device_technology'\n",
    "    DeviceID = Column(Integer, ForeignKey('devices.DeviceID'), primary_key=True)\n",
    "    Technology = Column(String)\n",
    "    device = relationship(\"Devices\", back_populates=\"device_technology\")\n",
    "\n",
    "class DeviceNetworks(Base):\n",
    "    __tablename__ = 'device_networks'\n",
    "    DeviceID = Column(Integer, ForeignKey('devices.DeviceID'), primary_key=True)\n",
    "    Network = Column(String)\n",
    "    device = relationship(\"Devices\", back_populates=\"device_networks\")\n",
    "\n",
    "class USBSpecifications(Base):\n",
    "    __tablename__ = 'usb_specifications'\n",
    "    DeviceID = Column(Integer, ForeignKey('devices.DeviceID'), primary_key=True)\n",
    "    USB = Column(String)\n",
    "    device = relationship(\"Devices\", back_populates=\"usb_specifications\")\n",
    "\n",
    "class FeatureSpecifications(Base):\n",
    "    __tablename__ = 'feature_specifications'\n",
    "    DeviceID = Column(Integer, ForeignKey('devices.DeviceID'), primary_key=True)\n",
    "    Sensor = Column(String)\n",
    "    device = relationship(\"Devices\", back_populates=\"feature_specifications\")\n"
   ]
  },
  {
   "cell_type": "code",
   "execution_count": 9,
   "metadata": {},
   "outputs": [],
   "source": [
    "load_dotenv()\n",
    "\n",
    "url = os.getenv('DATABASE_URL')\n",
    "engine = create_engine(url)\n",
    "Base.metadata.create_all(engine)"
   ]
  }
 ],
 "metadata": {
  "kernelspec": {
   "display_name": "Python 3",
   "language": "python",
   "name": "python3"
  },
  "language_info": {
   "codemirror_mode": {
    "name": "ipython",
    "version": 3
   },
   "file_extension": ".py",
   "mimetype": "text/x-python",
   "name": "python",
   "nbconvert_exporter": "python",
   "pygments_lexer": "ipython3",
   "version": "3.11.5"
  }
 },
 "nbformat": 4,
 "nbformat_minor": 2
}

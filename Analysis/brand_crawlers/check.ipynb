{
 "cells": [
  {
   "cell_type": "code",
   "execution_count": 29,
   "metadata": {},
   "outputs": [],
   "source": [
    "import json\n",
    "import pandas as pd"
   ]
  },
  {
   "cell_type": "code",
   "execution_count": 30,
   "metadata": {},
   "outputs": [],
   "source": [
    "asus = {}\n",
    "file_path = 'scraped_data/Asus_data.json'\n",
    "with open(file_path, 'r') as json_file:\n",
    "    asus = json.load(json_file)"
   ]
  },
  {
   "cell_type": "code",
   "execution_count": 31,
   "metadata": {},
   "outputs": [
    {
     "data": {
      "text/plain": [
       "[{'WLAN': 'Wi-Fi 802.11 b/g/n'},\n",
       " {'Bluetooth': 'No'},\n",
       " {'Positioning': 'No'},\n",
       " {'NFC': 'No'},\n",
       " {'Radio': 'No'},\n",
       " {'USB': 'microUSB 2.0'}]"
      ]
     },
     "execution_count": 31,
     "metadata": {},
     "output_type": "execute_result"
    }
   ],
   "source": [
    "asus['Asus203']['Memo Pad ME172V']['Comms']"
   ]
  },
  {
   "cell_type": "code",
   "execution_count": 26,
   "metadata": {},
   "outputs": [],
   "source": [
    "def convert_list_to_dict(obj):\n",
    "    if isinstance(obj, dict):\n",
    "        for key, value in obj.items():\n",
    "            obj[key] = convert_list_to_dict(value)\n",
    "    elif isinstance(obj, list) and all(isinstance(item, dict) for item in obj):\n",
    "        combined_dict = {}\n",
    "        for item in obj:\n",
    "            combined_dict.update(item)\n",
    "        return combined_dict\n",
    "    return obj"
   ]
  },
  {
   "cell_type": "code",
   "execution_count": 27,
   "metadata": {},
   "outputs": [],
   "source": [
    "asus_converted = convert_list_to_dict(asus)"
   ]
  },
  {
   "cell_type": "code",
   "execution_count": 28,
   "metadata": {},
   "outputs": [
    {
     "data": {
      "text/plain": [
       "{'WLAN': 'Wi-Fi 802.11 b/g/n',\n",
       " 'Bluetooth': 'No',\n",
       " 'Positioning': 'No',\n",
       " 'NFC': 'No',\n",
       " 'Radio': 'No',\n",
       " 'USB': 'microUSB 2.0'}"
      ]
     },
     "execution_count": 28,
     "metadata": {},
     "output_type": "execute_result"
    }
   ],
   "source": [
    "asus['Asus203']['Memo Pad ME172V']['Comms']"
   ]
  },
  {
   "cell_type": "code",
   "execution_count": 35,
   "metadata": {},
   "outputs": [
    {
     "data": {
      "text/plain": [
       "Index(['Brand', 'Phone', 'Network_Technology', 'Network_2G_bands',\n",
       "       'Network_3G_bands', 'Network_4G_bands', 'Network_5G_bands',\n",
       "       'Network_Speed', 'Network_GPRS', 'Network_EDGE', 'Launch_Announced',\n",
       "       'Launch_Status', 'Body_Dimensions', 'Body_Weight', 'Body_SIM',\n",
       "       'Display_Type', 'Display_Size', 'Display_Resolution',\n",
       "       'Display_Protection', 'Platform_OS', 'Platform_Chipset', 'Platform_CPU',\n",
       "       'Platform_GPU', 'Memory_Card_slot', 'Memory_Internal'],\n",
       "      dtype='object')"
      ]
     },
     "execution_count": 35,
     "metadata": {},
     "output_type": "execute_result"
    }
   ],
   "source": [
    "data = pd.read_json('Asus_data.json') \n",
    " \n",
    "all_data_list = [] \n",
    "for brand_key, brand_value in data.items(): \n",
    "    for phone_key, phone_value in brand_value.items(): \n",
    "        network_info = phone_value.get(\"Network\", {}) \n",
    "        launch_info = phone_value.get(\"Launch\", {}) \n",
    "        body_info = phone_value.get(\"Body\", {}) \n",
    "        display_info = phone_value.get(\"Display\", {}) \n",
    "        platform_info = phone_value.get(\"Platform\", {}) \n",
    "        memory_info = phone_value.get(\"Memory\", {}) \n",
    "        network_info_dict = {} \n",
    "        for dictionary in network_info: \n",
    "            network_info_dict.update(dictionary) \n",
    "        launch_info_dict = {} \n",
    "        for dictionary in launch_info: \n",
    "            launch_info_dict.update(dictionary) \n",
    "        body_info_dict = {} \n",
    "        for dictionary in body_info: \n",
    "            body_info_dict.update(dictionary) \n",
    "        display_info_dict = {} \n",
    "        for dictionary in display_info: \n",
    "            display_info_dict.update(dictionary) \n",
    "        platform_info_dict = {} \n",
    "        for dictionary in platform_info: \n",
    "            platform_info_dict.update(dictionary) \n",
    "        memory_info_dict = {} \n",
    "        for dictionary in memory_info: \n",
    "            memory_info_dict.update(dictionary) \n",
    "        all_data_list.append({ \n",
    "            \"Brand\": brand_key, \n",
    "            \"Phone\": phone_key, \n",
    "            \"Network_Technology\": network_info_dict.get('Technology',None), \n",
    "            \"Network_2G_bands\": network_info_dict.get('2G bands',None), \n",
    "            \"Network_3G_bands\": network_info_dict.get('3G bands',None), \n",
    "            \"Network_4G_bands\": network_info_dict.get('4G bands',None), \n",
    "            \"Network_5G_bands\": network_info_dict.get('5G bands',None), \n",
    "            \"Network_Speed\": network_info_dict.get('Speed',None), \n",
    "            \"Network_GPRS\": network_info_dict.get('GPRS',None), \n",
    "            \"Network_EDGE\": network_info_dict.get('EDGE',None),             \n",
    "             \n",
    "            \"Launch_Announced\": launch_info_dict.get('Announced',None), \n",
    "            \"Launch_Status\": launch_info_dict.get('Status',None), \n",
    " \n",
    "            \"Body_Dimensions\": body_info_dict.get('Dimensions',None), \n",
    "            \"Body_Weight\": body_info_dict.get('Weight',None), \n",
    "            \"Body_SIM\": body_info_dict.get('SIM',None), \n",
    " \n",
    "            \"Display_Type\": display_info_dict.get('Type',None), \n",
    "            \"Display_Size\": display_info_dict.get('Size',None), \n",
    "            \"Display_Resolution\": display_info_dict.get('Resolution',None), \n",
    "            \"Display_Protection\": display_info_dict.get('Protection',None), \n",
    " \n",
    "            \"Platform_OS\": platform_info_dict.get('OS',None), \n",
    "            \"Platform_Chipset\": platform_info_dict.get('Chipset',None), \n",
    "            \"Platform_CPU\": platform_info_dict.get('CPU',None), \n",
    "            \"Platform_GPU\": platform_info_dict.get('GPU',None), \n",
    " \n",
    "            \"Memory_Card_slot\": memory_info_dict.get('Card slot',None), \n",
    "            \"Memory_Internal\": memory_info_dict.get('Internal',None), \n",
    " \n",
    "        }) \n",
    " \n",
    "df = pd.DataFrame(all_data_list) \n",
    "df_normalized = pd.json_normalize(df.to_dict(orient='records')) \n",
    "\n",
    "df_normalized.columns"
   ]
  },
  {
   "cell_type": "code",
   "execution_count": 40,
   "metadata": {},
   "outputs": [
    {
     "data": {
      "text/plain": [
       "array([None, 'PowerVR SGX540', 'PowerVR SGX544MP2', 'PowerVR G6430',\n",
       "       'ULP GeForce', 'Adreno 320', 'Mali-400MP2', 'Adreno 220',\n",
       "       'Intel Gen 7 (Ivy Bridge)', 'PowerVR SGX544', 'Mali-400',\n",
       "       'Adreno 225', 'Adreno 305', 'Adreno 330', 'Mali-T760MP2',\n",
       "       'Adreno 405', 'Adreno 650', 'Adreno 660', 'Adreno 730',\n",
       "       'Adreno 730Mali-G710 MC10', 'Mali-G710 MC10', 'Adreno 740',\n",
       "       'Adreno 750', 'Adreno 640 (700 MHz)', 'Adreno 630', 'Adreno 505',\n",
       "       'Adreno 308', 'Adreno 308Adreno 505', 'Adreno 306',\n",
       "       'Adreno 306Adreno 405', 'Adreno 506', 'Adreno 530', 'Mali-T720MP2',\n",
       "       'Adreno 510', 'Mali-T860MP2', 'Adreno 540', 'Adreno 508Adreno 512',\n",
       "       'Adreno 508Adreno 505', 'Adreno 509', 'Adreno 640', 'Adreno 302',\n",
       "       'Adreno 512', 'Mali-450MP4', 'PowerVR GX6250', 'Adreno 304'],\n",
       "      dtype=object)"
      ]
     },
     "execution_count": 40,
     "metadata": {},
     "output_type": "execute_result"
    }
   ],
   "source": [
    "df_normalized.Platform_GPU.unique()"
   ]
  },
  {
   "cell_type": "code",
   "execution_count": 41,
   "metadata": {},
   "outputs": [
    {
     "data": {
      "text/plain": [
       "array([None, '1.2 GHz / 1.6 GHz', 'Dual-core 1.6 GHz',\n",
       "       'Dual-core 1.2 GHz', 'Quad-core 1.83 GHz', 'Quad-core 1.33 GHz',\n",
       "       'Dual-core 2.0 GHz', 'Quad-core 1.2 GHz Cortex-A9',\n",
       "       'Quad-core 1.5 GHz Krait', 'Quad-core 1.3 GHz Cortex-A7',\n",
       "       '32-bit Intel XScale PXA270 416 MHz', '450 MHz ARM 1136',\n",
       "       'Dual-core 1.2 GHz Scorpion', 'Quad-core 1.6 GHz',\n",
       "       'Quad-core 1.4 GHz Krait', 'Quad-core 1.86 GHz',\n",
       "       'Quad-core 1.6 GHz Cortex-A9', 'Quad-core 2.3 GHz',\n",
       "       'Quad-core 1.2 GHz Cortex-A7', '1.0 GHz', 'Quad-core 1.2 GHz',\n",
       "       '200 MHz ARM926EJ-S', 'Intel PXA270 416 MHz',\n",
       "       'Intel XScale 416 MHz', 'Intel XScale 520 MHz',\n",
       "       'Marvell PXA270M 520 MHz', 'Marvell Tavor 624 MHz',\n",
       "       '800 MHz Marvell TavorP', '528 MHz ARM 11',\n",
       "       'Dual-core 1.5 GHz Krait', 'Quad-core 1.4 GHz Cortex-A7',\n",
       "       'Quad-core 1.7 GHz Krait', 'Quad-core 2.2 GHz Krait 400',\n",
       "       'Quad-core 2.3 GHz Krait 400', 'Quad-core 1.5 GHz Cortex-A53',\n",
       "       'Octa-core (4x1.7 GHz Cortex-A53 & 4x1.0 GHz Cortex-A53)',\n",
       "       'Octa-core (1x3.10 GHz Cortex-A77 & 3x2.42 GHz Cortex-A77 & 4x1.80 GHz Cortex-A55)',\n",
       "       'Octa-core (1x2.84 GHz Cortex-A77 & 3x2.42 GHz Cortex-A77 & 4x1.80 GHz Cortex-A55)',\n",
       "       'Octa-core (1x2.84 GHz Cortex-X1 & 3x2.42 GHz Cortex-A78 & 4x1.80 GHz Cortex-A55)',\n",
       "       'Octa-core (1x2.99 GHz Cortex-X1 & 3x2.42 GHz Cortex-A78 & 4x1.80 GHz Cortex-A55)',\n",
       "       'Octa-core (1x3.19 GHz Cortex-X2 & 3x2.75 GHz Cortex-A710 & 4x1.80 GHz Cortex-A510)',\n",
       "       'Octa-core (1x3.19 GHz Cortex-X2 & 3x2.75 GHz Cortex-A710 & 4x1.80 GHz Cortex-A510)Octa-core (1x3.35 GHz Cortex-X2 & 3x2.85 GHz Cortex-A710 & 4x1.80 GHz Cortex-A510)',\n",
       "       'Octa-core (1x3.35 GHz Cortex-X2 & 3x2.85 GHz Cortex-A710 & 4x1.80 GHz Cortex-A510)',\n",
       "       'Octa-core (1x3.2 GHz Cortex-X3 & 2x2.8 GHz Cortex-A715 & 2x2.8 GHz Cortex-A710 & 3x2.0 GHz Cortex-A510)',\n",
       "       'Octa-core (1x3.3 GHz Cortex-X4 & 3x3.2 GHz Cortex-A720 & 2x3.0 GHz Cortex-A720 & 2x2.3 GHz Cortex-A520)',\n",
       "       'Octa-core (1x2.96 GHz Kryo 485 & 3x2.42 GHz Kryo 485 & 4x1.78 GHz Kryo 485)',\n",
       "       'Octa-core (4x2.96 GHz Kryo 385 Gold & 4x1.7 GHz Kryo 385 Silver)',\n",
       "       'Quad-core 1.9 GHz Cortex-A15', 'Quad-core 1.3 GHz Cortex-A9',\n",
       "       'Dual-core 1.0 GHz Cortex-A9', 'Octa-core 1.4 GHz Cortex-A53',\n",
       "       'Quad-core 1.4 GHz Cortex-A53',\n",
       "       'Quad-core 1.4 GHz Cortex-A53Octa-core 1.4 GHz Cortex-A53',\n",
       "       'Quad-core 2.3 GHzQuad-core 1.8 GHzQuad-core 2.5 GHz',\n",
       "       'Quad-core 1.2 GHz Cortex-A53',\n",
       "       'Quad-core 1.2 GHz Cortex-A53Octa-core (4x1.5 GHz Cortex-A53 & 4x1.0 GHz Cortex-A53)',\n",
       "       'Octa-core (4x1.7 GHz Cortex-A53 & 4x1.2 GHz Cortex-A53)',\n",
       "       'Quad-core 1.8 GHz',\n",
       "       'Quad-core 2.3 GHz (4 GB RAM model)Quad-core 1.8 GHz (2 GB RAM model)',\n",
       "       'Octa-core 2.0 GHz Cortex-A53',\n",
       "       'Quad-core (2x2.15 GHz Kryo & 2x1.6 GHz Kryo)Quad-core (2x2.4 GHz Kryo & 2x2.0 GHz Kryo)',\n",
       "       'Quad-core 1.25 GHz Cortex-A53',\n",
       "       'Octa-core (4x1.8 GHz Cortex-A72 & 4x1.4 GHz Cortex-A53)',\n",
       "       'Octa-core (4x1.5 GHz Cortex-A53 & 4x1.0 GHz Cortex-A53)',\n",
       "       'Octa-core (4x2.45 GHz Kryo & 4x1.9 GHz Kryo)',\n",
       "       'Octa-core (4x2.2 GHz Cortex-A53 & 4x1.8 GHz Cortex A53)Octa-core (4x2.2 GHz Kryo 260 Gold & 4x1.8 GHz Kryo 260 Silver)',\n",
       "       'Octa-core 2.2 GHz Cortex-A53Octa-core 1.4 GHz Cortex-A53',\n",
       "       'Octa-core (4x1.8 GHz Kryo 260 Gold & 4x1.6 GHz Kryo 260 Silver)',\n",
       "       'Octa-core (4x2.7 GHz Kryo 385 Gold & 4x1.7 GHz Kryo 385 Silver)',\n",
       "       'Octa-core (1x2.84 GHz Kryo 485 & 3x2.42 GHz Kryo 485 & 4x1.78 GHz Kryo 485)',\n",
       "       'Quad-core (2x2.35 GHz Kryo & 2x1.6 GHz Kryo)',\n",
       "       'Quad-core 1.0 GHz Cortex-A53', 'Quad-core 1.6 GHz Cortex-A7',\n",
       "       'Quad-core',\n",
       "       'Octa-core (4x1.8 GHz Kryo 250 Gold & 4x1.8 GHz Kryo 250 Silver)',\n",
       "       'Octa-core 1.8 GHz',\n",
       "       'Octa-core (4x2.2 GHz Kryo 260 Gold & 4x1.8 GHz Kryo 260 Silver)',\n",
       "       'Quad-core 1.3 GHz Cortex-A53',\n",
       "       'Quad-core (2x2.15 GHz Kryo & 2x1.6 GHz Kryo)',\n",
       "       'Quad-core 2.5 GHz',\n",
       "       'Hexa-core (4x1.4 GHz Cortex-A53 & 2x1.8 GHz Cortex-A72)',\n",
       "       'Hexa-core (2x2.1 GHz Cortex-A72 & 4x1.7 GHz Cortex-A53)',\n",
       "       'Octa-core (4x Cortex-A53 & 4x Cortex-A53)Octa-core',\n",
       "       'Quad-core Cortex-A7',\n",
       "       'Octa-core (4x1.8 GHz Cortex-A72 & 4x1.2 GHz Cortex-A53)',\n",
       "       'Quad-core 1.1 GHz Cortex-A7'], dtype=object)"
      ]
     },
     "execution_count": 41,
     "metadata": {},
     "output_type": "execute_result"
    }
   ],
   "source": [
    "df_normalized.Platform_CPU.unique()"
   ]
  },
  {
   "cell_type": "code",
   "execution_count": 42,
   "metadata": {},
   "outputs": [
    {
     "data": {
      "text/plain": [
       "array([None, 'Intel Atom Z2420 / Intel Atom Z2460', 'Intel Atom Z2560',\n",
       "       'Intel Atom Z2520', 'Intel Atom Z3560', 'Intel Atom Z3530',\n",
       "       'Intel Atom Z2580', 'Nvidia Tegra 3', 'Qualcomm Snapdragon S4 Pro',\n",
       "       'Mediatek MT6580 (28 nm)', 'TI OMAP 2431',\n",
       "       'Qualcomm MSM8260 Snapdragon S3', 'Rockchip RK101',\n",
       "       'Intel Atom Z3745', 'Intel Atom Z3580', 'Mediatek MT8125 (28 nm)',\n",
       "       'VIA WM8950', 'Nvidia Tegra 3 T33', 'TI OMAP 850',\n",
       "       'Qualcomm MSM7201A', 'Qualcomm MSM8260A Snapdragon S4 Plus',\n",
       "       'Qualcomm APQ8064 Snapdragon S4 Pro',\n",
       "       'Qualcomm Snapdragon 400 (28 nm)',\n",
       "       'Qualcomm APQ8064T Snapdragon 600',\n",
       "       'Qualcomm Snapdragon 800 (28 nm)', 'Qualcomm Snapdragon 600',\n",
       "       'Qualcomm MSM8974AB Snapdragon 801 (28 nm)',\n",
       "       'Qualcomm MSM8226 Snapdragon 400 (28 nm)',\n",
       "       'Mediatek MT6732 (28 nm)',\n",
       "       'Qualcomm MSM8939 Snapdragon 615 (28 nm)',\n",
       "       'Qualcomm SM8250 Snapdragon 865 5G+ (7 nm+)',\n",
       "       'Qualcomm SM8250 Snapdragon 865 5G (7 nm+)',\n",
       "       'Qualcomm SM8350 Snapdragon 888 5G (5 nm)',\n",
       "       'Qualcomm SM8350 Snapdragon 888+ 5G (5 nm)',\n",
       "       'Qualcomm SM8475 Snapdragon 8+ Gen 1 (4 nm)',\n",
       "       'Qualcomm SM8475 Snapdragon 8+ Gen 1 (4 nm) - USAMediatek Dimensity 9000+ (4 nm) - International',\n",
       "       'Mediatek Dimensity 9000+ (4 nm)',\n",
       "       'Qualcomm SM8550-AB Snapdragon 8 Gen 2 (4 nm)',\n",
       "       'Qualcomm SM8650-AB Snapdragon 8 Gen 3 (4 nm)',\n",
       "       'Qualcomm SM8150 Snapdragon 855+ (7 nm)',\n",
       "       'Qualcomm SDM845 Snapdragon 845 (10 nm)', 'Intel Atom',\n",
       "       'Qualcomm MSM8960 Snapdragon S4 Plus', 'Nvidia Tegra 3 T30L',\n",
       "       'Nvidia Tegra 4 T40X', 'Nvidia Tegra 2 T20', 'Nvidia Tegra 3 T30',\n",
       "       'Qualcomm MSM8937 Snapdragon 430 (28 nm)',\n",
       "       'Qualcomm MSM8917 Snapdragon 425 (28 nm)',\n",
       "       'Qualcomm MSM8917 Snapdragon 425 (28 nm)Qualcomm MSM8937 Snapdragon 430 (28 nm)',\n",
       "       'Intel Atom Z3580Intel Atom Z3560Intel Atom Z3590',\n",
       "       'Qualcomm MSM8916 Snapdragon 410 (28 nm)',\n",
       "       'Qualcomm MSM8916 Snapdragon 410 (28 nm)Qualcomm MSM8939 Snapdragon 615 (28 nm)',\n",
       "       'Qualcomm MSM8939v2 Snapdragon 616 (28 nm)',\n",
       "       'Intel Atom Z3580 (4 GB RAM model)Intel Atom Z3560 (2 GB RAM model)',\n",
       "       'Qualcomm MSM8953 Snapdragon 625 (14 nm)',\n",
       "       'Qualcomm MSM8996 Snapdragon 820 (14 nm)Qualcomm MSM8996 Snapdragon 821 (14 nm)',\n",
       "       'Mediatek MT6737M (28 nm)',\n",
       "       'Qualcomm MSM8976 Snapdragon 652 (28 nm)',\n",
       "       'Mediatek MT6750 (28 nm)',\n",
       "       'Qualcomm MSM8998 Snapdragon 835 (10 nm)',\n",
       "       'Qualcomm SDM630 Snapdragon 630 (14 nm)Qualcomm SDM660 Snapdragon 660 (14 nm)',\n",
       "       'Qualcomm MSM8926 Snapdragon 400 (28 nm)',\n",
       "       'Qualcomm SDM630 Snapdragon 630 (14 nm)Qualcomm MSM8937 Snapdragon 430 (28 nm)',\n",
       "       'Qualcomm SDM636 Snapdragon 636 (14 nm)',\n",
       "       'Qualcomm SM8150 Snapdragon 855 (7 nm)',\n",
       "       'Qualcomm MSM8996 Snapdragon 821 (14 nm)',\n",
       "       'Qualcomm MSM8212 Snapdragon 200 (28 nm)',\n",
       "       'Qualcomm MSM8928 Snapdragon 400 (28 nm)',\n",
       "       'Mediatek MT6580M (28 nm)',\n",
       "       'Qualcomm SDM632 Snapdragon 632 (14 nm)',\n",
       "       'Mediatek MT6750T (28 nm)', 'Qualcomm Snapdragon SiP 1',\n",
       "       'Qualcomm SDM660 Snapdragon 660 (14 nm)',\n",
       "       'Mediatek MT6737 (28 nm)',\n",
       "       'Qualcomm MSM8996 Snapdragon 820 (14 nm)', 'Intel Atom Z3590',\n",
       "       'Intel Atom x3-C3200', 'Mediatek MT8163 (28 nm)',\n",
       "       'Qualcomm MSM8956 Snapdragon 650', 'Mediatek MT8176',\n",
       "       'Intel Atom x3-C3230',\n",
       "       'Qualcomm MSM8916 Snapdragon 410 (28 nm)Qualcomm MSM8929 Snapdragon 415 (28 nm)',\n",
       "       'Mediatek MT8382V/W (28 nm)', 'Intel Atom Z3560 or Z3580',\n",
       "       'Qualcomm MSM8909W Snapdragon Wear 2100'], dtype=object)"
      ]
     },
     "execution_count": 42,
     "metadata": {},
     "output_type": "execute_result"
    }
   ],
   "source": [
    "df_normalized.Platform_Chipset.unique()"
   ]
  },
  {
   "cell_type": "code",
   "execution_count": 43,
   "metadata": {},
   "outputs": [
    {
     "data": {
      "text/plain": [
       "array(['Microsoft Windows Phone 7', 'Android 4.1 (Jelly Bean)',\n",
       "       'Android 4.2 (Jelly Bean), upgradable to 4.4.2 (KitKat)',\n",
       "       'Android 4.3 (Jelly Bean)', 'Android 4.4 (KitKat)',\n",
       "       'Android 4.4.2 (KitKat)', 'Android 5.0.1 (Lollipop)',\n",
       "       'Android 4.1.2 (Jelly Bean), upgradable to 5.1.1 (Lollipop)',\n",
       "       'Android 4.3 (Jelly Bean), upgradable to 6.0 (Marshmallow)',\n",
       "       'Android 4.1 (Jelly Bean), upgradable to 5.1.1 (Lollipop)', None,\n",
       "       'Android 5.1 (Lollipop)', 'Microsoft Windows Mobile 6 Standard',\n",
       "       'Android 4.0.1 (Ice Cream Sandwich)', 'Android 4.2 (Jelly Bean)',\n",
       "       'Android 4.2.2 (Jelly Bean)',\n",
       "       'Android 4.2 (Jelly Bean), upgradable to 4.3 (Jelly Bean), Waveshare UI',\n",
       "       'Android 4.2 (Jelly Bean), upgradable to 4.2.2 (Jelly Bean), Waveshare UI',\n",
       "       'Microsoft Windows Mobile 6.1 Professional',\n",
       "       'Microsoft Windows Mobile OS for PocketPC',\n",
       "       'Microsoft Windows Mobile 5.0 PocketPC',\n",
       "       'Microsoft Windows Mobile 6.0 Professional',\n",
       "       'Android 4.0 (Ice Cream Sandwich), upgradable to 4.1 (Jelly Bean)',\n",
       "       'Android 4.0 (Ice Cream Sandwich), upgradable to 4.4.2 (KitKat)',\n",
       "       'Android 4.1.2 (Jelly Bean), upgradable to 4.4.2 (KitKat)',\n",
       "       'Android 4.2.2 (Jelly Bean), upgradable to 5.0 (Lollipop)',\n",
       "       'Android 4.4.2 (KitKat), upgradable to 6.0 (Marshmallow)',\n",
       "       'Android 4.3 (Jelly Bean), upgradable to 4.4.2 (KitKat)',\n",
       "       'Android 5.1.1 (Lollipop)',\n",
       "       'Android 10, upgradable to Android 12, ROG UI',\n",
       "       'Android 10, ROG UI',\n",
       "       'Android 11, upgradable to Android 12, ROG UI',\n",
       "       'Android 11, ROG UI', 'Android 12, upgradable to Android 13',\n",
       "       'Android 12', 'Android 13', 'Android 14',\n",
       "       'Android 9.0 (Pie), ROG UI',\n",
       "       'Android 8.1 (Oreo), upgradable to Android 9.0 (Pie), ROG Gaming X UI',\n",
       "       'Android 11',\n",
       "       'Android 4.0 (Ice Cream Sandwich), upgradable to 4.2.1 (Jelly Bean)',\n",
       "       'Android 4.0 (Ice Cream Sandwich)',\n",
       "       'Android 4.0 (Ice Cream Sandwich), upgradable to 4.2 (Jelly Bean)',\n",
       "       'Android 4.0 (Ice Cream Sandwich), Waveshare UI',\n",
       "       'Android 3.2 (Honeycomb), upgradable to 4.0 (Ice Cream Sandwich)',\n",
       "       'Android 3.0 (Honeycomb), 3.2 (Honeycomb), upgradable to 4.0 (Ice Cream Sandwich)',\n",
       "       'Microsoft Windows RT', 'Android 8.0 Oreo',\n",
       "       'Android 8.0 Oreo (Go edition), ZenUI 5',\n",
       "       'Android 13, upgradable to Android 14',\n",
       "       'Android 5.0 (Lollipop), upgradable to 6.0 (Marshmallow), ZenUI',\n",
       "       'Android 5 (Lollipop), upgradable to 6.1 (Marshmallow), ZenUI 2',\n",
       "       'Android 5.0 (Lollipop), ZenUI',\n",
       "       'Android 5.0 (Lollipop), upgradable to 6.0 (Marshmallow)',\n",
       "       'Android 6.1 (Marshmallow), upgradable to 7 (Nougat), ZenUI 3',\n",
       "       'Android 6.1 (Marshmallow), upgradable to Android 8 (Oreo), ZenUI 3',\n",
       "       'Android 6.1 (Marshmallow), upgradable to Android 8.0 (Oreo)',\n",
       "       'Android 6.0.1 (Marshmallow), upgradable to 7.0 (Nougat), ZenUI 3',\n",
       "       'Android 6.0.1 (Marshmallow), upgradable to Android 8.1 (Oreo), ZenUI 4',\n",
       "       'Android 6.1 (Marshmallow), ZenUI 3',\n",
       "       'Android 7 (Nougat), ZenUI 3',\n",
       "       'Android 4.4.2 (KitKat), upgradable to 5.0.2 (Lollipop)',\n",
       "       'Android 7 (Nougat), ZenUI 4',\n",
       "       'Android 7 (Nougat), upgradable to Android 8 (Oreo), ZenUI 4',\n",
       "       'Android 7.1.1 (Nougat), upgradable to Android 8 (Oreo), ZenUI 4',\n",
       "       'Android 7.0 (Nougat), upgradable to Android 8.1 (Oreo), ZenUI 5',\n",
       "       'Android 7.1.1 (Nougat), ZenUI 4',\n",
       "       'Android 4.3 (Jelly Bean), upgradable to 5.0.2 (Lollipop)',\n",
       "       'Android 7.1.1 (Nougat), upgradable to Android 9.0 (Pie)',\n",
       "       'Android 8.0 (Oreo), upgradable to Android 9.0 (Pie), ZenUI 5',\n",
       "       'Android 8.0 (Oreo), upgradable to Android 10',\n",
       "       'Android 9.0 (Pie), upgradable to Android 11, ZenUI',\n",
       "       'Android 10, upgradable to Android 12, ZenUI',\n",
       "       'Android 11, upgradable to Android 13',\n",
       "       'Android 6 (Marshmallow), ZenUI 2', 'Android 6.0 (Marshmallow)',\n",
       "       'Android 6 (Marshmallow), ZenUI 3',\n",
       "       'Android 6.0 (Marshmallow), ZenUI 3.5',\n",
       "       'Android 8 (Oreo), ZenUI 5',\n",
       "       'Android 8.1 (Oreo), upgradable to Android 9.0 (Pie)',\n",
       "       'Android 8.0 (Oreo)',\n",
       "       'Android 5.0.1 (Lollipop), upgradable to 6.0.1 (Marshmallow), ZenUI',\n",
       "       'Android 6.0.1 (Marshmallow), ZenUI', 'Android 5.0 (Lollipop)',\n",
       "       'Android 6.0 (Marshmallow), upgradable to 7.0 (Nougat)',\n",
       "       'Android 7.1 (Nougat)',\n",
       "       'Android 5.0 (Lollipop), upgradable to 6.0.1 (Marshmallow)',\n",
       "       'Android 7.0 (Nougat)', 'Android Wear OS 2.1', 'Android Wear OS'],\n",
       "      dtype=object)"
      ]
     },
     "execution_count": 43,
     "metadata": {},
     "output_type": "execute_result"
    }
   ],
   "source": [
    "df_normalized.Platform_OS.unique()"
   ]
  },
  {
   "cell_type": "code",
   "execution_count": 45,
   "metadata": {},
   "outputs": [
    {
     "data": {
      "text/plain": [
       "array(['No', 'microSDHC (dedicated slot)', 'microSDXC (dedicated slot)',\n",
       "       'microSD (dedicated slot)', 'miniSD', 'MMC/SD, SDIO',\n",
       "       'miniSD, miniSDHC', 'microSDXC (uses shared SIM slot)',\n",
       "       'microSDHC (uses shared SIM slot)'], dtype=object)"
      ]
     },
     "execution_count": 45,
     "metadata": {},
     "output_type": "execute_result"
    }
   ],
   "source": [
    "df_normalized.Memory_Card_slot.unique()"
   ]
  },
  {
   "cell_type": "code",
   "execution_count": 46,
   "metadata": {},
   "outputs": [
    {
     "data": {
      "text/plain": [
       "array([None, '8GB 1GB RAM, 16GB 1GB RAM',\n",
       "       '8GB 1GB RAM, 16GB 1GB RAM, 32GB 1GB RAM',\n",
       "       '4GB 1GB RAM, 8GB 1GB RAM', '8GB 1GB RAM, 16GB 2GB RAM',\n",
       "       '8GB 2GB RAM, 16GB 2GB RAM', '16GB 2GB RAM, 32GB 2GB RAM',\n",
       "       '16GB 1GB RAM, 32GB 1GB RAM', '5MB', '24MB', '16GB 2GB RAM',\n",
       "       '34MB', '35MB', '256MB 64MB RAM', '16GB 1GB RAM', '8GB 1GB RAM',\n",
       "       '64MB RAM, 128MB ROM', '64MB RAM, 64MB ROM', '128MB',\n",
       "       '128MB 64MB RAM', '128MB RAM, 256MB ROM',\n",
       "       'Marvell PXA270M 520 MHz', '4GB 288MB RAM',\n",
       "       '16GB 1GB RAM, 32GB 1GB RAM, 64GB 1GB RAM',\n",
       "       '16GB 2GB RAM, 32GB 2GB RAM, 64GB 2GB RAM', 'eMMC 4.5',\n",
       "       '32GB 2GB RAM, 64GB 2GB RAM', 'eMMC 5.0', 'UFS 3.1',\n",
       "       'UFS 3.1NTFS support for external storage',\n",
       "       'UFS 4.0NTFS support for external storage', 'UFS 3.0', 'UFS 2.1',\n",
       "       '32GB 1GB RAM, 64GB 1GB RAM', '32MB', '55MB', '64MB', 'eMMC 5.1',\n",
       "       'UFS 4.0', '64GB 4GB RAM, 128GB 4GB RAM, 256GB 4GB RAM',\n",
       "       '16GB 2GB RAM, 32GB 2GB RAM, 32GB 4GB RAM, 64GB 4GB RAM, 128GB 4GB RAM',\n",
       "       'UFS 2.0 (128/256GB versions)', '64GB 6GB RAM, 128GB 6GB RAM',\n",
       "       '8GB 2GB RAM, 16GB 2GB RAM, 32GB 2GB RAM', '8GB 2GB RAM',\n",
       "       '1GB RAM',\n",
       "       '64GB 4GB RAM, 64GB 6GB RAM, 128GB 6GB RAM, 256GB 8GB RAM',\n",
       "       '64GB 6GB RAM, 128GB 6GB RAM, 256GB 8GB RAM',\n",
       "       '32GB 3GB RAM, 64GB 4GB RAM',\n",
       "       '32GB 3GB RAM, 64GB 3GB RAM, 64GB 4GB RAM', '32GB 4GB RAM',\n",
       "       '16GB 2GB RAM, 32GB 2GB RAM, 64GB 2GB RAM, 128GB 4GB RAM',\n",
       "       '32GB 4GB RAM, 64GB 4GB RAM, 128GB 4GB RAM',\n",
       "       '32GB 4GB RAM, 64GB 4GB RAM',\n",
       "       '16GB 2GB RAM, 32GB 2GB RAM, 64GB 4GB RAM'], dtype=object)"
      ]
     },
     "execution_count": 46,
     "metadata": {},
     "output_type": "execute_result"
    }
   ],
   "source": [
    "df_normalized.Memory_Internal.unique()\n"
   ]
  },
  {
   "cell_type": "code",
   "execution_count": null,
   "metadata": {},
   "outputs": [],
   "source": []
  }
 ],
 "metadata": {
  "kernelspec": {
   "display_name": "Python 3",
   "language": "python",
   "name": "python3"
  },
  "language_info": {
   "codemirror_mode": {
    "name": "ipython",
    "version": 3
   },
   "file_extension": ".py",
   "mimetype": "text/x-python",
   "name": "python",
   "nbconvert_exporter": "python",
   "pygments_lexer": "ipython3",
   "version": "3.11.5"
  }
 },
 "nbformat": 4,
 "nbformat_minor": 2
}

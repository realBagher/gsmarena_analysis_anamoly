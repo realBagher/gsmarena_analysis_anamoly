{
 "cells": [
  {
   "cell_type": "code",
   "execution_count": 1,
   "metadata": {},
   "outputs": [],
   "source": [
    "import psycopg2\n",
    "import pandas as pd \n",
    "import numpy as np \n",
    "import matplotlib.pyplot as plt \n",
    "import seaborn as sns "
   ]
  },
  {
   "cell_type": "markdown",
   "metadata": {},
   "source": [
    "#### Connecting to database "
   ]
  },
  {
   "cell_type": "code",
   "execution_count": 2,
   "metadata": {},
   "outputs": [],
   "source": [
    "conn = psycopg2.connect(\n",
    "    host = '165.22.22.202' ,\n",
    "    database = 'gsmarena' ,\n",
    "    user = 'anomaly' ,\n",
    "    password = 'Hitman.agent47'    \n",
    ")"
   ]
  },
  {
   "cell_type": "markdown",
   "metadata": {},
   "source": [
    "### OS ~ WEIGHT"
   ]
  },
  {
   "cell_type": "markdown",
   "metadata": {},
   "source": [
    "#### Fetching required tables from database "
   ]
  },
  {
   "cell_type": "code",
   "execution_count": 3,
   "metadata": {},
   "outputs": [],
   "source": [
    "cur = conn.cursor()\n",
    "cur.execute(''' SELECT \"Weight\" , \"OS\"\n",
    "                FROM devices''')\n",
    "\n",
    "rows = cur.fetchall()\n",
    "col_names = [desc[0] for desc in cur.description]\n",
    "\n",
    "os_weight = pd.DataFrame(rows, columns=col_names)"
   ]
  },
  {
   "cell_type": "code",
   "execution_count": 4,
   "metadata": {},
   "outputs": [
    {
     "data": {
      "text/html": [
       "<div>\n",
       "<style scoped>\n",
       "    .dataframe tbody tr th:only-of-type {\n",
       "        vertical-align: middle;\n",
       "    }\n",
       "\n",
       "    .dataframe tbody tr th {\n",
       "        vertical-align: top;\n",
       "    }\n",
       "\n",
       "    .dataframe thead th {\n",
       "        text-align: right;\n",
       "    }\n",
       "</style>\n",
       "<table border=\"1\" class=\"dataframe\">\n",
       "  <thead>\n",
       "    <tr style=\"text-align: right;\">\n",
       "      <th></th>\n",
       "      <th>Weight</th>\n",
       "      <th>OS</th>\n",
       "    </tr>\n",
       "  </thead>\n",
       "  <tbody>\n",
       "    <tr>\n",
       "      <th>0</th>\n",
       "      <td>158.0</td>\n",
       "      <td>Android 11</td>\n",
       "    </tr>\n",
       "    <tr>\n",
       "      <th>1</th>\n",
       "      <td>203.0</td>\n",
       "      <td>Android 11</td>\n",
       "    </tr>\n",
       "    <tr>\n",
       "      <th>2</th>\n",
       "      <td>204.0</td>\n",
       "      <td>Android 11</td>\n",
       "    </tr>\n",
       "    <tr>\n",
       "      <th>3</th>\n",
       "      <td>207.0</td>\n",
       "      <td>Android 11</td>\n",
       "    </tr>\n",
       "    <tr>\n",
       "      <th>4</th>\n",
       "      <td>179.0</td>\n",
       "      <td>Android 12</td>\n",
       "    </tr>\n",
       "    <tr>\n",
       "      <th>...</th>\n",
       "      <td>...</td>\n",
       "      <td>...</td>\n",
       "    </tr>\n",
       "    <tr>\n",
       "      <th>4654</th>\n",
       "      <td>160.0</td>\n",
       "      <td>Android 4.4.2</td>\n",
       "    </tr>\n",
       "    <tr>\n",
       "      <th>4655</th>\n",
       "      <td>143.0</td>\n",
       "      <td>Android 4.4.2</td>\n",
       "    </tr>\n",
       "    <tr>\n",
       "      <th>4656</th>\n",
       "      <td>192.0</td>\n",
       "      <td>Android 5.2</td>\n",
       "    </tr>\n",
       "    <tr>\n",
       "      <th>4657</th>\n",
       "      <td>165.0</td>\n",
       "      <td>Android 5.0.2</td>\n",
       "    </tr>\n",
       "    <tr>\n",
       "      <th>4658</th>\n",
       "      <td>147.0</td>\n",
       "      <td>Android 5.0.2</td>\n",
       "    </tr>\n",
       "  </tbody>\n",
       "</table>\n",
       "<p>4659 rows × 2 columns</p>\n",
       "</div>"
      ],
      "text/plain": [
       "      Weight              OS\n",
       "0      158.0      Android 11\n",
       "1      203.0      Android 11\n",
       "2      204.0      Android 11\n",
       "3      207.0      Android 11\n",
       "4      179.0      Android 12\n",
       "...      ...             ...\n",
       "4654   160.0  Android 4.4.2 \n",
       "4655   143.0  Android 4.4.2 \n",
       "4656   192.0    Android 5.2 \n",
       "4657   165.0  Android 5.0.2 \n",
       "4658   147.0  Android 5.0.2 \n",
       "\n",
       "[4659 rows x 2 columns]"
      ]
     },
     "execution_count": 4,
     "metadata": {},
     "output_type": "execute_result"
    }
   ],
   "source": [
    "os_weight"
   ]
  },
  {
   "cell_type": "code",
   "execution_count": 5,
   "metadata": {},
   "outputs": [
    {
     "name": "stdout",
     "output_type": "stream",
     "text": [
      "<class 'pandas.core.frame.DataFrame'>\n",
      "RangeIndex: 4659 entries, 0 to 4658\n",
      "Data columns (total 2 columns):\n",
      " #   Column  Non-Null Count  Dtype  \n",
      "---  ------  --------------  -----  \n",
      " 0   Weight  4659 non-null   float64\n",
      " 1   OS      4659 non-null   object \n",
      "dtypes: float64(1), object(1)\n",
      "memory usage: 72.9+ KB\n"
     ]
    }
   ],
   "source": [
    "os_weight.info()"
   ]
  },
  {
   "cell_type": "code",
   "execution_count": 6,
   "metadata": {},
   "outputs": [],
   "source": [
    "android = []\n",
    "ios = [] \n",
    "oss = []\n",
    "for device in os_weight.iterrows() :\n",
    "    os = device[1]['OS'] \n",
    "    weight = device[1]['Weight']\n",
    "    \n",
    "    if 'Android' in os or 'android' in os :\n",
    "        android.append(weight)\n",
    "\n",
    "    if 'iOS' in os or 'iPadOS' in os: \n",
    "        ios.append(weight)\n",
    "\n",
    "    oss.append(os.split(' ')[0])"
   ]
  },
  {
   "cell_type": "code",
   "execution_count": 7,
   "metadata": {},
   "outputs": [
    {
     "data": {
      "text/plain": [
       "{'Android',\n",
       " 'EMUI',\n",
       " 'Firefox',\n",
       " 'Harmony',\n",
       " 'HarmonyOS',\n",
       " 'KaiOS',\n",
       " 'Linux',\n",
       " 'Microsoft',\n",
       " 'Tizen',\n",
       " 'iOS',\n",
       " 'iPadOS'}"
      ]
     },
     "execution_count": 7,
     "metadata": {},
     "output_type": "execute_result"
    }
   ],
   "source": [
    "set(oss)"
   ]
  },
  {
   "cell_type": "code",
   "execution_count": 8,
   "metadata": {},
   "outputs": [
    {
     "data": {
      "text/plain": [
       "74"
      ]
     },
     "execution_count": 8,
     "metadata": {},
     "output_type": "execute_result"
    }
   ],
   "source": [
    "len(ios)"
   ]
  },
  {
   "cell_type": "code",
   "execution_count": 9,
   "metadata": {},
   "outputs": [
    {
     "data": {
      "text/plain": [
       "4439"
      ]
     },
     "execution_count": 9,
     "metadata": {},
     "output_type": "execute_result"
    }
   ],
   "source": [
    "len(android)"
   ]
  },
  {
   "cell_type": "code",
   "execution_count": 10,
   "metadata": {},
   "outputs": [
    {
     "name": "stderr",
     "output_type": "stream",
     "text": [
      "/Applications/anaconda3/envs/quera/lib/python3.9/site-packages/seaborn/_oldcore.py:1119: FutureWarning: use_inf_as_na option is deprecated and will be removed in a future version. Convert inf values to NaN before operating instead.\n",
      "  with pd.option_context('mode.use_inf_as_na', True):\n"
     ]
    },
    {
     "data": {
      "text/plain": [
       "<Axes: xlabel='Weight', ylabel='Count'>"
      ]
     },
     "execution_count": 10,
     "metadata": {},
     "output_type": "execute_result"
    },
    {
     "data": {
      "image/png": "[encoded data removed]",
      "text/plain": [
       "<Figure size 640x480 with 1 Axes>"
      ]
     },
     "metadata": {},
     "output_type": "display_data"
    }
   ],
   "source": [
    "sns.histplot(os_weight['Weight'])"
   ]
  },
  {
   "cell_type": "code",
   "execution_count": 11,
   "metadata": {},
   "outputs": [],
   "source": [
    "from scipy.stats import normaltest"
   ]
  },
  {
   "cell_type": "code",
   "execution_count": 12,
   "metadata": {},
   "outputs": [
    {
     "name": "stdout",
     "output_type": "stream",
     "text": [
      "D'Agostino-Pearson Test of : Statistics=2480.5967478245175, p-value=0.0\n"
     ]
    }
   ],
   "source": [
    "\n",
    "stat_dagostino, p_value_dagostino = normaltest(os_weight['Weight'])\n",
    "print(f\"D'Agostino-Pearson Test of : Statistics={stat_dagostino}, p-value={p_value_dagostino}\")"
   ]
  },
  {
   "cell_type": "code",
   "execution_count": 13,
   "metadata": {},
   "outputs": [],
   "source": [
    "from scipy.stats import mannwhitneyu"
   ]
  },
  {
   "cell_type": "code",
   "execution_count": 14,
   "metadata": {},
   "outputs": [
    {
     "data": {
      "text/plain": [
       "9.780609740472955e-06"
      ]
     },
     "execution_count": 14,
     "metadata": {},
     "output_type": "execute_result"
    }
   ],
   "source": [
    "u_statistic, p_value = mannwhitneyu(ios, android )\n",
    "p_value"
   ]
  },
  {
   "cell_type": "code",
   "execution_count": 15,
   "metadata": {},
   "outputs": [
    {
     "data": {
      "text/plain": [
       "4.890304870236478e-06"
      ]
     },
     "execution_count": 15,
     "metadata": {},
     "output_type": "execute_result"
    }
   ],
   "source": [
    "u_statistic, p_value = mannwhitneyu(ios, android , alternative='greater')\n",
    "p_value"
   ]
  },
  {
   "cell_type": "code",
   "execution_count": 16,
   "metadata": {},
   "outputs": [
    {
     "data": {
      "text/plain": [
       "0.9999951117314231"
      ]
     },
     "execution_count": 16,
     "metadata": {},
     "output_type": "execute_result"
    }
   ],
   "source": [
    "u_statistic, p_value = mannwhitneyu( android ,ios, alternative='greater')\n",
    "p_value"
   ]
  },
  {
   "cell_type": "markdown",
   "metadata": {},
   "source": [
    "#### Make weight noraml"
   ]
  },
  {
   "cell_type": "code",
   "execution_count": 17,
   "metadata": {},
   "outputs": [],
   "source": [
    "from scipy.stats import yeojohnson , boxcox "
   ]
  },
  {
   "cell_type": "code",
   "execution_count": 18,
   "metadata": {},
   "outputs": [],
   "source": [
    "os_weight['Normal_Weight'] = yeojohnson(os_weight['Weight'])[0]"
   ]
  },
  {
   "cell_type": "code",
   "execution_count": 19,
   "metadata": {},
   "outputs": [
    {
     "name": "stdout",
     "output_type": "stream",
     "text": [
      "D'Agostino-Pearson Test of : Statistics=23.649224757089353, p-value=7.32210737587853e-06\n"
     ]
    }
   ],
   "source": [
    "\n",
    "stat_dagostino, p_value_dagostino = normaltest(os_weight['Normal_Weight'])\n",
    "print(f\"D'Agostino-Pearson Test of : Statistics={stat_dagostino}, p-value={p_value_dagostino}\")"
   ]
  },
  {
   "cell_type": "code",
   "execution_count": 20,
   "metadata": {},
   "outputs": [],
   "source": [
    "os_weight['Normal_Weight'] = boxcox(os_weight['Weight'])[0]"
   ]
  },
  {
   "cell_type": "code",
   "execution_count": 21,
   "metadata": {},
   "outputs": [
    {
     "name": "stdout",
     "output_type": "stream",
     "text": [
      "D'Agostino-Pearson Test of : Statistics=24.186770316476146, p-value=5.596410442048247e-06\n"
     ]
    }
   ],
   "source": [
    "stat_dagostino, p_value_dagostino = normaltest(os_weight['Normal_Weight'])\n",
    "print(f\"D'Agostino-Pearson Test of : Statistics={stat_dagostino}, p-value={p_value_dagostino}\")"
   ]
  },
  {
   "cell_type": "code",
   "execution_count": null,
   "metadata": {},
   "outputs": [],
   "source": []
  }
 ],
 "metadata": {
  "kernelspec": {
   "display_name": "quera",
   "language": "python",
   "name": "python3"
  },
  "language_info": {
   "codemirror_mode": {
    "name": "ipython",
    "version": 3
   },
   "file_extension": ".py",
   "mimetype": "text/x-python",
   "name": "python",
   "nbconvert_exporter": "python",
   "pygments_lexer": "ipython3",
   "version": "3.9.18"
  }
 },
 "nbformat": 4,
 "nbformat_minor": 2
}
